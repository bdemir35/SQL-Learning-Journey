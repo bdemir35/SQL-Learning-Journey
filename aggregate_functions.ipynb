{
    "metadata": {
        "kernelspec": {
            "name": "SQL",
            "display_name": "SQL",
            "language": "sql"
        },
        "language_info": {
            "name": "sql",
            "version": ""
        }
    },
    "nbformat_minor": 2,
    "nbformat": 4,
    "cells": [
        {
            "cell_type": "markdown",
            "source": [
                "## In this module we are going to look aggreagate functions in SQL\r\n",
                "\r\n",
                "- Aggregate functions give us summary about our data.\r\n",
                "- Makes quick calculations in data set to see what we have\r\n",
                "> Using various of aggregate functions are **MIN MAX COUNT AVERAGE** and **SUM** to summarize and analyze data.\r\n",
                "\r\n",
                "- Advantages of using aggregate functions;\r\n",
                "\r\n",
                "1. _Finding the highest and lowest value_\r\n",
                "2. _Finding the total number of rows_\r\n",
                "3. _Finding the average value_\r\n",
                "\r\n",
                "> **AVG()** Averages a column of values\r\n",
                "\r\n",
                "> **MAX()** Finds the maximum value\r\n",
                "\r\n",
                "> **MIN()** Finds the minimum value\r\n",
                "\r\n",
                "> **SUM()** Sums the column of values\r\n",
                "\r\n",
                "> **COUNT()** Counts the number of values\r\n",
                ""
            ],
            "metadata": {
                "azdata_cell_guid": "831f59c8-af8b-4ba7-a0c6-de7df404aef7"
            },
            "attachments": {}
        },
        {
            "cell_type": "markdown",
            "source": [
                "## **AVERAGE Function**\r\n",
                "\r\n",
                "Rows containing NULL values are ignored by the average function.\r\n",
                ""
            ],
            "metadata": {
                "azdata_cell_guid": "9cef08ab-af5b-45ca-8e6f-409b361fa809"
            },
            "attachments": {}
        },
        {
            "cell_type": "code",
            "source": [
                "SELECT AVG(price) as avg_price -- averages all price column in alters table and giving a meanningful name to our output using alias.\r\n",
                "FROM alters"
            ],
            "metadata": {
                "azdata_cell_guid": "4441dc79-c3d6-4ecf-9ce3-13cc13d90d1a",
                "language": "sql"
            },
            "outputs": [
                {
                    "output_type": "display_data",
                    "data": {
                        "text/html": "(1 row affected)"
                    },
                    "metadata": {}
                },
                {
                    "output_type": "display_data",
                    "data": {
                        "text/html": "Total execution time: 00:00:00.008"
                    },
                    "metadata": {}
                },
                {
                    "output_type": "execute_result",
                    "metadata": {},
                    "execution_count": 3,
                    "data": {
                        "application/vnd.dataresource+json": {
                            "schema": {
                                "fields": [
                                    {
                                        "name": "avg_price"
                                    }
                                ]
                            },
                            "data": [
                                {
                                    "0": "608.8181818181819"
                                }
                            ]
                        },
                        "text/html": [
                            "<table>",
                            "<tr><th>avg_price</th></tr>",
                            "<tr><td>608.8181818181819</td></tr>",
                            "</table>"
                        ]
                    }
                }
            ],
            "execution_count": 3
        },
        {
            "cell_type": "code",
            "source": [
                "SELECT AVG(quantity) as avg_quantity\r\n",
                "FROM alters"
            ],
            "metadata": {
                "language": "sql",
                "azdata_cell_guid": "dc349009-1774-45ff-b9a4-c812d7e25c11"
            },
            "outputs": [
                {
                    "output_type": "display_data",
                    "data": {
                        "text/html": "(1 row affected)"
                    },
                    "metadata": {}
                },
                {
                    "output_type": "display_data",
                    "data": {
                        "text/html": "Total execution time: 00:00:00.010"
                    },
                    "metadata": {}
                },
                {
                    "output_type": "execute_result",
                    "metadata": {},
                    "execution_count": 4,
                    "data": {
                        "application/vnd.dataresource+json": {
                            "schema": {
                                "fields": [
                                    {
                                        "name": "avg_quantity"
                                    }
                                ]
                            },
                            "data": [
                                {
                                    "0": "40"
                                }
                            ]
                        },
                        "text/html": [
                            "<table>",
                            "<tr><th>avg_quantity</th></tr>",
                            "<tr><td>40</td></tr>",
                            "</table>"
                        ]
                    }
                }
            ],
            "execution_count": 4
        }
    ]
}