{
    "metadata": {
        "kernelspec": {
            "name": "SQL",
            "display_name": "SQL",
            "language": "sql"
        },
        "language_info": {
            "name": "sql",
            "version": ""
        }
    },
    "nbformat_minor": 2,
    "nbformat": 4,
    "cells": [
        {
            "cell_type": "markdown",
            "source": [
                "-**Creating Table** with a code  \r\n",
                "1. use **CREATE TABLE** statement\r\n",
                "1. Give a name to your table like New Table Name\r\n",
                "1. In the paranthesis specify your **_column names_** in order \r\n",
                "1. Assign each column _**data type**_\r\n",
                "1. and then _**set primary key or allow nulls**_ in the columns  \r\n",
                "\r\n",
                "Let's see how it works in the example,\r\n",
                ""
            ],
            "metadata": {
                "azdata_cell_guid": "2e586621-0faf-4d23-a65e-65ae8ad3784f"
            },
            "attachments": {}
        },
        {
            "cell_type": "code",
            "source": [
                "CREATE TABLE mynewtable -- Our table's name will be mynewtable\r\n",
                "(\r\n",
                "    id char(10) PRIMARY KEY, -- id column with character data type and allowing maximum 10 characters long and setted as a Primary Key\r\n",
                "    brand char(15) NOT NULL, -- brand column with character data type and allowing maximum 15 characters long and not allowing the NULL values\r\n",
                "    price decimal(8,2) NOT NULL -- price column with decimal data type and allowing 8 digits long before decimal point and 2 digits after decimal point like 12345678.00\r\n",
                ")"
            ],
            "metadata": {
                "azdata_cell_guid": "360bbaf3-37a4-487b-9a20-359de0b7676d",
                "language": "sql"
            },
            "outputs": [
                {
                    "output_type": "display_data",
                    "data": {
                        "text/html": "Commands completed successfully."
                    },
                    "metadata": {}
                },
                {
                    "output_type": "display_data",
                    "data": {
                        "text/html": "Total execution time: 00:00:00.003"
                    },
                    "metadata": {}
                }
            ],
            "execution_count": 2
        },
        {
            "cell_type": "code",
            "source": [
                "SELECT *\r\n",
                "FROM mynewtable"
            ],
            "metadata": {
                "azdata_cell_guid": "024ca3c3-1963-4560-a6bb-6f325b35f231",
                "language": "sql"
            },
            "outputs": [
                {
                    "output_type": "display_data",
                    "data": {
                        "text/html": "(0 rows affected)"
                    },
                    "metadata": {}
                },
                {
                    "output_type": "display_data",
                    "data": {
                        "text/html": "Total execution time: 00:00:00.002"
                    },
                    "metadata": {}
                },
                {
                    "output_type": "execute_result",
                    "metadata": {},
                    "execution_count": 3,
                    "data": {
                        "application/vnd.dataresource+json": {
                            "schema": {
                                "fields": [
                                    {
                                        "name": "id"
                                    },
                                    {
                                        "name": "brand"
                                    },
                                    {
                                        "name": "price"
                                    }
                                ]
                            },
                            "data": []
                        },
                        "text/html": [
                            "<table>",
                            "<tr><th>id</th><th>brand</th><th>price</th></tr>",
                            "</table>"
                        ]
                    }
                }
            ],
            "execution_count": 3
        },
        {
            "cell_type": "markdown",
            "source": [
                "- Let's add some values into our new table. We are going to use **INSERT INTO** statement.  \r\n",
                "- We must to specify which value goes to which column in order. Let's see in example below how it works\r\n",
                ""
            ],
            "metadata": {
                "language": "sql",
                "azdata_cell_guid": "d1aec44e-150b-4cde-a05b-f91cb476a2a5"
            },
            "attachments": {}
        },
        {
            "cell_type": "code",
            "source": [
                "INSERT INTO mynewtable(\r\n",
                "    id,\r\n",
                "    brand,\r\n",
                "    price)\r\n",
                "VALUES (\r\n",
                "    '1234567',\r\n",
                "    'dmr',\r\n",
                "    '925.15')"
            ],
            "metadata": {
                "language": "sql",
                "azdata_cell_guid": "4707c944-a391-4b24-86f4-118b14bd1377"
            },
            "outputs": [
                {
                    "output_type": "display_data",
                    "data": {
                        "text/html": "(1 row affected)"
                    },
                    "metadata": {}
                },
                {
                    "output_type": "display_data",
                    "data": {
                        "text/html": "Total execution time: 00:00:00.003"
                    },
                    "metadata": {}
                }
            ],
            "execution_count": 6
        },
        {
            "cell_type": "markdown",
            "source": [
                "- Let's check our table again to see new added observation into our table"
            ],
            "metadata": {
                "language": "sql",
                "azdata_cell_guid": "805ed30e-221e-460f-ae46-bd067176573c"
            },
            "attachments": {}
        },
        {
            "cell_type": "code",
            "source": [
                "SELECT *\r\n",
                "FROM mynewtable"
            ],
            "metadata": {
                "language": "sql",
                "azdata_cell_guid": "f41bfaef-5877-4f1d-b3af-95ff9dccfcf4"
            },
            "outputs": [
                {
                    "output_type": "display_data",
                    "data": {
                        "text/html": "(1 row affected)"
                    },
                    "metadata": {}
                },
                {
                    "output_type": "display_data",
                    "data": {
                        "text/html": "Total execution time: 00:00:00.011"
                    },
                    "metadata": {}
                },
                {
                    "output_type": "execute_result",
                    "metadata": {},
                    "execution_count": 7,
                    "data": {
                        "application/vnd.dataresource+json": {
                            "schema": {
                                "fields": [
                                    {
                                        "name": "id"
                                    },
                                    {
                                        "name": "brand"
                                    },
                                    {
                                        "name": "price"
                                    }
                                ]
                            },
                            "data": [
                                {
                                    "0": "1234567   ",
                                    "1": "dmr            ",
                                    "2": "925.15"
                                }
                            ]
                        },
                        "text/html": [
                            "<table>",
                            "<tr><th>id</th><th>brand</th><th>price</th></tr>",
                            "<tr><td>1234567   </td><td>dmr            </td><td>925.15</td></tr>",
                            "</table>"
                        ]
                    }
                }
            ],
            "execution_count": 7
        },
        {
            "cell_type": "markdown",
            "source": [
                "- What if we want to add _**more than one row**_ into the table, let's see in the example below\r\n",
                ""
            ],
            "metadata": {
                "language": "sql",
                "azdata_cell_guid": "be0ff016-9852-4c72-ae68-356b00cff970"
            },
            "attachments": {}
        },
        {
            "cell_type": "code",
            "source": [
                "INSERT INTO mynewtable(\r\n",
                "    id,\r\n",
                "    brand,\r\n",
                "    price\r\n",
                ")\r\n",
                "VALUES('22','dmr2','1000.17'),\r\n",
                "      ('33','dmr3','297.25'),\r\n",
                "      ('44','dmr4','546.94')"
            ],
            "metadata": {
                "language": "sql",
                "azdata_cell_guid": "314a2ecc-de8c-4230-be09-b0a18082db3e"
            },
            "outputs": [],
            "execution_count": null
        },
        {
            "cell_type": "markdown",
            "source": [
                "- Check again new values _**correctly added**_ to our table"
            ],
            "metadata": {
                "language": "sql",
                "azdata_cell_guid": "642d9acd-448a-46e5-b3cf-f501c1df2e53"
            },
            "attachments": {}
        },
        {
            "cell_type": "code",
            "source": [
                "SELECT *\r\n",
                "FROM mynewtable"
            ],
            "metadata": {
                "language": "sql",
                "azdata_cell_guid": "5e3cae80-6b91-4ce2-bb8b-f007b2df1ada"
            },
            "outputs": [
                {
                    "output_type": "display_data",
                    "data": {
                        "text/html": "(4 rows affected)"
                    },
                    "metadata": {}
                },
                {
                    "output_type": "display_data",
                    "data": {
                        "text/html": "Total execution time: 00:00:00.009"
                    },
                    "metadata": {}
                },
                {
                    "output_type": "execute_result",
                    "metadata": {},
                    "execution_count": 11,
                    "data": {
                        "application/vnd.dataresource+json": {
                            "schema": {
                                "fields": [
                                    {
                                        "name": "id"
                                    },
                                    {
                                        "name": "brand"
                                    },
                                    {
                                        "name": "price"
                                    }
                                ]
                            },
                            "data": [
                                {
                                    "0": "1234567   ",
                                    "1": "dmr            ",
                                    "2": "925.15"
                                },
                                {
                                    "0": "22        ",
                                    "1": "dmr2           ",
                                    "2": "1000.17"
                                },
                                {
                                    "0": "33        ",
                                    "1": "dmr3           ",
                                    "2": "297.25"
                                },
                                {
                                    "0": "44        ",
                                    "1": "dmr4           ",
                                    "2": "546.94"
                                }
                            ]
                        },
                        "text/html": [
                            "<table>",
                            "<tr><th>id</th><th>brand</th><th>price</th></tr>",
                            "<tr><td>1234567   </td><td>dmr            </td><td>925.15</td></tr>",
                            "<tr><td>22        </td><td>dmr2           </td><td>1000.17</td></tr>",
                            "<tr><td>33        </td><td>dmr3           </td><td>297.25</td></tr>",
                            "<tr><td>44        </td><td>dmr4           </td><td>546.94</td></tr>",
                            "</table>"
                        ]
                    }
                }
            ],
            "execution_count": 11
        }
    ]
}