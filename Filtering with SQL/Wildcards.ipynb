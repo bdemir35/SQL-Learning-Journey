{
    "metadata": {
        "kernelspec": {
            "name": "SQL",
            "display_name": "SQL",
            "language": "sql"
        },
        "language_info": {
            "name": "sql",
            "version": ""
        }
    },
    "nbformat_minor": 2,
    "nbformat": 4,
    "cells": [
        {
            "cell_type": "markdown",
            "source": [
                "## **WILDCARDS**\r\n",
                "---\r\n",
                "\r\n",
                "A wildcard character is used to substitute one or more characters in a string.\r\n",
                "\r\n",
                "Wildcard characters are used with the LIKE operator. The LIKE operator is used in a WHERE clause to search for a specified pattern in a column.\r\n",
                "\r\n",
                "We can use  % , _ , [ ], ^ , - in MS SQL Server.\r\n",
                "- _**%**_  : Represents zero or more characters.\r\n",
                ""
            ],
            "metadata": {
                "azdata_cell_guid": "68452a12-b10e-4cd6-a8a2-777a66a6458d"
            },
            "attachments": {}
        },
        {
            "cell_type": "code",
            "source": [
                "-- I will use Northwind database for this example which has three different tables\r\n",
                "-- alters, customers and categories\r\n",
                "\r\n",
                "SELECT TOP 10 * -- Listing top 10 records in customers table\r\n",
                "FROM customers"
            ],
            "metadata": {
                "azdata_cell_guid": "4f815d45-20f2-4628-91ae-bdd916fae3cf",
                "language": "sql"
            },
            "outputs": [
                {
                    "output_type": "display_data",
                    "data": {
                        "text/html": "(10 rows affected)"
                    },
                    "metadata": {}
                },
                {
                    "output_type": "display_data",
                    "data": {
                        "text/html": "Total execution time: 00:00:00.075"
                    },
                    "metadata": {}
                },
                {
                    "output_type": "execute_result",
                    "execution_count": 1,
                    "data": {
                        "application/vnd.dataresource+json": {
                            "schema": {
                                "fields": [
                                    {
                                        "name": "customerid"
                                    },
                                    {
                                        "name": "companyname"
                                    },
                                    {
                                        "name": "contactname"
                                    },
                                    {
                                        "name": "contacttitle"
                                    },
                                    {
                                        "name": "address"
                                    },
                                    {
                                        "name": "city"
                                    },
                                    {
                                        "name": "region"
                                    },
                                    {
                                        "name": "postalcode"
                                    },
                                    {
                                        "name": "country"
                                    },
                                    {
                                        "name": "phone"
                                    },
                                    {
                                        "name": "fax"
                                    }
                                ]
                            },
                            "data": [
                                {
                                    "0": "BOTTM",
                                    "1": "Bottom-Dollar Markets",
                                    "2": "Elizabeth Lincoln",
                                    "3": "Accounting Manager",
                                    "4": "23 Tsawassen Blvd.",
                                    "5": "Tsawassen",
                                    "6": "BC",
                                    "7": "T2F 8M4",
                                    "8": "Canada",
                                    "9": "604 555-4729",
                                    "10": "604 555-3745"
                                },
                                {
                                    "0": "COMMI",
                                    "1": "Comercio Mineiro",
                                    "2": "Pedro Afonso",
                                    "3": "Sales Associate",
                                    "4": "Av. dos Lusiadas 23",
                                    "5": "Sao Paulo",
                                    "6": "SP",
                                    "7": "05432-043",
                                    "8": "Brazil",
                                    "9": "11 555-7647",
                                    "10": "NULL"
                                },
                                {
                                    "0": "FAMIA",
                                    "1": "Familia Arquibaldo",
                                    "2": "Aria Cruz",
                                    "3": "Marketing Assistant",
                                    "4": "Rua Oros 92",
                                    "5": "Sao Paulo",
                                    "6": "SP",
                                    "7": "05442-030",
                                    "8": "Brazil",
                                    "9": "11 555-9857",
                                    "10": "NULL"
                                },
                                {
                                    "0": "GOURL",
                                    "1": "Gourmet Lanchonetes",
                                    "2": "Andre Fonseca",
                                    "3": "Sales Associate",
                                    "4": "Av. Brasil 442",
                                    "5": "Campinas",
                                    "6": "SP",
                                    "7": "04876-786",
                                    "8": "Brazil",
                                    "9": "11 555-9482",
                                    "10": "NULL"
                                },
                                {
                                    "0": "GREAL",
                                    "1": "Great Lakes Food Market",
                                    "2": "Howard Snyder",
                                    "3": "Marketing Manager",
                                    "4": "2732 Baker Blvd.",
                                    "5": "Eugene",
                                    "6": "OR",
                                    "7": "97403",
                                    "8": "USA",
                                    "9": "503 555-7555",
                                    "10": "NULL"
                                },
                                {
                                    "0": "GROSR",
                                    "1": "GROSELLA-Restaurante",
                                    "2": "Manuel Pereira",
                                    "3": "Owner",
                                    "4": "5� Ave. Los Palos Grandes",
                                    "5": "Caracas",
                                    "6": "DF",
                                    "7": "1081",
                                    "8": "Venezuela",
                                    "9": "2 283-2951",
                                    "10": "2 283-3397"
                                },
                                {
                                    "0": "HANAR",
                                    "1": "Hanari Carnes",
                                    "2": "Mario Pontes",
                                    "3": "Accounting Manager",
                                    "4": "Rua do Paco 67",
                                    "5": "Rio de Janeiro",
                                    "6": "RJ",
                                    "7": "05454-876",
                                    "8": "Brazil",
                                    "9": "21 555-0091",
                                    "10": "21 555-8765"
                                },
                                {
                                    "0": "HILAA",
                                    "1": "HILARIoN-Abastos",
                                    "2": "Carlos Hern�ndez",
                                    "3": "Sales Representative",
                                    "4": "Carrera 22 con Ave. Carlos Soublette #8-35",
                                    "5": "San Cristobal",
                                    "6": "T�chira",
                                    "7": "5022",
                                    "8": "Venezuela",
                                    "9": "5 555-1340",
                                    "10": "5 555-1948"
                                },
                                {
                                    "0": "HUNGC",
                                    "1": "Hungry Coyote Import Store",
                                    "2": "Yoshi Latimer",
                                    "3": "Sales Representative City Center Plaza",
                                    "4": "516 Main St.",
                                    "5": "Elgin",
                                    "6": "OR",
                                    "7": "97827",
                                    "8": "USA",
                                    "9": "503 555-6874",
                                    "10": "503 555-2376"
                                },
                                {
                                    "0": "HUNGO",
                                    "1": "Hungry Owl All-Night Grocers",
                                    "2": "Patricia McKenna",
                                    "3": "Sales Associate",
                                    "4": "8 Johnstown Road",
                                    "5": "Cork",
                                    "6": "Co. Cork",
                                    "7": "NULL",
                                    "8": "Ireland",
                                    "9": "2967 542",
                                    "10": "2967 3333"
                                }
                            ]
                        },
                        "text/html": "<table><tr><th>customerid</th><th>companyname</th><th>contactname</th><th>contacttitle</th><th>address</th><th>city</th><th>region</th><th>postalcode</th><th>country</th><th>phone</th><th>fax</th></tr><tr><td>BOTTM</td><td>Bottom-Dollar Markets</td><td>Elizabeth Lincoln</td><td>Accounting Manager</td><td>23 Tsawassen Blvd.</td><td>Tsawassen</td><td>BC</td><td>T2F 8M4</td><td>Canada</td><td>604 555-4729</td><td>604 555-3745</td></tr><tr><td>COMMI</td><td>Comercio Mineiro</td><td>Pedro Afonso</td><td>Sales Associate</td><td>Av. dos Lusiadas 23</td><td>Sao Paulo</td><td>SP</td><td>05432-043</td><td>Brazil</td><td>11 555-7647</td><td>NULL</td></tr><tr><td>FAMIA</td><td>Familia Arquibaldo</td><td>Aria Cruz</td><td>Marketing Assistant</td><td>Rua Oros 92</td><td>Sao Paulo</td><td>SP</td><td>05442-030</td><td>Brazil</td><td>11 555-9857</td><td>NULL</td></tr><tr><td>GOURL</td><td>Gourmet Lanchonetes</td><td>Andre Fonseca</td><td>Sales Associate</td><td>Av. Brasil 442</td><td>Campinas</td><td>SP</td><td>04876-786</td><td>Brazil</td><td>11 555-9482</td><td>NULL</td></tr><tr><td>GREAL</td><td>Great Lakes Food Market</td><td>Howard Snyder</td><td>Marketing Manager</td><td>2732 Baker Blvd.</td><td>Eugene</td><td>OR</td><td>97403</td><td>USA</td><td>503 555-7555</td><td>NULL</td></tr><tr><td>GROSR</td><td>GROSELLA-Restaurante</td><td>Manuel Pereira</td><td>Owner</td><td>5� Ave. Los Palos Grandes</td><td>Caracas</td><td>DF</td><td>1081</td><td>Venezuela</td><td>2 283-2951</td><td>2 283-3397</td></tr><tr><td>HANAR</td><td>Hanari Carnes</td><td>Mario Pontes</td><td>Accounting Manager</td><td>Rua do Paco 67</td><td>Rio de Janeiro</td><td>RJ</td><td>05454-876</td><td>Brazil</td><td>21 555-0091</td><td>21 555-8765</td></tr><tr><td>HILAA</td><td>HILARIoN-Abastos</td><td>Carlos Hern�ndez</td><td>Sales Representative</td><td>Carrera 22 con Ave. Carlos Soublette #8-35</td><td>San Cristobal</td><td>T�chira</td><td>5022</td><td>Venezuela</td><td>5 555-1340</td><td>5 555-1948</td></tr><tr><td>HUNGC</td><td>Hungry Coyote Import Store</td><td>Yoshi Latimer</td><td>Sales Representative City Center Plaza</td><td>516 Main St.</td><td>Elgin</td><td>OR</td><td>97827</td><td>USA</td><td>503 555-6874</td><td>503 555-2376</td></tr><tr><td>HUNGO</td><td>Hungry Owl All-Night Grocers</td><td>Patricia McKenna</td><td>Sales Associate</td><td>8 Johnstown Road</td><td>Cork</td><td>Co. Cork</td><td>NULL</td><td>Ireland</td><td>2967 542</td><td>2967 3333</td></tr></table>"
                    },
                    "metadata": {}
                }
            ],
            "execution_count": 1
        },
        {
            "cell_type": "code",
            "source": [
                "SELECT customerid, companyname, contactname\r\n",
                "FROM customers\r\n",
                "WHERE contactname LIKE 'E%' -- Finds where contactname starts with letter 'E'"
            ],
            "metadata": {
                "language": "sql",
                "azdata_cell_guid": "8bb1fec6-4e7a-4216-a6a7-96a3a9154ddf"
            },
            "outputs": [
                {
                    "output_type": "display_data",
                    "data": {
                        "text/html": "(3 rows affected)"
                    },
                    "metadata": {}
                },
                {
                    "output_type": "display_data",
                    "data": {
                        "text/html": "Total execution time: 00:00:00.009"
                    },
                    "metadata": {}
                },
                {
                    "output_type": "execute_result",
                    "execution_count": 2,
                    "data": {
                        "application/vnd.dataresource+json": {
                            "schema": {
                                "fields": [
                                    {
                                        "name": "customerid"
                                    },
                                    {
                                        "name": "companyname"
                                    },
                                    {
                                        "name": "contactname"
                                    }
                                ]
                            },
                            "data": [
                                {
                                    "0": "BOTTM",
                                    "1": "Bottom-Dollar Markets",
                                    "2": "Elizabeth Lincoln"
                                },
                                {
                                    "0": "CONSH",
                                    "1": "Consolidated Holdings",
                                    "2": "Elizabeth Brown"
                                },
                                {
                                    "0": "GALED",
                                    "1": "Galeria del gastronomo",
                                    "2": "Eduardo Saavedra"
                                }
                            ]
                        },
                        "text/html": "<table><tr><th>customerid</th><th>companyname</th><th>contactname</th></tr><tr><td>BOTTM</td><td>Bottom-Dollar Markets</td><td>Elizabeth Lincoln</td></tr><tr><td>CONSH</td><td>Consolidated Holdings</td><td>Elizabeth Brown</td></tr><tr><td>GALED</td><td>Galeria del gastronomo</td><td>Eduardo Saavedra</td></tr></table>"
                    },
                    "metadata": {}
                }
            ],
            "execution_count": 2
        },
        {
            "cell_type": "code",
            "source": [
                "SELECT customerid, companyname, contactname\r\n",
                "FROM customers\r\n",
                "WHERE contactname LIKE 'El%' -- Finds where contactname starts with 'El'\r\n",
                "                             -- Notice that 'Eduardo Saavedra' eliminated from the output   "
            ],
            "metadata": {
                "language": "sql",
                "azdata_cell_guid": "ddcc37a2-2582-4a24-b3f8-62d2b5fda24a"
            },
            "outputs": [
                {
                    "output_type": "display_data",
                    "data": {
                        "text/html": "(2 rows affected)"
                    },
                    "metadata": {}
                },
                {
                    "output_type": "display_data",
                    "data": {
                        "text/html": "Total execution time: 00:00:00.012"
                    },
                    "metadata": {}
                },
                {
                    "output_type": "execute_result",
                    "execution_count": 3,
                    "data": {
                        "application/vnd.dataresource+json": {
                            "schema": {
                                "fields": [
                                    {
                                        "name": "customerid"
                                    },
                                    {
                                        "name": "companyname"
                                    },
                                    {
                                        "name": "contactname"
                                    }
                                ]
                            },
                            "data": [
                                {
                                    "0": "BOTTM",
                                    "1": "Bottom-Dollar Markets",
                                    "2": "Elizabeth Lincoln"
                                },
                                {
                                    "0": "CONSH",
                                    "1": "Consolidated Holdings",
                                    "2": "Elizabeth Brown"
                                }
                            ]
                        },
                        "text/html": "<table><tr><th>customerid</th><th>companyname</th><th>contactname</th></tr><tr><td>BOTTM</td><td>Bottom-Dollar Markets</td><td>Elizabeth Lincoln</td></tr><tr><td>CONSH</td><td>Consolidated Holdings</td><td>Elizabeth Brown</td></tr></table>"
                    },
                    "metadata": {}
                }
            ],
            "execution_count": 3
        },
        {
            "cell_type": "code",
            "source": [
                "SELECT customerid, companyname, contactname\r\n",
                "FROM customers\r\n",
                "WHERE contactname LIKE '%n' -- Finding where contact name ends with 'n'"
            ],
            "metadata": {
                "language": "sql",
                "azdata_cell_guid": "ea9f57e7-de8a-40eb-9049-8bf164687dae"
            },
            "outputs": [
                {
                    "output_type": "display_data",
                    "data": {
                        "text/html": "(14 rows affected)"
                    },
                    "metadata": {}
                },
                {
                    "output_type": "display_data",
                    "data": {
                        "text/html": "Total execution time: 00:00:00.009"
                    },
                    "metadata": {}
                },
                {
                    "output_type": "execute_result",
                    "execution_count": 4,
                    "data": {
                        "application/vnd.dataresource+json": {
                            "schema": {
                                "fields": [
                                    {
                                        "name": "customerid"
                                    },
                                    {
                                        "name": "companyname"
                                    },
                                    {
                                        "name": "contactname"
                                    }
                                ]
                            },
                            "data": [
                                {
                                    "0": "BOTTM",
                                    "1": "Bottom-Dollar Markets",
                                    "2": "Elizabeth Lincoln"
                                },
                                {
                                    "0": "LONEP",
                                    "1": "Lonesome Pine Restaurant",
                                    "2": "Fran Wilson"
                                },
                                {
                                    "0": "RATTC",
                                    "1": "Rattlesnake Canyon Grocery",
                                    "2": "Paula Wilson"
                                },
                                {
                                    "0": "THEBI",
                                    "1": "The Big Cheese",
                                    "2": "Liz Nixon"
                                },
                                {
                                    "0": "CACTU",
                                    "1": "Cactus Comidas para llevar",
                                    "2": "Patricio Simpson"
                                },
                                {
                                    "0": "CONSH",
                                    "1": "Consolidated Holdings",
                                    "2": "Elizabeth Brown"
                                },
                                {
                                    "0": "EASTC",
                                    "1": "Eastern Connection",
                                    "2": "Ann Devon"
                                },
                                {
                                    "0": "FOLKO",
                                    "1": "Folk och fa HB",
                                    "2": "Maria Larsson"
                                },
                                {
                                    "0": "FRANK",
                                    "1": "Frankenversand",
                                    "2": "Peter Franken"
                                },
                                {
                                    "0": "SANTG",
                                    "1": "Sante Gourmet",
                                    "2": "Jonas Bergulfsen"
                                },
                                {
                                    "0": "SIMOB",
                                    "1": "Simons bistro",
                                    "2": "Jytte Petersen"
                                },
                                {
                                    "0": "SUPRD",
                                    "1": "Supr�mes delices",
                                    "2": "Pascale Cartrain"
                                },
                                {
                                    "0": "VAFFE",
                                    "1": "Vaffeljernet",
                                    "2": "Palle Ibsen"
                                },
                                {
                                    "0": "WILMK",
                                    "1": "Wilman Kala",
                                    "2": "Matti Karttunen"
                                }
                            ]
                        },
                        "text/html": "<table><tr><th>customerid</th><th>companyname</th><th>contactname</th></tr><tr><td>BOTTM</td><td>Bottom-Dollar Markets</td><td>Elizabeth Lincoln</td></tr><tr><td>LONEP</td><td>Lonesome Pine Restaurant</td><td>Fran Wilson</td></tr><tr><td>RATTC</td><td>Rattlesnake Canyon Grocery</td><td>Paula Wilson</td></tr><tr><td>THEBI</td><td>The Big Cheese</td><td>Liz Nixon</td></tr><tr><td>CACTU</td><td>Cactus Comidas para llevar</td><td>Patricio Simpson</td></tr><tr><td>CONSH</td><td>Consolidated Holdings</td><td>Elizabeth Brown</td></tr><tr><td>EASTC</td><td>Eastern Connection</td><td>Ann Devon</td></tr><tr><td>FOLKO</td><td>Folk och fa HB</td><td>Maria Larsson</td></tr><tr><td>FRANK</td><td>Frankenversand</td><td>Peter Franken</td></tr><tr><td>SANTG</td><td>Sante Gourmet</td><td>Jonas Bergulfsen</td></tr><tr><td>SIMOB</td><td>Simons bistro</td><td>Jytte Petersen</td></tr><tr><td>SUPRD</td><td>Supr�mes delices</td><td>Pascale Cartrain</td></tr><tr><td>VAFFE</td><td>Vaffeljernet</td><td>Palle Ibsen</td></tr><tr><td>WILMK</td><td>Wilman Kala</td><td>Matti Karttunen</td></tr></table>"
                    },
                    "metadata": {}
                }
            ],
            "execution_count": 4
        },
        {
            "cell_type": "code",
            "source": [
                "SELECT customerid, companyname, contactname\r\n",
                "FROM customers\r\n",
                "WHERE contactname LIKE '%on' -- Finds where contact name ends with 'on'"
            ],
            "metadata": {
                "language": "sql",
                "azdata_cell_guid": "3229cefe-7cce-4bdb-8f1b-d21b41c1ed34"
            },
            "outputs": [
                {
                    "output_type": "display_data",
                    "data": {
                        "text/html": "(6 rows affected)"
                    },
                    "metadata": {}
                },
                {
                    "output_type": "display_data",
                    "data": {
                        "text/html": "Total execution time: 00:00:00.009"
                    },
                    "metadata": {}
                },
                {
                    "output_type": "execute_result",
                    "execution_count": 5,
                    "data": {
                        "application/vnd.dataresource+json": {
                            "schema": {
                                "fields": [
                                    {
                                        "name": "customerid"
                                    },
                                    {
                                        "name": "companyname"
                                    },
                                    {
                                        "name": "contactname"
                                    }
                                ]
                            },
                            "data": [
                                {
                                    "0": "LONEP",
                                    "1": "Lonesome Pine Restaurant",
                                    "2": "Fran Wilson"
                                },
                                {
                                    "0": "RATTC",
                                    "1": "Rattlesnake Canyon Grocery",
                                    "2": "Paula Wilson"
                                },
                                {
                                    "0": "THEBI",
                                    "1": "The Big Cheese",
                                    "2": "Liz Nixon"
                                },
                                {
                                    "0": "CACTU",
                                    "1": "Cactus Comidas para llevar",
                                    "2": "Patricio Simpson"
                                },
                                {
                                    "0": "EASTC",
                                    "1": "Eastern Connection",
                                    "2": "Ann Devon"
                                },
                                {
                                    "0": "FOLKO",
                                    "1": "Folk och fa HB",
                                    "2": "Maria Larsson"
                                }
                            ]
                        },
                        "text/html": "<table><tr><th>customerid</th><th>companyname</th><th>contactname</th></tr><tr><td>LONEP</td><td>Lonesome Pine Restaurant</td><td>Fran Wilson</td></tr><tr><td>RATTC</td><td>Rattlesnake Canyon Grocery</td><td>Paula Wilson</td></tr><tr><td>THEBI</td><td>The Big Cheese</td><td>Liz Nixon</td></tr><tr><td>CACTU</td><td>Cactus Comidas para llevar</td><td>Patricio Simpson</td></tr><tr><td>EASTC</td><td>Eastern Connection</td><td>Ann Devon</td></tr><tr><td>FOLKO</td><td>Folk och fa HB</td><td>Maria Larsson</td></tr></table>"
                    },
                    "metadata": {}
                }
            ],
            "execution_count": 5
        },
        {
            "cell_type": "code",
            "source": [
                "SELECT customerid, companyname, contactname\r\n",
                "FROM customers\r\n",
                "WHERE contactname LIKE '%art%' -- Finds where contact name contains 'art' any position in the text"
            ],
            "metadata": {
                "language": "sql",
                "azdata_cell_guid": "07ddd21d-7531-4326-a50e-6ea99d81c30c"
            },
            "outputs": [
                {
                    "output_type": "display_data",
                    "data": {
                        "text/html": "(5 rows affected)"
                    },
                    "metadata": {}
                },
                {
                    "output_type": "display_data",
                    "data": {
                        "text/html": "Total execution time: 00:00:00.009"
                    },
                    "metadata": {}
                },
                {
                    "output_type": "execute_result",
                    "execution_count": 7,
                    "data": {
                        "application/vnd.dataresource+json": {
                            "schema": {
                                "fields": [
                                    {
                                        "name": "customerid"
                                    },
                                    {
                                        "name": "companyname"
                                    },
                                    {
                                        "name": "contactname"
                                    }
                                ]
                            },
                            "data": [
                                {
                                    "0": "SPLIR",
                                    "1": "Split Rail Beer & Ale",
                                    "2": "Art Braunschweiger"
                                },
                                {
                                    "0": "BOLID",
                                    "1": "Bolido Comidas preparadas",
                                    "2": "Martin Sommer"
                                },
                                {
                                    "0": "FOLIG",
                                    "1": "Folies gourmandes",
                                    "2": "Martine Rance"
                                },
                                {
                                    "0": "SUPRD",
                                    "1": "Supr�mes delices",
                                    "2": "Pascale Cartrain"
                                },
                                {
                                    "0": "WILMK",
                                    "1": "Wilman Kala",
                                    "2": "Matti Karttunen"
                                }
                            ]
                        },
                        "text/html": "<table><tr><th>customerid</th><th>companyname</th><th>contactname</th></tr><tr><td>SPLIR</td><td>Split Rail Beer &amp; Ale</td><td>Art Braunschweiger</td></tr><tr><td>BOLID</td><td>Bolido Comidas preparadas</td><td>Martin Sommer</td></tr><tr><td>FOLIG</td><td>Folies gourmandes</td><td>Martine Rance</td></tr><tr><td>SUPRD</td><td>Supr�mes delices</td><td>Pascale Cartrain</td></tr><tr><td>WILMK</td><td>Wilman Kala</td><td>Matti Karttunen</td></tr></table>"
                    },
                    "metadata": {}
                }
            ],
            "execution_count": 7
        },
        {
            "cell_type": "markdown",
            "source": [
                "- **\"_\" (Underscore)** : Represents a single character"
            ],
            "metadata": {
                "language": "sql",
                "azdata_cell_guid": "73188fc4-64bc-4e02-8b4e-18bf5c9f0fbe"
            },
            "attachments": {}
        },
        {
            "cell_type": "code",
            "source": [
                "SELECT customerid, companyname, contactname, city\r\n",
                "FROM customers\r\n",
                "WHERE city LIKE '_antes' -- Finds the city name starting with any character and followed by the 'antes'"
            ],
            "metadata": {
                "language": "sql",
                "azdata_cell_guid": "f301ed59-5d04-4e12-84e7-ed61a628f197"
            },
            "outputs": [
                {
                    "output_type": "display_data",
                    "data": {
                        "text/html": "(2 rows affected)"
                    },
                    "metadata": {}
                },
                {
                    "output_type": "display_data",
                    "data": {
                        "text/html": "Total execution time: 00:00:00.003"
                    },
                    "metadata": {}
                },
                {
                    "output_type": "execute_result",
                    "execution_count": 20,
                    "data": {
                        "application/vnd.dataresource+json": {
                            "schema": {
                                "fields": [
                                    {
                                        "name": "customerid"
                                    },
                                    {
                                        "name": "companyname"
                                    },
                                    {
                                        "name": "contactname"
                                    },
                                    {
                                        "name": "city"
                                    }
                                ]
                            },
                            "data": [
                                {
                                    "0": "DUMON",
                                    "1": "Du monde entier",
                                    "2": "Janine Labrune",
                                    "3": "Nantes"
                                },
                                {
                                    "0": "FRANR",
                                    "1": "France restauration",
                                    "2": "Carine Schmitt",
                                    "3": "Nantes"
                                }
                            ]
                        },
                        "text/html": "<table><tr><th>customerid</th><th>companyname</th><th>contactname</th><th>city</th></tr><tr><td>DUMON</td><td>Du monde entier</td><td>Janine Labrune</td><td>Nantes</td></tr><tr><td>FRANR</td><td>France restauration</td><td>Carine Schmitt</td><td>Nantes</td></tr></table>"
                    },
                    "metadata": {}
                }
            ],
            "execution_count": 20
        },
        {
            "cell_type": "code",
            "source": [
                "SELECT customerid, companyname, contactname, city\r\n",
                "FROM customers\r\n",
                "WHERE city LIKE '_e%' -- Finds any values that 'e' in the second position"
            ],
            "metadata": {
                "language": "sql",
                "azdata_cell_guid": "91f4e47a-5b61-47c2-8108-4787c13cffab"
            },
            "outputs": [
                {
                    "output_type": "display_data",
                    "data": {
                        "text/html": "(16 rows affected)"
                    },
                    "metadata": {}
                },
                {
                    "output_type": "display_data",
                    "data": {
                        "text/html": "Total execution time: 00:00:00.013"
                    },
                    "metadata": {}
                },
                {
                    "output_type": "execute_result",
                    "metadata": {},
                    "execution_count": 10,
                    "data": {
                        "application/vnd.dataresource+json": {
                            "schema": {
                                "fields": [
                                    {
                                        "name": "customerid"
                                    },
                                    {
                                        "name": "companyname"
                                    },
                                    {
                                        "name": "contactname"
                                    },
                                    {
                                        "name": "city"
                                    }
                                ]
                            },
                            "data": [
                                {
                                    "0": "WELLI",
                                    "1": "Wellington Importadora",
                                    "2": "Paula Parente",
                                    "3": "Resende"
                                },
                                {
                                    "0": "WHITC",
                                    "1": "White Clover Markets",
                                    "2": "Karl Jablonski",
                                    "3": "Seattle"
                                },
                                {
                                    "0": "ALFKI",
                                    "1": "Alfreds Futterkiste",
                                    "2": "Maria Anders",
                                    "3": "Berlin"
                                },
                                {
                                    "0": "ANATR",
                                    "1": "Ana Trujillo Emparedados y helados",
                                    "2": "Ana Trujillo",
                                    "3": "Mexico D.F."
                                },
                                {
                                    "0": "ANTON",
                                    "1": "Antonio Moreno Taqueria",
                                    "2": "Antonio Moreno",
                                    "3": "Mexico D.F."
                                },
                                {
                                    "0": "CENTC",
                                    "1": "Centro comercial Moctezuma",
                                    "2": "Francisco Chang",
                                    "3": "Mexico D.F."
                                },
                                {
                                    "0": "CHOPS",
                                    "1": "Chop-suey Chinese",
                                    "2": "Yang Wang",
                                    "3": "Bern"
                                },
                                {
                                    "0": "GODOS",
                                    "1": "Godos Cocina Tipica",
                                    "2": "Jose Pedro Freyre",
                                    "3": "Sevilla"
                                },
                                {
                                    "0": "MAGAA",
                                    "1": "Magazzini Alimentari Riuniti",
                                    "2": "Giovanni Rovelli",
                                    "3": "Bergamo"
                                },
                                {
                                    "0": "MORGK",
                                    "1": "Morgenstern Gesundkost",
                                    "2": "Alexander Feuer",
                                    "3": "Leipzig"
                                },
                                {
                                    "0": "PERIC",
                                    "1": "Pericles Comidas cl�sicas",
                                    "2": "Guillermo Fern�ndez",
                                    "3": "Mexico D.F."
                                },
                                {
                                    "0": "REGGC",
                                    "1": "Reggiani Caseifici",
                                    "2": "Maurizio Moroni",
                                    "3": "Reggio Emilia"
                                },
                                {
                                    "0": "RICSU",
                                    "1": "Richter Supermarkt",
                                    "2": "Michael Holz",
                                    "3": "Geneve"
                                },
                                {
                                    "0": "TORTU",
                                    "1": "Tortuga Restaurante",
                                    "2": "Miguel Angel Paolino",
                                    "3": "Mexico D.F."
                                },
                                {
                                    "0": "VINET",
                                    "1": "Vins et alcools Chevalier",
                                    "2": "Paul Henriot",
                                    "3": "Reims"
                                },
                                {
                                    "0": "WILMK",
                                    "1": "Wilman Kala",
                                    "2": "Matti Karttunen",
                                    "3": "Helsinki"
                                }
                            ]
                        },
                        "text/html": [
                            "<table>",
                            "<tr><th>customerid</th><th>companyname</th><th>contactname</th><th>city</th></tr>",
                            "<tr><td>WELLI</td><td>Wellington Importadora</td><td>Paula Parente</td><td>Resende</td></tr>",
                            "<tr><td>WHITC</td><td>White Clover Markets</td><td>Karl Jablonski</td><td>Seattle</td></tr>",
                            "<tr><td>ALFKI</td><td>Alfreds Futterkiste</td><td>Maria Anders</td><td>Berlin</td></tr>",
                            "<tr><td>ANATR</td><td>Ana Trujillo Emparedados y helados</td><td>Ana Trujillo</td><td>Mexico D.F.</td></tr>",
                            "<tr><td>ANTON</td><td>Antonio Moreno Taqueria</td><td>Antonio Moreno</td><td>Mexico D.F.</td></tr>",
                            "<tr><td>CENTC</td><td>Centro comercial Moctezuma</td><td>Francisco Chang</td><td>Mexico D.F.</td></tr>",
                            "<tr><td>CHOPS</td><td>Chop-suey Chinese</td><td>Yang Wang</td><td>Bern</td></tr>",
                            "<tr><td>GODOS</td><td>Godos Cocina Tipica</td><td>Jose Pedro Freyre</td><td>Sevilla</td></tr>",
                            "<tr><td>MAGAA</td><td>Magazzini Alimentari Riuniti</td><td>Giovanni Rovelli</td><td>Bergamo</td></tr>",
                            "<tr><td>MORGK</td><td>Morgenstern Gesundkost</td><td>Alexander Feuer</td><td>Leipzig</td></tr>",
                            "<tr><td>PERIC</td><td>Pericles Comidas cl�sicas</td><td>Guillermo Fern�ndez</td><td>Mexico D.F.</td></tr>",
                            "<tr><td>REGGC</td><td>Reggiani Caseifici</td><td>Maurizio Moroni</td><td>Reggio Emilia</td></tr>",
                            "<tr><td>RICSU</td><td>Richter Supermarkt</td><td>Michael Holz</td><td>Geneve</td></tr>",
                            "<tr><td>TORTU</td><td>Tortuga Restaurante</td><td>Miguel Angel Paolino</td><td>Mexico D.F.</td></tr>",
                            "<tr><td>VINET</td><td>Vins et alcools Chevalier</td><td>Paul Henriot</td><td>Reims</td></tr>",
                            "<tr><td>WILMK</td><td>Wilman Kala</td><td>Matti Karttunen</td><td>Helsinki</td></tr>",
                            "</table>"
                        ]
                    }
                }
            ],
            "execution_count": 10
        },
        {
            "cell_type": "markdown",
            "source": [
                "There are lots of combination with \"%\" and \"\\_\"  \r\n",
                "You can find a bunch of example [here](https://www.w3schools.com/sql/sql_wildcards.asp)."
            ],
            "metadata": {
                "azdata_cell_guid": "b0688b98-d4a6-40c2-9cc9-cd42c32366ed"
            },
            "attachments": {}
        },
        {
            "cell_type": "markdown",
            "source": [
                "- **[]** : Represent any single character within the brackets\r\n",
                "\r\n",
                ""
            ],
            "metadata": {
                "azdata_cell_guid": "ade2e296-e342-4bba-9b5f-0f86519eae0c"
            },
            "attachments": {}
        },
        {
            "cell_type": "code",
            "source": [
                "SELECT customerid, companyname, contactname, city\r\n",
                "FROM customers\r\n",
                "WHERE city LIKE '[abs]%' -- Finds the city name starts with \"a\" , \"b\" or \"s\""
            ],
            "metadata": {
                "azdata_cell_guid": "10a6f51b-a64d-43e0-b55a-e85af57e6663",
                "language": "sql"
            },
            "outputs": [
                {
                    "output_type": "display_data",
                    "data": {
                        "text/html": "(29 rows affected)"
                    },
                    "metadata": {}
                },
                {
                    "output_type": "display_data",
                    "data": {
                        "text/html": "Total execution time: 00:00:00.010"
                    },
                    "metadata": {}
                },
                {
                    "output_type": "execute_result",
                    "metadata": {},
                    "execution_count": 13,
                    "data": {
                        "application/vnd.dataresource+json": {
                            "schema": {
                                "fields": [
                                    {
                                        "name": "customerid"
                                    },
                                    {
                                        "name": "companyname"
                                    },
                                    {
                                        "name": "contactname"
                                    },
                                    {
                                        "name": "city"
                                    }
                                ]
                            },
                            "data": [
                                {
                                    "0": "COMMI",
                                    "1": "Comercio Mineiro",
                                    "2": "Pedro Afonso",
                                    "3": "Sao Paulo"
                                },
                                {
                                    "0": "FAMIA",
                                    "1": "Familia Arquibaldo",
                                    "2": "Aria Cruz",
                                    "3": "Sao Paulo"
                                },
                                {
                                    "0": "HILAA",
                                    "1": "HILARIoN-Abastos",
                                    "2": "Carlos Hern�ndez",
                                    "3": "San Cristobal"
                                },
                                {
                                    "0": "LETSS",
                                    "1": "Lets Stop N Shop",
                                    "2": "Jaime Yorres",
                                    "3": "San Francisco"
                                },
                                {
                                    "0": "LILAS",
                                    "1": "LILA-Supermercado",
                                    "2": "Carlos Gonz�lez",
                                    "3": "Barquisimeto"
                                },
                                {
                                    "0": "OLDWO",
                                    "1": "Old World Delicatessen",
                                    "2": "Rene Phillips",
                                    "3": "Anchorage"
                                },
                                {
                                    "0": "QUEEN",
                                    "1": "Queen Cozinha",
                                    "2": "L�cia Carvalho",
                                    "3": "Sao Paulo"
                                },
                                {
                                    "0": "RATTC",
                                    "1": "Rattlesnake Canyon Grocery",
                                    "2": "Paula Wilson",
                                    "3": "Albuquerque"
                                },
                                {
                                    "0": "SAVEA",
                                    "1": "Save-a-lot Markets",
                                    "2": "Jose Pavarotti",
                                    "3": "Boise"
                                },
                                {
                                    "0": "THECR",
                                    "1": "The Cracker Box",
                                    "2": "Liu Wong",
                                    "3": "Butte"
                                },
                                {
                                    "0": "TRADH",
                                    "1": "Tradicao Hipermercados",
                                    "2": "Anabela Domingues",
                                    "3": "Sao Paulo"
                                },
                                {
                                    "0": "WHITC",
                                    "1": "White Clover Markets",
                                    "2": "Karl Jablonski",
                                    "3": "Seattle"
                                },
                                {
                                    "0": "ALFKI",
                                    "1": "Alfreds Futterkiste",
                                    "2": "Maria Anders",
                                    "3": "Berlin"
                                },
                                {
                                    "0": "BLONP",
                                    "1": "Blondel pere et fils",
                                    "2": "Frederique Citeaux",
                                    "3": "Strasbourg"
                                },
                                {
                                    "0": "CACTU",
                                    "1": "Cactus Comidas para llevar",
                                    "2": "Patricio Simpson",
                                    "3": "Buenos Aires"
                                },
                                {
                                    "0": "CHOPS",
                                    "1": "Chop-suey Chinese",
                                    "2": "Yang Wang",
                                    "3": "Bern"
                                },
                                {
                                    "0": "DRACD",
                                    "1": "Drachenblut Delikatessen",
                                    "2": "Sven Ottlieb",
                                    "3": "Aachen"
                                },
                                {
                                    "0": "PICCO",
                                    "1": "Piccolo und mehr",
                                    "2": "Georg Pipps",
                                    "3": "Salzburg"
                                },
                                {
                                    "0": "FOLKO",
                                    "1": "Folk och fa HB",
                                    "2": "Maria Larsson",
                                    "3": "Bracke"
                                },
                                {
                                    "0": "GALED",
                                    "1": "Galeria del gastronomo",
                                    "2": "Eduardo Saavedra",
                                    "3": "Barcelona"
                                },
                                {
                                    "0": "GODOS",
                                    "1": "Godos Cocina Tipica",
                                    "2": "Jose Pedro Freyre",
                                    "3": "Sevilla"
                                },
                                {
                                    "0": "KOENE",
                                    "1": "Koniglich Essen",
                                    "2": "Philip Cramer",
                                    "3": "Brandenburg"
                                },
                                {
                                    "0": "MAGAA",
                                    "1": "Magazzini Alimentari Riuniti",
                                    "2": "Giovanni Rovelli",
                                    "3": "Bergamo"
                                },
                                {
                                    "0": "MAISD",
                                    "1": "Maison Dewey",
                                    "2": "Catherine Dewey",
                                    "3": "Bruxelles"
                                },
                                {
                                    "0": "OCEAN",
                                    "1": "Oceano Atl�ntico Ltda.",
                                    "2": "Yvonne Moncada",
                                    "3": "Buenos Aires"
                                },
                                {
                                    "0": "RANCH",
                                    "1": "Rancho grande",
                                    "2": "Sergio Gutierrez",
                                    "3": "Buenos Aires"
                                },
                                {
                                    "0": "SANTG",
                                    "1": "Sante Gourmet",
                                    "2": "Jonas Bergulfsen",
                                    "3": "Stavern"
                                },
                                {
                                    "0": "VAFFE",
                                    "1": "Vaffeljernet",
                                    "2": "Palle Ibsen",
                                    "3": "arhus"
                                },
                                {
                                    "0": "WANDK",
                                    "1": "Die Wandernde Kuh",
                                    "2": "Rita Muller",
                                    "3": "Stuttgart"
                                }
                            ]
                        },
                        "text/html": [
                            "<table>",
                            "<tr><th>customerid</th><th>companyname</th><th>contactname</th><th>city</th></tr>",
                            "<tr><td>COMMI</td><td>Comercio Mineiro</td><td>Pedro Afonso</td><td>Sao Paulo</td></tr>",
                            "<tr><td>FAMIA</td><td>Familia Arquibaldo</td><td>Aria Cruz</td><td>Sao Paulo</td></tr>",
                            "<tr><td>HILAA</td><td>HILARIoN-Abastos</td><td>Carlos Hern�ndez</td><td>San Cristobal</td></tr>",
                            "<tr><td>LETSS</td><td>Lets Stop N Shop</td><td>Jaime Yorres</td><td>San Francisco</td></tr>",
                            "<tr><td>LILAS</td><td>LILA-Supermercado</td><td>Carlos Gonz�lez</td><td>Barquisimeto</td></tr>",
                            "<tr><td>OLDWO</td><td>Old World Delicatessen</td><td>Rene Phillips</td><td>Anchorage</td></tr>",
                            "<tr><td>QUEEN</td><td>Queen Cozinha</td><td>L�cia Carvalho</td><td>Sao Paulo</td></tr>",
                            "<tr><td>RATTC</td><td>Rattlesnake Canyon Grocery</td><td>Paula Wilson</td><td>Albuquerque</td></tr>",
                            "<tr><td>SAVEA</td><td>Save-a-lot Markets</td><td>Jose Pavarotti</td><td>Boise</td></tr>",
                            "<tr><td>THECR</td><td>The Cracker Box</td><td>Liu Wong</td><td>Butte</td></tr>",
                            "<tr><td>TRADH</td><td>Tradicao Hipermercados</td><td>Anabela Domingues</td><td>Sao Paulo</td></tr>",
                            "<tr><td>WHITC</td><td>White Clover Markets</td><td>Karl Jablonski</td><td>Seattle</td></tr>",
                            "<tr><td>ALFKI</td><td>Alfreds Futterkiste</td><td>Maria Anders</td><td>Berlin</td></tr>",
                            "<tr><td>BLONP</td><td>Blondel pere et fils</td><td>Frederique Citeaux</td><td>Strasbourg</td></tr>",
                            "<tr><td>CACTU</td><td>Cactus Comidas para llevar</td><td>Patricio Simpson</td><td>Buenos Aires</td></tr>",
                            "<tr><td>CHOPS</td><td>Chop-suey Chinese</td><td>Yang Wang</td><td>Bern</td></tr>",
                            "<tr><td>DRACD</td><td>Drachenblut Delikatessen</td><td>Sven Ottlieb</td><td>Aachen</td></tr>",
                            "<tr><td>PICCO</td><td>Piccolo und mehr</td><td>Georg Pipps</td><td>Salzburg</td></tr>",
                            "<tr><td>FOLKO</td><td>Folk och fa HB</td><td>Maria Larsson</td><td>Bracke</td></tr>",
                            "<tr><td>GALED</td><td>Galeria del gastronomo</td><td>Eduardo Saavedra</td><td>Barcelona</td></tr>",
                            "<tr><td>GODOS</td><td>Godos Cocina Tipica</td><td>Jose Pedro Freyre</td><td>Sevilla</td></tr>",
                            "<tr><td>KOENE</td><td>Koniglich Essen</td><td>Philip Cramer</td><td>Brandenburg</td></tr>",
                            "<tr><td>MAGAA</td><td>Magazzini Alimentari Riuniti</td><td>Giovanni Rovelli</td><td>Bergamo</td></tr>",
                            "<tr><td>MAISD</td><td>Maison Dewey</td><td>Catherine Dewey</td><td>Bruxelles</td></tr>",
                            "<tr><td>OCEAN</td><td>Oceano Atl�ntico Ltda.</td><td>Yvonne Moncada</td><td>Buenos Aires</td></tr>",
                            "<tr><td>RANCH</td><td>Rancho grande</td><td>Sergio Gutierrez</td><td>Buenos Aires</td></tr>",
                            "<tr><td>SANTG</td><td>Sante Gourmet</td><td>Jonas Bergulfsen</td><td>Stavern</td></tr>",
                            "<tr><td>VAFFE</td><td>Vaffeljernet</td><td>Palle Ibsen</td><td>arhus</td></tr>",
                            "<tr><td>WANDK</td><td>Die Wandernde Kuh</td><td>Rita Muller</td><td>Stuttgart</td></tr>",
                            "</table>"
                        ]
                    }
                }
            ],
            "execution_count": 13
        },
        {
            "cell_type": "code",
            "source": [
                "SELECT customerid, companyname, contactname, city\r\n",
                "FROM customers\r\n",
                "WHERE city LIKE '[a-c]%' -- Finds the city name starts with from \"a\" to \"c\"\r\n",
                "                         -- Basically it gives a specifed range    "
            ],
            "metadata": {
                "language": "sql",
                "azdata_cell_guid": "2b997579-f554-4434-8a25-d640da4e22f1"
            },
            "outputs": [
                {
                    "output_type": "display_data",
                    "data": {
                        "text/html": "(23 rows affected)"
                    },
                    "metadata": {}
                },
                {
                    "output_type": "display_data",
                    "data": {
                        "text/html": "Total execution time: 00:00:00.030"
                    },
                    "metadata": {}
                },
                {
                    "output_type": "execute_result",
                    "metadata": {},
                    "execution_count": 14,
                    "data": {
                        "application/vnd.dataresource+json": {
                            "schema": {
                                "fields": [
                                    {
                                        "name": "customerid"
                                    },
                                    {
                                        "name": "companyname"
                                    },
                                    {
                                        "name": "contactname"
                                    },
                                    {
                                        "name": "city"
                                    }
                                ]
                            },
                            "data": [
                                {
                                    "0": "GOURL",
                                    "1": "Gourmet Lanchonetes",
                                    "2": "Andre Fonseca",
                                    "3": "Campinas"
                                },
                                {
                                    "0": "GROSR",
                                    "1": "GROSELLA-Restaurante",
                                    "2": "Manuel Pereira",
                                    "3": "Caracas"
                                },
                                {
                                    "0": "HUNGO",
                                    "1": "Hungry Owl All-Night Grocers",
                                    "2": "Patricia McKenna",
                                    "3": "Cork"
                                },
                                {
                                    "0": "ISLAT",
                                    "1": "Island Trading",
                                    "2": "Helen Bennett",
                                    "3": "Cowes"
                                },
                                {
                                    "0": "LILAS",
                                    "1": "LILA-Supermercado",
                                    "2": "Carlos Gonz�lez",
                                    "3": "Barquisimeto"
                                },
                                {
                                    "0": "OLDWO",
                                    "1": "Old World Delicatessen",
                                    "2": "Rene Phillips",
                                    "3": "Anchorage"
                                },
                                {
                                    "0": "RATTC",
                                    "1": "Rattlesnake Canyon Grocery",
                                    "2": "Paula Wilson",
                                    "3": "Albuquerque"
                                },
                                {
                                    "0": "SAVEA",
                                    "1": "Save-a-lot Markets",
                                    "2": "Jose Pavarotti",
                                    "3": "Boise"
                                },
                                {
                                    "0": "THECR",
                                    "1": "The Cracker Box",
                                    "2": "Liu Wong",
                                    "3": "Butte"
                                },
                                {
                                    "0": "ALFKI",
                                    "1": "Alfreds Futterkiste",
                                    "2": "Maria Anders",
                                    "3": "Berlin"
                                },
                                {
                                    "0": "CACTU",
                                    "1": "Cactus Comidas para llevar",
                                    "2": "Patricio Simpson",
                                    "3": "Buenos Aires"
                                },
                                {
                                    "0": "CHOPS",
                                    "1": "Chop-suey Chinese",
                                    "2": "Yang Wang",
                                    "3": "Bern"
                                },
                                {
                                    "0": "DRACD",
                                    "1": "Drachenblut Delikatessen",
                                    "2": "Sven Ottlieb",
                                    "3": "Aachen"
                                },
                                {
                                    "0": "FOLKO",
                                    "1": "Folk och fa HB",
                                    "2": "Maria Larsson",
                                    "3": "Bracke"
                                },
                                {
                                    "0": "GALED",
                                    "1": "Galeria del gastronomo",
                                    "2": "Eduardo Saavedra",
                                    "3": "Barcelona"
                                },
                                {
                                    "0": "KOENE",
                                    "1": "Koniglich Essen",
                                    "2": "Philip Cramer",
                                    "3": "Brandenburg"
                                },
                                {
                                    "0": "MAGAA",
                                    "1": "Magazzini Alimentari Riuniti",
                                    "2": "Giovanni Rovelli",
                                    "3": "Bergamo"
                                },
                                {
                                    "0": "MAISD",
                                    "1": "Maison Dewey",
                                    "2": "Catherine Dewey",
                                    "3": "Bruxelles"
                                },
                                {
                                    "0": "OCEAN",
                                    "1": "Oceano Atl�ntico Ltda.",
                                    "2": "Yvonne Moncada",
                                    "3": "Buenos Aires"
                                },
                                {
                                    "0": "QUICK",
                                    "1": "QUICK-Stop",
                                    "2": "Horst Kloss",
                                    "3": "Cunewalde"
                                },
                                {
                                    "0": "RANCH",
                                    "1": "Rancho grande",
                                    "2": "Sergio Gutierrez",
                                    "3": "Buenos Aires"
                                },
                                {
                                    "0": "SUPRD",
                                    "1": "Supr�mes delices",
                                    "2": "Pascale Cartrain",
                                    "3": "Charleroi"
                                },
                                {
                                    "0": "VAFFE",
                                    "1": "Vaffeljernet",
                                    "2": "Palle Ibsen",
                                    "3": "arhus"
                                }
                            ]
                        },
                        "text/html": [
                            "<table>",
                            "<tr><th>customerid</th><th>companyname</th><th>contactname</th><th>city</th></tr>",
                            "<tr><td>GOURL</td><td>Gourmet Lanchonetes</td><td>Andre Fonseca</td><td>Campinas</td></tr>",
                            "<tr><td>GROSR</td><td>GROSELLA-Restaurante</td><td>Manuel Pereira</td><td>Caracas</td></tr>",
                            "<tr><td>HUNGO</td><td>Hungry Owl All-Night Grocers</td><td>Patricia McKenna</td><td>Cork</td></tr>",
                            "<tr><td>ISLAT</td><td>Island Trading</td><td>Helen Bennett</td><td>Cowes</td></tr>",
                            "<tr><td>LILAS</td><td>LILA-Supermercado</td><td>Carlos Gonz�lez</td><td>Barquisimeto</td></tr>",
                            "<tr><td>OLDWO</td><td>Old World Delicatessen</td><td>Rene Phillips</td><td>Anchorage</td></tr>",
                            "<tr><td>RATTC</td><td>Rattlesnake Canyon Grocery</td><td>Paula Wilson</td><td>Albuquerque</td></tr>",
                            "<tr><td>SAVEA</td><td>Save-a-lot Markets</td><td>Jose Pavarotti</td><td>Boise</td></tr>",
                            "<tr><td>THECR</td><td>The Cracker Box</td><td>Liu Wong</td><td>Butte</td></tr>",
                            "<tr><td>ALFKI</td><td>Alfreds Futterkiste</td><td>Maria Anders</td><td>Berlin</td></tr>",
                            "<tr><td>CACTU</td><td>Cactus Comidas para llevar</td><td>Patricio Simpson</td><td>Buenos Aires</td></tr>",
                            "<tr><td>CHOPS</td><td>Chop-suey Chinese</td><td>Yang Wang</td><td>Bern</td></tr>",
                            "<tr><td>DRACD</td><td>Drachenblut Delikatessen</td><td>Sven Ottlieb</td><td>Aachen</td></tr>",
                            "<tr><td>FOLKO</td><td>Folk och fa HB</td><td>Maria Larsson</td><td>Bracke</td></tr>",
                            "<tr><td>GALED</td><td>Galeria del gastronomo</td><td>Eduardo Saavedra</td><td>Barcelona</td></tr>",
                            "<tr><td>KOENE</td><td>Koniglich Essen</td><td>Philip Cramer</td><td>Brandenburg</td></tr>",
                            "<tr><td>MAGAA</td><td>Magazzini Alimentari Riuniti</td><td>Giovanni Rovelli</td><td>Bergamo</td></tr>",
                            "<tr><td>MAISD</td><td>Maison Dewey</td><td>Catherine Dewey</td><td>Bruxelles</td></tr>",
                            "<tr><td>OCEAN</td><td>Oceano Atl�ntico Ltda.</td><td>Yvonne Moncada</td><td>Buenos Aires</td></tr>",
                            "<tr><td>QUICK</td><td>QUICK-Stop</td><td>Horst Kloss</td><td>Cunewalde</td></tr>",
                            "<tr><td>RANCH</td><td>Rancho grande</td><td>Sergio Gutierrez</td><td>Buenos Aires</td></tr>",
                            "<tr><td>SUPRD</td><td>Supr�mes delices</td><td>Pascale Cartrain</td><td>Charleroi</td></tr>",
                            "<tr><td>VAFFE</td><td>Vaffeljernet</td><td>Palle Ibsen</td><td>arhus</td></tr>",
                            "</table>"
                        ]
                    }
                }
            ],
            "execution_count": 14
        }
    ]
}