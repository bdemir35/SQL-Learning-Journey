{
    "metadata": {
        "kernelspec": {
            "name": "SQL",
            "display_name": "SQL",
            "language": "sql"
        },
        "language_info": {
            "name": "sql",
            "version": ""
        }
    },
    "nbformat_minor": 2,
    "nbformat": 4,
    "cells": [
        {
            "cell_type": "markdown",
            "source": [
                "# Advanced Filtering with **IN**, **OR** and **NOT**\r\n",
                "\r\n",
                "1. **IN** operator\r\n",
                "> Comma delimited list of values  \r\n",
                "> Should enclosed with ()\r\n",
                "\r\n",
                "I will use customers and alters table from NorthWind data base to show some examples for in operator.\r\n",
                "\r\n",
                "\r\n",
                ""
            ],
            "metadata": {
                "azdata_cell_guid": "8844bcc8-c7a2-419d-b572-ecc90004bef7"
            },
            "attachments": {}
        },
        {
            "cell_type": "code",
            "source": [
                "SELECT TOP 10 *\r\n",
                "FROM customers"
            ],
            "metadata": {
                "azdata_cell_guid": "85b945bd-c23c-40e2-b9b6-f79288972f6a",
                "language": "sql"
            },
            "outputs": [
                {
                    "output_type": "display_data",
                    "data": {
                        "text/html": "(10 rows affected)"
                    },
                    "metadata": {}
                },
                {
                    "output_type": "display_data",
                    "data": {
                        "text/html": "Total execution time: 00:00:00.005"
                    },
                    "metadata": {}
                },
                {
                    "output_type": "execute_result",
                    "metadata": {},
                    "execution_count": 1,
                    "data": {
                        "application/vnd.dataresource+json": {
                            "schema": {
                                "fields": [
                                    {
                                        "name": "customerid"
                                    },
                                    {
                                        "name": "companyname"
                                    },
                                    {
                                        "name": "contactname"
                                    },
                                    {
                                        "name": "contacttitle"
                                    },
                                    {
                                        "name": "address"
                                    },
                                    {
                                        "name": "city"
                                    },
                                    {
                                        "name": "region"
                                    },
                                    {
                                        "name": "postalcode"
                                    },
                                    {
                                        "name": "country"
                                    },
                                    {
                                        "name": "phone"
                                    },
                                    {
                                        "name": "fax"
                                    }
                                ]
                            },
                            "data": [
                                {
                                    "0": "BOTTM",
                                    "1": "Bottom-Dollar Markets",
                                    "2": "Elizabeth Lincoln",
                                    "3": "Accounting Manager",
                                    "4": "23 Tsawassen Blvd.",
                                    "5": "Tsawassen",
                                    "6": "BC",
                                    "7": "T2F 8M4",
                                    "8": "Canada",
                                    "9": "604 555-4729",
                                    "10": "604 555-3745"
                                },
                                {
                                    "0": "COMMI",
                                    "1": "Comercio Mineiro",
                                    "2": "Pedro Afonso",
                                    "3": "Sales Associate",
                                    "4": "Av. dos Lusiadas 23",
                                    "5": "Sao Paulo",
                                    "6": "SP",
                                    "7": "05432-043",
                                    "8": "Brazil",
                                    "9": "11 555-7647",
                                    "10": "NULL"
                                },
                                {
                                    "0": "FAMIA",
                                    "1": "Familia Arquibaldo",
                                    "2": "Aria Cruz",
                                    "3": "Marketing Assistant",
                                    "4": "Rua Oros 92",
                                    "5": "Sao Paulo",
                                    "6": "SP",
                                    "7": "05442-030",
                                    "8": "Brazil",
                                    "9": "11 555-9857",
                                    "10": "NULL"
                                },
                                {
                                    "0": "GOURL",
                                    "1": "Gourmet Lanchonetes",
                                    "2": "Andre Fonseca",
                                    "3": "Sales Associate",
                                    "4": "Av. Brasil 442",
                                    "5": "Campinas",
                                    "6": "SP",
                                    "7": "04876-786",
                                    "8": "Brazil",
                                    "9": "11 555-9482",
                                    "10": "NULL"
                                },
                                {
                                    "0": "GREAL",
                                    "1": "Great Lakes Food Market",
                                    "2": "Howard Snyder",
                                    "3": "Marketing Manager",
                                    "4": "2732 Baker Blvd.",
                                    "5": "Eugene",
                                    "6": "OR",
                                    "7": "97403",
                                    "8": "USA",
                                    "9": "503 555-7555",
                                    "10": "NULL"
                                },
                                {
                                    "0": "GROSR",
                                    "1": "GROSELLA-Restaurante",
                                    "2": "Manuel Pereira",
                                    "3": "Owner",
                                    "4": "5� Ave. Los Palos Grandes",
                                    "5": "Caracas",
                                    "6": "DF",
                                    "7": "1081",
                                    "8": "Venezuela",
                                    "9": "2 283-2951",
                                    "10": "2 283-3397"
                                },
                                {
                                    "0": "HANAR",
                                    "1": "Hanari Carnes",
                                    "2": "Mario Pontes",
                                    "3": "Accounting Manager",
                                    "4": "Rua do Paco 67",
                                    "5": "Rio de Janeiro",
                                    "6": "RJ",
                                    "7": "05454-876",
                                    "8": "Brazil",
                                    "9": "21 555-0091",
                                    "10": "21 555-8765"
                                },
                                {
                                    "0": "HILAA",
                                    "1": "HILARIoN-Abastos",
                                    "2": "Carlos Hern�ndez",
                                    "3": "Sales Representative",
                                    "4": "Carrera 22 con Ave. Carlos Soublette #8-35",
                                    "5": "San Cristobal",
                                    "6": "T�chira",
                                    "7": "5022",
                                    "8": "Venezuela",
                                    "9": "5 555-1340",
                                    "10": "5 555-1948"
                                },
                                {
                                    "0": "HUNGC",
                                    "1": "Hungry Coyote Import Store",
                                    "2": "Yoshi Latimer",
                                    "3": "Sales Representative City Center Plaza",
                                    "4": "516 Main St.",
                                    "5": "Elgin",
                                    "6": "OR",
                                    "7": "97827",
                                    "8": "USA",
                                    "9": "503 555-6874",
                                    "10": "503 555-2376"
                                },
                                {
                                    "0": "HUNGO",
                                    "1": "Hungry Owl All-Night Grocers",
                                    "2": "Patricia McKenna",
                                    "3": "Sales Associate",
                                    "4": "8 Johnstown Road",
                                    "5": "Cork",
                                    "6": "Co. Cork",
                                    "7": "NULL",
                                    "8": "Ireland",
                                    "9": "2967 542",
                                    "10": "2967 3333"
                                }
                            ]
                        },
                        "text/html": [
                            "<table>",
                            "<tr><th>customerid</th><th>companyname</th><th>contactname</th><th>contacttitle</th><th>address</th><th>city</th><th>region</th><th>postalcode</th><th>country</th><th>phone</th><th>fax</th></tr>",
                            "<tr><td>BOTTM</td><td>Bottom-Dollar Markets</td><td>Elizabeth Lincoln</td><td>Accounting Manager</td><td>23 Tsawassen Blvd.</td><td>Tsawassen</td><td>BC</td><td>T2F 8M4</td><td>Canada</td><td>604 555-4729</td><td>604 555-3745</td></tr>",
                            "<tr><td>COMMI</td><td>Comercio Mineiro</td><td>Pedro Afonso</td><td>Sales Associate</td><td>Av. dos Lusiadas 23</td><td>Sao Paulo</td><td>SP</td><td>05432-043</td><td>Brazil</td><td>11 555-7647</td><td>NULL</td></tr>",
                            "<tr><td>FAMIA</td><td>Familia Arquibaldo</td><td>Aria Cruz</td><td>Marketing Assistant</td><td>Rua Oros 92</td><td>Sao Paulo</td><td>SP</td><td>05442-030</td><td>Brazil</td><td>11 555-9857</td><td>NULL</td></tr>",
                            "<tr><td>GOURL</td><td>Gourmet Lanchonetes</td><td>Andre Fonseca</td><td>Sales Associate</td><td>Av. Brasil 442</td><td>Campinas</td><td>SP</td><td>04876-786</td><td>Brazil</td><td>11 555-9482</td><td>NULL</td></tr>",
                            "<tr><td>GREAL</td><td>Great Lakes Food Market</td><td>Howard Snyder</td><td>Marketing Manager</td><td>2732 Baker Blvd.</td><td>Eugene</td><td>OR</td><td>97403</td><td>USA</td><td>503 555-7555</td><td>NULL</td></tr>",
                            "<tr><td>GROSR</td><td>GROSELLA-Restaurante</td><td>Manuel Pereira</td><td>Owner</td><td>5� Ave. Los Palos Grandes</td><td>Caracas</td><td>DF</td><td>1081</td><td>Venezuela</td><td>2 283-2951</td><td>2 283-3397</td></tr>",
                            "<tr><td>HANAR</td><td>Hanari Carnes</td><td>Mario Pontes</td><td>Accounting Manager</td><td>Rua do Paco 67</td><td>Rio de Janeiro</td><td>RJ</td><td>05454-876</td><td>Brazil</td><td>21 555-0091</td><td>21 555-8765</td></tr>",
                            "<tr><td>HILAA</td><td>HILARIoN-Abastos</td><td>Carlos Hern�ndez</td><td>Sales Representative</td><td>Carrera 22 con Ave. Carlos Soublette #8-35</td><td>San Cristobal</td><td>T�chira</td><td>5022</td><td>Venezuela</td><td>5 555-1340</td><td>5 555-1948</td></tr>",
                            "<tr><td>HUNGC</td><td>Hungry Coyote Import Store</td><td>Yoshi Latimer</td><td>Sales Representative City Center Plaza</td><td>516 Main St.</td><td>Elgin</td><td>OR</td><td>97827</td><td>USA</td><td>503 555-6874</td><td>503 555-2376</td></tr>",
                            "<tr><td>HUNGO</td><td>Hungry Owl All-Night Grocers</td><td>Patricia McKenna</td><td>Sales Associate</td><td>8 Johnstown Road</td><td>Cork</td><td>Co. Cork</td><td>NULL</td><td>Ireland</td><td>2967 542</td><td>2967 3333</td></tr>",
                            "</table>"
                        ]
                    }
                }
            ],
            "execution_count": 1
        },
        {
            "cell_type": "code",
            "source": [
                "SELECT customerid, contactname, city, country \r\n",
                "FROM customers\r\n",
                "WHERE country IN ('Canada', 'USA') -- filtering string values with single quotes"
            ],
            "metadata": {
                "azdata_cell_guid": "34387c9a-f5b3-4817-a774-687c5a016ed3",
                "language": "sql"
            },
            "outputs": [
                {
                    "output_type": "display_data",
                    "data": {
                        "text/html": "(16 rows affected)"
                    },
                    "metadata": {}
                },
                {
                    "output_type": "display_data",
                    "data": {
                        "text/html": "Total execution time: 00:00:00.013"
                    },
                    "metadata": {}
                },
                {
                    "output_type": "execute_result",
                    "metadata": {},
                    "execution_count": 2,
                    "data": {
                        "application/vnd.dataresource+json": {
                            "schema": {
                                "fields": [
                                    {
                                        "name": "customerid"
                                    },
                                    {
                                        "name": "contactname"
                                    },
                                    {
                                        "name": "city"
                                    },
                                    {
                                        "name": "country"
                                    }
                                ]
                            },
                            "data": [
                                {
                                    "0": "BOTTM",
                                    "1": "Elizabeth Lincoln",
                                    "2": "Tsawassen",
                                    "3": "Canada"
                                },
                                {
                                    "0": "GREAL",
                                    "1": "Howard Snyder",
                                    "2": "Eugene",
                                    "3": "USA"
                                },
                                {
                                    "0": "HUNGC",
                                    "1": "Yoshi Latimer",
                                    "2": "Elgin",
                                    "3": "USA"
                                },
                                {
                                    "0": "LAUGB",
                                    "1": "Yoshi Tannamuri",
                                    "2": "Vancouver",
                                    "3": "Canada"
                                },
                                {
                                    "0": "LAZYK",
                                    "1": "John Steel",
                                    "2": "Walla Walla",
                                    "3": "USA"
                                },
                                {
                                    "0": "LETSS",
                                    "1": "Jaime Yorres",
                                    "2": "San Francisco",
                                    "3": "USA"
                                },
                                {
                                    "0": "LONEP",
                                    "1": "Fran Wilson",
                                    "2": "Portland",
                                    "3": "USA"
                                },
                                {
                                    "0": "MEREP",
                                    "1": "Jean Fresniere",
                                    "2": "Montreal",
                                    "3": "Canada"
                                },
                                {
                                    "0": "OLDWO",
                                    "1": "Rene Phillips",
                                    "2": "Anchorage",
                                    "3": "USA"
                                },
                                {
                                    "0": "RATTC",
                                    "1": "Paula Wilson",
                                    "2": "Albuquerque",
                                    "3": "USA"
                                },
                                {
                                    "0": "SAVEA",
                                    "1": "Jose Pavarotti",
                                    "2": "Boise",
                                    "3": "USA"
                                },
                                {
                                    "0": "SPLIR",
                                    "1": "Art Braunschweiger",
                                    "2": "Lander",
                                    "3": "USA"
                                },
                                {
                                    "0": "THEBI",
                                    "1": "Liz Nixon",
                                    "2": "Portland",
                                    "3": "USA"
                                },
                                {
                                    "0": "THECR",
                                    "1": "Liu Wong",
                                    "2": "Butte",
                                    "3": "USA"
                                },
                                {
                                    "0": "TRAIH",
                                    "1": "Helvetius Nagy",
                                    "2": "Kirkland",
                                    "3": "USA"
                                },
                                {
                                    "0": "WHITC",
                                    "1": "Karl Jablonski",
                                    "2": "Seattle",
                                    "3": "USA"
                                }
                            ]
                        },
                        "text/html": [
                            "<table>",
                            "<tr><th>customerid</th><th>contactname</th><th>city</th><th>country</th></tr>",
                            "<tr><td>BOTTM</td><td>Elizabeth Lincoln</td><td>Tsawassen</td><td>Canada</td></tr>",
                            "<tr><td>GREAL</td><td>Howard Snyder</td><td>Eugene</td><td>USA</td></tr>",
                            "<tr><td>HUNGC</td><td>Yoshi Latimer</td><td>Elgin</td><td>USA</td></tr>",
                            "<tr><td>LAUGB</td><td>Yoshi Tannamuri</td><td>Vancouver</td><td>Canada</td></tr>",
                            "<tr><td>LAZYK</td><td>John Steel</td><td>Walla Walla</td><td>USA</td></tr>",
                            "<tr><td>LETSS</td><td>Jaime Yorres</td><td>San Francisco</td><td>USA</td></tr>",
                            "<tr><td>LONEP</td><td>Fran Wilson</td><td>Portland</td><td>USA</td></tr>",
                            "<tr><td>MEREP</td><td>Jean Fresniere</td><td>Montreal</td><td>Canada</td></tr>",
                            "<tr><td>OLDWO</td><td>Rene Phillips</td><td>Anchorage</td><td>USA</td></tr>",
                            "<tr><td>RATTC</td><td>Paula Wilson</td><td>Albuquerque</td><td>USA</td></tr>",
                            "<tr><td>SAVEA</td><td>Jose Pavarotti</td><td>Boise</td><td>USA</td></tr>",
                            "<tr><td>SPLIR</td><td>Art Braunschweiger</td><td>Lander</td><td>USA</td></tr>",
                            "<tr><td>THEBI</td><td>Liz Nixon</td><td>Portland</td><td>USA</td></tr>",
                            "<tr><td>THECR</td><td>Liu Wong</td><td>Butte</td><td>USA</td></tr>",
                            "<tr><td>TRAIH</td><td>Helvetius Nagy</td><td>Kirkland</td><td>USA</td></tr>",
                            "<tr><td>WHITC</td><td>Karl Jablonski</td><td>Seattle</td><td>USA</td></tr>",
                            "</table>"
                        ]
                    }
                }
            ],
            "execution_count": 2
        },
        {
            "cell_type": "code",
            "source": [
                "SELECT TOP 10 *\r\n",
                "FROM alters"
            ],
            "metadata": {
                "language": "sql",
                "azdata_cell_guid": "ac36a8fb-7b40-41a3-a5b2-7cbacb72a5b6"
            },
            "outputs": [
                {
                    "output_type": "display_data",
                    "data": {
                        "text/html": "(10 rows affected)"
                    },
                    "metadata": {}
                },
                {
                    "output_type": "display_data",
                    "data": {
                        "text/html": "Total execution time: 00:00:00.010"
                    },
                    "metadata": {}
                },
                {
                    "output_type": "execute_result",
                    "metadata": {},
                    "execution_count": 3,
                    "data": {
                        "application/vnd.dataresource+json": {
                            "schema": {
                                "fields": [
                                    {
                                        "name": "itemid"
                                    },
                                    {
                                        "name": "itemref"
                                    },
                                    {
                                        "name": "itemname"
                                    },
                                    {
                                        "name": "quantity"
                                    },
                                    {
                                        "name": "price"
                                    }
                                ]
                            },
                            "data": [
                                {
                                    "0": "5",
                                    "1": "221",
                                    "2": "Chef Anton's Gumbo Mix",
                                    "3": "0",
                                    "4": "2135"
                                },
                                {
                                    "0": "9",
                                    "1": "461",
                                    "2": "Mishi Kobe Niku",
                                    "3": "29",
                                    "4": "97"
                                },
                                {
                                    "0": "17",
                                    "1": "761",
                                    "2": "Alice Mutton",
                                    "3": "0",
                                    "4": "39"
                                },
                                {
                                    "0": "24",
                                    "1": "1011",
                                    "2": "Guaraná Fantástica",
                                    "3": "20",
                                    "4": "45"
                                },
                                {
                                    "0": "28",
                                    "1": "1271",
                                    "2": "Rössle Sauerkraut",
                                    "3": "26",
                                    "4": "456"
                                },
                                {
                                    "0": "29",
                                    "1": "1261",
                                    "2": "Thüringer Rostbratwurst",
                                    "3": "0",
                                    "4": "12379"
                                },
                                {
                                    "0": "42",
                                    "1": "2051",
                                    "2": "Singaporean Hokkien Fried Mee",
                                    "3": "26",
                                    "4": "14"
                                },
                                {
                                    "0": "53",
                                    "1": "2461",
                                    "2": "Perth Pasties",
                                    "3": "0",
                                    "4": "328"
                                },
                                {
                                    "0": "1",
                                    "1": "11",
                                    "2": "Chai",
                                    "3": "39",
                                    "4": "18"
                                },
                                {
                                    "0": "2",
                                    "1": "11",
                                    "2": "Chang",
                                    "3": "17",
                                    "4": "19"
                                }
                            ]
                        },
                        "text/html": [
                            "<table>",
                            "<tr><th>itemid</th><th>itemref</th><th>itemname</th><th>quantity</th><th>price</th></tr>",
                            "<tr><td>5</td><td>221</td><td>Chef Anton's Gumbo Mix</td><td>0</td><td>2135</td></tr>",
                            "<tr><td>9</td><td>461</td><td>Mishi Kobe Niku</td><td>29</td><td>97</td></tr>",
                            "<tr><td>17</td><td>761</td><td>Alice Mutton</td><td>0</td><td>39</td></tr>",
                            "<tr><td>24</td><td>1011</td><td>Guaraná Fantástica</td><td>20</td><td>45</td></tr>",
                            "<tr><td>28</td><td>1271</td><td>Rössle Sauerkraut</td><td>26</td><td>456</td></tr>",
                            "<tr><td>29</td><td>1261</td><td>Thüringer Rostbratwurst</td><td>0</td><td>12379</td></tr>",
                            "<tr><td>42</td><td>2051</td><td>Singaporean Hokkien Fried Mee</td><td>26</td><td>14</td></tr>",
                            "<tr><td>53</td><td>2461</td><td>Perth Pasties</td><td>0</td><td>328</td></tr>",
                            "<tr><td>1</td><td>11</td><td>Chai</td><td>39</td><td>18</td></tr>",
                            "<tr><td>2</td><td>11</td><td>Chang</td><td>17</td><td>19</td></tr>",
                            "</table>"
                        ]
                    }
                }
            ],
            "execution_count": 3
        },
        {
            "cell_type": "code",
            "source": [
                "SELECT itemid, itemname, quantity\r\n",
                "FROM alters\r\n",
                "WHERE quantity IN (10,20,30,40) --filtering with numbers , not need quotes"
            ],
            "metadata": {
                "language": "sql",
                "azdata_cell_guid": "ebeb100d-8e7a-4fad-a78b-8ac01f205856"
            },
            "outputs": [
                {
                    "output_type": "display_data",
                    "data": {
                        "text/html": "(6 rows affected)"
                    },
                    "metadata": {}
                },
                {
                    "output_type": "display_data",
                    "data": {
                        "text/html": "Total execution time: 00:00:00.009"
                    },
                    "metadata": {}
                },
                {
                    "output_type": "execute_result",
                    "metadata": {},
                    "execution_count": 4,
                    "data": {
                        "application/vnd.dataresource+json": {
                            "schema": {
                                "fields": [
                                    {
                                        "name": "itemid"
                                    },
                                    {
                                        "name": "itemname"
                                    },
                                    {
                                        "name": "quantity"
                                    }
                                ]
                            },
                            "data": [
                                {
                                    "0": "24",
                                    "1": "Guaraná Fantástica",
                                    "2": "20"
                                },
                                {
                                    "0": "49",
                                    "1": "Maxilaku",
                                    "2": "10"
                                },
                                {
                                    "0": "51",
                                    "1": "Manjimup Dried Apples",
                                    "2": "20"
                                },
                                {
                                    "0": "20",
                                    "1": "Sir Rodney's Marmalade",
                                    "2": "40"
                                },
                                {
                                    "0": "30",
                                    "1": "Nord-Ost Matjeshering",
                                    "2": "10"
                                },
                                {
                                    "0": "35",
                                    "1": "Steeleye Stout",
                                    "2": "20"
                                }
                            ]
                        },
                        "text/html": [
                            "<table>",
                            "<tr><th>itemid</th><th>itemname</th><th>quantity</th></tr>",
                            "<tr><td>24</td><td>Guaraná Fantástica</td><td>20</td></tr>",
                            "<tr><td>49</td><td>Maxilaku</td><td>10</td></tr>",
                            "<tr><td>51</td><td>Manjimup Dried Apples</td><td>20</td></tr>",
                            "<tr><td>20</td><td>Sir Rodney's Marmalade</td><td>40</td></tr>",
                            "<tr><td>30</td><td>Nord-Ost Matjeshering</td><td>10</td></tr>",
                            "<tr><td>35</td><td>Steeleye Stout</td><td>20</td></tr>",
                            "</table>"
                        ]
                    }
                }
            ],
            "execution_count": 4
        },
        {
            "cell_type": "markdown",
            "source": [
                "2. **OR** operator\r\n",
                "\r\n",
                "> Using **OR** operator for any rows matching the specific conditions  "
            ],
            "metadata": {
                "azdata_cell_guid": "95154017-ddde-42d6-8804-c451294b1b48"
            },
            "attachments": {}
        },
        {
            "cell_type": "code",
            "source": [
                "SELECT itemname, quantity, price \r\n",
                "FROM alters\r\n",
                "WHERE quantity = 20 OR quantity = 10 -- Filtering quantity's is equal to 10 or 20"
            ],
            "metadata": {
                "azdata_cell_guid": "eb22b38f-ba98-42f8-ba2e-2d2318440459",
                "language": "sql"
            },
            "outputs": [
                {
                    "output_type": "display_data",
                    "data": {
                        "text/html": "(5 rows affected)"
                    },
                    "metadata": {}
                },
                {
                    "output_type": "display_data",
                    "data": {
                        "text/html": "Total execution time: 00:00:00.009"
                    },
                    "metadata": {}
                },
                {
                    "output_type": "execute_result",
                    "metadata": {},
                    "execution_count": 15,
                    "data": {
                        "application/vnd.dataresource+json": {
                            "schema": {
                                "fields": [
                                    {
                                        "name": "itemname"
                                    },
                                    {
                                        "name": "quantity"
                                    },
                                    {
                                        "name": "price"
                                    }
                                ]
                            },
                            "data": [
                                {
                                    "0": "Guaraná Fantástica",
                                    "1": "20",
                                    "2": "45"
                                },
                                {
                                    "0": "Maxilaku",
                                    "1": "10",
                                    "2": "20"
                                },
                                {
                                    "0": "Manjimup Dried Apples",
                                    "1": "20",
                                    "2": "53"
                                },
                                {
                                    "0": "Nord-Ost Matjeshering",
                                    "1": "10",
                                    "2": "2589"
                                },
                                {
                                    "0": "Steeleye Stout",
                                    "1": "20",
                                    "2": "18"
                                }
                            ]
                        },
                        "text/html": [
                            "<table>",
                            "<tr><th>itemname</th><th>quantity</th><th>price</th></tr>",
                            "<tr><td>Guaraná Fantástica</td><td>20</td><td>45</td></tr>",
                            "<tr><td>Maxilaku</td><td>10</td><td>20</td></tr>",
                            "<tr><td>Manjimup Dried Apples</td><td>20</td><td>53</td></tr>",
                            "<tr><td>Nord-Ost Matjeshering</td><td>10</td><td>2589</td></tr>",
                            "<tr><td>Steeleye Stout</td><td>20</td><td>18</td></tr>",
                            "</table>"
                        ]
                    }
                }
            ],
            "execution_count": 15
        },
        {
            "cell_type": "markdown",
            "source": [
                "3. **NOT** Operator\n",
                "\n",
                "> Using **NOT** opeartor for any rows not matching the specific conditions"
            ],
            "metadata": {
                "language": "sql",
                "azdata_cell_guid": "5269a7d1-7879-4acf-bf61-b36661afdd57"
            },
            "attachments": {}
        },
        {
            "cell_type": "code",
            "source": [
                "SELECT contactname, city, country \r\n",
                "FROM customers\r\n",
                "WHERE  country = 'USA'\r\n",
                "\r\n",
                "-- As you see above customers table filtered by the country name equal to USA and then output has 13 observations\r\n",
                "\r\n",
                "SELECT contactname, city, country \r\n",
                "FROM customers\r\n",
                "WHERE  country = 'USA' AND NOT city = 'Portland' -- Filtered out the city is not equal to Portland and now we have 11 observations"
            ],
            "metadata": {
                "language": "sql",
                "azdata_cell_guid": "e4283de1-51cf-49f5-a195-c2c49e9009e9"
            },
            "outputs": [
                {
                    "output_type": "display_data",
                    "data": {
                        "text/html": "(13 rows affected)"
                    },
                    "metadata": {}
                },
                {
                    "output_type": "display_data",
                    "data": {
                        "text/html": "(11 rows affected)"
                    },
                    "metadata": {}
                },
                {
                    "output_type": "display_data",
                    "data": {
                        "text/html": "Total execution time: 00:00:00.014"
                    },
                    "metadata": {}
                },
                {
                    "output_type": "execute_result",
                    "metadata": {},
                    "execution_count": 17,
                    "data": {
                        "application/vnd.dataresource+json": {
                            "schema": {
                                "fields": [
                                    {
                                        "name": "contactname"
                                    },
                                    {
                                        "name": "city"
                                    },
                                    {
                                        "name": "country"
                                    }
                                ]
                            },
                            "data": [
                                {
                                    "0": "Howard Snyder",
                                    "1": "Eugene",
                                    "2": "USA"
                                },
                                {
                                    "0": "Yoshi Latimer",
                                    "1": "Elgin",
                                    "2": "USA"
                                },
                                {
                                    "0": "John Steel",
                                    "1": "Walla Walla",
                                    "2": "USA"
                                },
                                {
                                    "0": "Jaime Yorres",
                                    "1": "San Francisco",
                                    "2": "USA"
                                },
                                {
                                    "0": "Fran Wilson",
                                    "1": "Portland",
                                    "2": "USA"
                                },
                                {
                                    "0": "Rene Phillips",
                                    "1": "Anchorage",
                                    "2": "USA"
                                },
                                {
                                    "0": "Paula Wilson",
                                    "1": "Albuquerque",
                                    "2": "USA"
                                },
                                {
                                    "0": "Jose Pavarotti",
                                    "1": "Boise",
                                    "2": "USA"
                                },
                                {
                                    "0": "Art Braunschweiger",
                                    "1": "Lander",
                                    "2": "USA"
                                },
                                {
                                    "0": "Liz Nixon",
                                    "1": "Portland",
                                    "2": "USA"
                                },
                                {
                                    "0": "Liu Wong",
                                    "1": "Butte",
                                    "2": "USA"
                                },
                                {
                                    "0": "Helvetius Nagy",
                                    "1": "Kirkland",
                                    "2": "USA"
                                },
                                {
                                    "0": "Karl Jablonski",
                                    "1": "Seattle",
                                    "2": "USA"
                                }
                            ]
                        },
                        "text/html": [
                            "<table>",
                            "<tr><th>contactname</th><th>city</th><th>country</th></tr>",
                            "<tr><td>Howard Snyder</td><td>Eugene</td><td>USA</td></tr>",
                            "<tr><td>Yoshi Latimer</td><td>Elgin</td><td>USA</td></tr>",
                            "<tr><td>John Steel</td><td>Walla Walla</td><td>USA</td></tr>",
                            "<tr><td>Jaime Yorres</td><td>San Francisco</td><td>USA</td></tr>",
                            "<tr><td>Fran Wilson</td><td>Portland</td><td>USA</td></tr>",
                            "<tr><td>Rene Phillips</td><td>Anchorage</td><td>USA</td></tr>",
                            "<tr><td>Paula Wilson</td><td>Albuquerque</td><td>USA</td></tr>",
                            "<tr><td>Jose Pavarotti</td><td>Boise</td><td>USA</td></tr>",
                            "<tr><td>Art Braunschweiger</td><td>Lander</td><td>USA</td></tr>",
                            "<tr><td>Liz Nixon</td><td>Portland</td><td>USA</td></tr>",
                            "<tr><td>Liu Wong</td><td>Butte</td><td>USA</td></tr>",
                            "<tr><td>Helvetius Nagy</td><td>Kirkland</td><td>USA</td></tr>",
                            "<tr><td>Karl Jablonski</td><td>Seattle</td><td>USA</td></tr>",
                            "</table>"
                        ]
                    }
                },
                {
                    "output_type": "execute_result",
                    "metadata": {},
                    "execution_count": 17,
                    "data": {
                        "application/vnd.dataresource+json": {
                            "schema": {
                                "fields": [
                                    {
                                        "name": "contactname"
                                    },
                                    {
                                        "name": "city"
                                    },
                                    {
                                        "name": "country"
                                    }
                                ]
                            },
                            "data": [
                                {
                                    "0": "Howard Snyder",
                                    "1": "Eugene",
                                    "2": "USA"
                                },
                                {
                                    "0": "Yoshi Latimer",
                                    "1": "Elgin",
                                    "2": "USA"
                                },
                                {
                                    "0": "John Steel",
                                    "1": "Walla Walla",
                                    "2": "USA"
                                },
                                {
                                    "0": "Jaime Yorres",
                                    "1": "San Francisco",
                                    "2": "USA"
                                },
                                {
                                    "0": "Rene Phillips",
                                    "1": "Anchorage",
                                    "2": "USA"
                                },
                                {
                                    "0": "Paula Wilson",
                                    "1": "Albuquerque",
                                    "2": "USA"
                                },
                                {
                                    "0": "Jose Pavarotti",
                                    "1": "Boise",
                                    "2": "USA"
                                },
                                {
                                    "0": "Art Braunschweiger",
                                    "1": "Lander",
                                    "2": "USA"
                                },
                                {
                                    "0": "Liu Wong",
                                    "1": "Butte",
                                    "2": "USA"
                                },
                                {
                                    "0": "Helvetius Nagy",
                                    "1": "Kirkland",
                                    "2": "USA"
                                },
                                {
                                    "0": "Karl Jablonski",
                                    "1": "Seattle",
                                    "2": "USA"
                                }
                            ]
                        },
                        "text/html": [
                            "<table>",
                            "<tr><th>contactname</th><th>city</th><th>country</th></tr>",
                            "<tr><td>Howard Snyder</td><td>Eugene</td><td>USA</td></tr>",
                            "<tr><td>Yoshi Latimer</td><td>Elgin</td><td>USA</td></tr>",
                            "<tr><td>John Steel</td><td>Walla Walla</td><td>USA</td></tr>",
                            "<tr><td>Jaime Yorres</td><td>San Francisco</td><td>USA</td></tr>",
                            "<tr><td>Rene Phillips</td><td>Anchorage</td><td>USA</td></tr>",
                            "<tr><td>Paula Wilson</td><td>Albuquerque</td><td>USA</td></tr>",
                            "<tr><td>Jose Pavarotti</td><td>Boise</td><td>USA</td></tr>",
                            "<tr><td>Art Braunschweiger</td><td>Lander</td><td>USA</td></tr>",
                            "<tr><td>Liu Wong</td><td>Butte</td><td>USA</td></tr>",
                            "<tr><td>Helvetius Nagy</td><td>Kirkland</td><td>USA</td></tr>",
                            "<tr><td>Karl Jablonski</td><td>Seattle</td><td>USA</td></tr>",
                            "</table>"
                        ]
                    }
                }
            ],
            "execution_count": 17
        }
    ]
}