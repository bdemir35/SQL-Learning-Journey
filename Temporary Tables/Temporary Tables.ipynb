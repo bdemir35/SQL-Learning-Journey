{
    "metadata": {
        "kernelspec": {
            "name": "SQL",
            "display_name": "SQL",
            "language": "sql"
        },
        "language_info": {
            "name": "sql",
            "version": ""
        }
    },
    "nbformat_minor": 2,
    "nbformat": 4,
    "cells": [
        {
            "cell_type": "markdown",
            "source": [
                "- _**Creating Temporary Tables**_\r\n",
                "\r\n",
                "1. Why do we need to create temporary tables --- because they are faster then creating real table\r\n",
                "1. Temporary tables will be deleted when the session is terminated\r\n",
                "1. When you want to use complex queries like subsets and joins temporary tables are useful\r\n",
                "  \r\n",
                "\r\n",
                ""
            ],
            "metadata": {
                "azdata_cell_guid": "c71a50c3-a888-4d54-8d9b-655d718bd387"
            },
            "attachments": {}
        },
        {
            "cell_type": "markdown",
            "source": [
                "1. Using _**SELECT INTO**_ commend\r\n",
                "\r\n",
                "I will use categories table to make a new temporary table."
            ],
            "metadata": {
                "azdata_cell_guid": "14f9f1be-b531-4a22-9c5d-19c7f7b90e2f"
            },
            "attachments": {}
        },
        {
            "cell_type": "code",
            "source": [
                "SELECT *\r\n",
                "FROM categories  -- Let's create our temp table using categories table"
            ],
            "metadata": {
                "azdata_cell_guid": "ccfbe970-86ca-432c-8710-4942779a2735",
                "language": "sql"
            },
            "outputs": [
                {
                    "output_type": "display_data",
                    "data": {
                        "text/html": "(8 rows affected)"
                    },
                    "metadata": {}
                },
                {
                    "output_type": "display_data",
                    "data": {
                        "text/html": "Total execution time: 00:00:00.010"
                    },
                    "metadata": {}
                },
                {
                    "output_type": "execute_result",
                    "metadata": {},
                    "execution_count": 2,
                    "data": {
                        "application/vnd.dataresource+json": {
                            "schema": {
                                "fields": [
                                    {
                                        "name": "categoryid"
                                    },
                                    {
                                        "name": "categoryname"
                                    },
                                    {
                                        "name": "description"
                                    }
                                ]
                            },
                            "data": [
                                {
                                    "0": "1",
                                    "1": "Beverages",
                                    "2": "Soft drinks, coffees, teas, beers, and ales"
                                },
                                {
                                    "0": "2",
                                    "1": "Condiments",
                                    "2": "Sweet and savory sauces, relishes, spreads, and seasonings"
                                },
                                {
                                    "0": "3",
                                    "1": "Confections",
                                    "2": "Desserts, candies, and sweet breads"
                                },
                                {
                                    "0": "4",
                                    "1": "Dairy Products",
                                    "2": "Cheeses"
                                },
                                {
                                    "0": "5",
                                    "1": "Grains/Cereals",
                                    "2": "Breads, crackers, pasta, and cereal"
                                },
                                {
                                    "0": "6",
                                    "1": "Meat/Poultry",
                                    "2": "Prepared meats"
                                },
                                {
                                    "0": "7",
                                    "1": "Produce",
                                    "2": "Dried fruit and bean curd"
                                },
                                {
                                    "0": "8",
                                    "1": "Seafood",
                                    "2": "Seaweed and fish"
                                }
                            ]
                        },
                        "text/html": [
                            "<table>",
                            "<tr><th>categoryid</th><th>categoryname</th><th>description</th></tr>",
                            "<tr><td>1</td><td>Beverages</td><td>Soft drinks, coffees, teas, beers, and ales</td></tr>",
                            "<tr><td>2</td><td>Condiments</td><td>Sweet and savory sauces, relishes, spreads, and seasonings</td></tr>",
                            "<tr><td>3</td><td>Confections</td><td>Desserts, candies, and sweet breads</td></tr>",
                            "<tr><td>4</td><td>Dairy Products</td><td>Cheeses</td></tr>",
                            "<tr><td>5</td><td>Grains/Cereals</td><td>Breads, crackers, pasta, and cereal</td></tr>",
                            "<tr><td>6</td><td>Meat/Poultry</td><td>Prepared meats</td></tr>",
                            "<tr><td>7</td><td>Produce</td><td>Dried fruit and bean curd</td></tr>",
                            "<tr><td>8</td><td>Seafood</td><td>Seaweed and fish</td></tr>",
                            "</table>"
                        ]
                    }
                }
            ],
            "execution_count": 2
        },
        {
            "cell_type": "code",
            "source": [
                "SELECT categoryname, description -- Select column names that you are going to create in temporary table\r\n",
                "INTO #temp_table -- This is very important step. You HAVE TO USE # before your temporary table name\r\n",
                "FROM categories"
            ],
            "metadata": {
                "language": "sql",
                "azdata_cell_guid": "a424426a-ba1c-4cba-9163-827d79b919c8"
            },
            "outputs": [
                {
                    "output_type": "display_data",
                    "data": {
                        "text/html": "(8 rows affected)"
                    },
                    "metadata": {}
                },
                {
                    "output_type": "display_data",
                    "data": {
                        "text/html": "Total execution time: 00:00:00.002"
                    },
                    "metadata": {}
                }
            ],
            "execution_count": 3
        },
        {
            "cell_type": "code",
            "source": [
                "-- Let's check our new temporary table\r\n",
                "\r\n",
                "SELECT *\r\n",
                "FROM #temp_table"
            ],
            "metadata": {
                "language": "sql",
                "azdata_cell_guid": "f8fb4498-d923-4eef-8134-e644f0a795f5"
            },
            "outputs": [
                {
                    "output_type": "display_data",
                    "data": {
                        "text/html": "(8 rows affected)"
                    },
                    "metadata": {}
                },
                {
                    "output_type": "display_data",
                    "data": {
                        "text/html": "Total execution time: 00:00:00.008"
                    },
                    "metadata": {}
                },
                {
                    "output_type": "execute_result",
                    "metadata": {},
                    "execution_count": 4,
                    "data": {
                        "application/vnd.dataresource+json": {
                            "schema": {
                                "fields": [
                                    {
                                        "name": "categoryname"
                                    },
                                    {
                                        "name": "description"
                                    }
                                ]
                            },
                            "data": [
                                {
                                    "0": "Beverages",
                                    "1": "Soft drinks, coffees, teas, beers, and ales"
                                },
                                {
                                    "0": "Condiments",
                                    "1": "Sweet and savory sauces, relishes, spreads, and seasonings"
                                },
                                {
                                    "0": "Confections",
                                    "1": "Desserts, candies, and sweet breads"
                                },
                                {
                                    "0": "Dairy Products",
                                    "1": "Cheeses"
                                },
                                {
                                    "0": "Grains/Cereals",
                                    "1": "Breads, crackers, pasta, and cereal"
                                },
                                {
                                    "0": "Meat/Poultry",
                                    "1": "Prepared meats"
                                },
                                {
                                    "0": "Produce",
                                    "1": "Dried fruit and bean curd"
                                },
                                {
                                    "0": "Seafood",
                                    "1": "Seaweed and fish"
                                }
                            ]
                        },
                        "text/html": [
                            "<table>",
                            "<tr><th>categoryname</th><th>description</th></tr>",
                            "<tr><td>Beverages</td><td>Soft drinks, coffees, teas, beers, and ales</td></tr>",
                            "<tr><td>Condiments</td><td>Sweet and savory sauces, relishes, spreads, and seasonings</td></tr>",
                            "<tr><td>Confections</td><td>Desserts, candies, and sweet breads</td></tr>",
                            "<tr><td>Dairy Products</td><td>Cheeses</td></tr>",
                            "<tr><td>Grains/Cereals</td><td>Breads, crackers, pasta, and cereal</td></tr>",
                            "<tr><td>Meat/Poultry</td><td>Prepared meats</td></tr>",
                            "<tr><td>Produce</td><td>Dried fruit and bean curd</td></tr>",
                            "<tr><td>Seafood</td><td>Seaweed and fish</td></tr>",
                            "</table>"
                        ]
                    }
                }
            ],
            "execution_count": 4
        },
        {
            "cell_type": "markdown",
            "source": [
                "2. _**CREATE TABLE**_ statement does the same thing but importantly we _**HAVE TO USE #**_ before giving name to our temporary table\r\n",
                "\r\n",
                "- Note that : Once we have created our table we need to insert records into our table using [insert into statement](https://github.com/bdemir35/SQL-Learning-Journey/blob/main/CREATE%2520TABLE%2520and%2520INSERT%2520INTO/Create%2520Table%2520and%2520Insert%2520Into.ipynb)\r\n",
                ""
            ],
            "metadata": {
                "language": "sql",
                "azdata_cell_guid": "96abe018-b489-4944-a80d-7ce3af2b4bc5"
            },
            "attachments": {}
        },
        {
            "cell_type": "code",
            "source": [
                "CREATE TABLE #temp_table2 (\r\n",
                "    id int PRIMARY KEY,\r\n",
                "    name NVARCHAR(15),\r\n",
                "    price FLOAT\r\n",
                ")\r\n",
                "\r\n",
                "INSERT INTO #temp_table2(\r\n",
                "    id, name, price\r\n",
                ")\r\n",
                "\r\n",
                "VALUES(1,'A',124.05),\r\n",
                "      (2,'B',257.65),\r\n",
                "      (3,'C',1000) \r\n",
                ""
            ],
            "metadata": {
                "language": "sql",
                "azdata_cell_guid": "f32a406b-bfa6-426b-bff6-d42c7fff95ec"
            },
            "outputs": [
                {
                    "output_type": "display_data",
                    "data": {
                        "text/html": "(3 rows affected)"
                    },
                    "metadata": {}
                },
                {
                    "output_type": "display_data",
                    "data": {
                        "text/html": "Total execution time: 00:00:00.002"
                    },
                    "metadata": {}
                }
            ],
            "execution_count": 12
        },
        {
            "cell_type": "code",
            "source": [
                "-- Let's rerun the query to check new temporary table\r\n",
                "\r\n",
                "SELECT *\r\n",
                "FROM #temp_table2"
            ],
            "metadata": {
                "language": "sql",
                "azdata_cell_guid": "f5bef99d-191d-4c02-a906-a2c06c3b4a4f"
            },
            "outputs": [
                {
                    "output_type": "display_data",
                    "data": {
                        "text/html": "(3 rows affected)"
                    },
                    "metadata": {}
                },
                {
                    "output_type": "display_data",
                    "data": {
                        "text/html": "Total execution time: 00:00:00.009"
                    },
                    "metadata": {}
                },
                {
                    "output_type": "execute_result",
                    "metadata": {},
                    "execution_count": 13,
                    "data": {
                        "application/vnd.dataresource+json": {
                            "schema": {
                                "fields": [
                                    {
                                        "name": "id"
                                    },
                                    {
                                        "name": "name"
                                    },
                                    {
                                        "name": "price"
                                    }
                                ]
                            },
                            "data": [
                                {
                                    "0": "1",
                                    "1": "A",
                                    "2": "124.05"
                                },
                                {
                                    "0": "2",
                                    "1": "B",
                                    "2": "257.65"
                                },
                                {
                                    "0": "3",
                                    "1": "C",
                                    "2": "1000"
                                }
                            ]
                        },
                        "text/html": [
                            "<table>",
                            "<tr><th>id</th><th>name</th><th>price</th></tr>",
                            "<tr><td>1</td><td>A</td><td>124.05</td></tr>",
                            "<tr><td>2</td><td>B</td><td>257.65</td></tr>",
                            "<tr><td>3</td><td>C</td><td>1000</td></tr>",
                            "</table>"
                        ]
                    }
                }
            ],
            "execution_count": 13
        },
        {
            "cell_type": "markdown",
            "source": [
                "After finished everything you need we can simply use _**DROP TABLE**_ (table name) statement to delete our temporary tables"
            ],
            "metadata": {
                "language": "sql",
                "azdata_cell_guid": "36cc5a61-7ef1-4144-8a26-45a6aa743694"
            },
            "attachments": {}
        },
        {
            "cell_type": "code",
            "source": [
                "DROP TABLE #temp_table, #temp_table2"
            ],
            "metadata": {
                "azdata_cell_guid": "acbddc86-5dda-4a16-ac3b-33f5223e58d0",
                "language": "sql"
            },
            "outputs": [
                {
                    "output_type": "display_data",
                    "data": {
                        "text/html": "Commands completed successfully."
                    },
                    "metadata": {}
                },
                {
                    "output_type": "display_data",
                    "data": {
                        "text/html": "Total execution time: 00:00:00.002"
                    },
                    "metadata": {}
                }
            ],
            "execution_count": 14
        }
    ]
}