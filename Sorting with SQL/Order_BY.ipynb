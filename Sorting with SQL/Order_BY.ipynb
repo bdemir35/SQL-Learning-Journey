{
    "metadata": {
        "kernelspec": {
            "name": "SQL",
            "display_name": "SQL",
            "language": "sql"
        },
        "language_info": {
            "name": "sql",
            "version": ""
        }
    },
    "nbformat_minor": 2,
    "nbformat": 4,
    "cells": [
        {
            "cell_type": "markdown",
            "source": [
                "# Sorting Data \r\n",
                "\r\n",
                "SQL Server uses _**ORDER BY**_ clause for sorting data in ascending order by default. We can simply specify our sort order by using _**DESC**_ at the end of our line of query.  \r\n",
                "\r\n",
                "> The syntax is \r\n",
                "\r\n",
                "```\r\n",
                "SELECT column1, column2, ...\r\n",
                "FROM table_name\r\n",
                "ORDER BY column1, column2 ASC | DESC;\r\n",
                "```\r\n",
                "\r\n",
                "\r\n",
                ""
            ],
            "metadata": {
                "azdata_cell_guid": "125a554d-9ba2-4058-acfe-a7cb905b2ee5"
            },
            "attachments": {}
        },
        {
            "cell_type": "code",
            "source": [
                "SELECT *\r\n",
                "FROM alters -- As you see in the price column there is no order."
            ],
            "metadata": {
                "azdata_cell_guid": "2159cba4-bd21-46d7-a9cd-2eac73db4c19",
                "language": "sql"
            },
            "outputs": [
                {
                    "output_type": "display_data",
                    "data": {
                        "text/html": "(77 rows affected)"
                    },
                    "metadata": {}
                },
                {
                    "output_type": "display_data",
                    "data": {
                        "text/html": "Total execution time: 00:00:00.008"
                    },
                    "metadata": {}
                },
                {
                    "output_type": "execute_result",
                    "metadata": {},
                    "execution_count": 1,
                    "data": {
                        "application/vnd.dataresource+json": {
                            "schema": {
                                "fields": [
                                    {
                                        "name": "itemid"
                                    },
                                    {
                                        "name": "itemref"
                                    },
                                    {
                                        "name": "itemname"
                                    },
                                    {
                                        "name": "quantity"
                                    },
                                    {
                                        "name": "price"
                                    }
                                ]
                            },
                            "data": [
                                {
                                    "0": "5",
                                    "1": "221",
                                    "2": "Chef Anton's Gumbo Mix",
                                    "3": "0",
                                    "4": "2135"
                                },
                                {
                                    "0": "9",
                                    "1": "461",
                                    "2": "Mishi Kobe Niku",
                                    "3": "29",
                                    "4": "97"
                                },
                                {
                                    "0": "17",
                                    "1": "761",
                                    "2": "Alice Mutton",
                                    "3": "0",
                                    "4": "39"
                                },
                                {
                                    "0": "24",
                                    "1": "1011",
                                    "2": "Guaraná Fantástica",
                                    "3": "20",
                                    "4": "45"
                                },
                                {
                                    "0": "28",
                                    "1": "1271",
                                    "2": "Rössle Sauerkraut",
                                    "3": "26",
                                    "4": "456"
                                },
                                {
                                    "0": "29",
                                    "1": "1261",
                                    "2": "Thüringer Rostbratwurst",
                                    "3": "0",
                                    "4": "12379"
                                },
                                {
                                    "0": "42",
                                    "1": "2051",
                                    "2": "Singaporean Hokkien Fried Mee",
                                    "3": "26",
                                    "4": "14"
                                },
                                {
                                    "0": "53",
                                    "1": "2461",
                                    "2": "Perth Pasties",
                                    "3": "0",
                                    "4": "328"
                                },
                                {
                                    "0": "1",
                                    "1": "11",
                                    "2": "Chai",
                                    "3": "39",
                                    "4": "18"
                                },
                                {
                                    "0": "2",
                                    "1": "11",
                                    "2": "Chang",
                                    "3": "17",
                                    "4": "19"
                                },
                                {
                                    "0": "3",
                                    "1": "12",
                                    "2": "Aniseed Syrup",
                                    "3": "13",
                                    "4": "10"
                                },
                                {
                                    "0": "4",
                                    "1": "22",
                                    "2": "Chef Anton's Cajun Seasoning",
                                    "3": "53",
                                    "4": "22"
                                },
                                {
                                    "0": "6",
                                    "1": "32",
                                    "2": "Grandma's Boysenberry Spread",
                                    "3": "120",
                                    "4": "25"
                                },
                                {
                                    "0": "7",
                                    "1": "37",
                                    "2": "Uncle Bob's Organic Dried Pears",
                                    "3": "15",
                                    "4": "30"
                                },
                                {
                                    "0": "8",
                                    "1": "32",
                                    "2": "Northwoods Cranberry Sauce",
                                    "3": "6",
                                    "4": "40"
                                },
                                {
                                    "0": "10",
                                    "1": "48",
                                    "2": "Ikura",
                                    "3": "31",
                                    "4": "31"
                                },
                                {
                                    "0": "11",
                                    "1": "54",
                                    "2": "Queso Cabrales",
                                    "3": "22",
                                    "4": "21"
                                },
                                {
                                    "0": "12",
                                    "1": "54",
                                    "2": "Queso Manchego La Pastora",
                                    "3": "86",
                                    "4": "38"
                                },
                                {
                                    "0": "13",
                                    "1": "68",
                                    "2": "Konbu",
                                    "3": "24",
                                    "4": "6"
                                },
                                {
                                    "0": "33",
                                    "1": "154",
                                    "2": "Geitost",
                                    "3": "112",
                                    "4": "25"
                                },
                                {
                                    "0": "48",
                                    "1": "223",
                                    "2": "Chocolade",
                                    "3": "15",
                                    "4": "1275"
                                },
                                {
                                    "0": "49",
                                    "1": "233",
                                    "2": "Maxilaku",
                                    "3": "10",
                                    "4": "20"
                                },
                                {
                                    "0": "50",
                                    "1": "233",
                                    "2": "Valkoinen suklaa",
                                    "3": "65",
                                    "4": "1625"
                                },
                                {
                                    "0": "51",
                                    "1": "247",
                                    "2": "Manjimup Dried Apples",
                                    "3": "20",
                                    "4": "53"
                                },
                                {
                                    "0": "52",
                                    "1": "245",
                                    "2": "Filo Mix",
                                    "3": "38",
                                    "4": "7"
                                },
                                {
                                    "0": "54",
                                    "1": "256",
                                    "2": "Tourtière",
                                    "3": "21",
                                    "4": "745"
                                },
                                {
                                    "0": "55",
                                    "1": "256",
                                    "2": "Pâté chinois",
                                    "3": "115",
                                    "4": "24"
                                },
                                {
                                    "0": "56",
                                    "1": "265",
                                    "2": "Gnocchi di nonna Alice",
                                    "3": "21",
                                    "4": "38"
                                },
                                {
                                    "0": "57",
                                    "1": "265",
                                    "2": "Ravioli Angelo",
                                    "3": "36",
                                    "4": "195"
                                },
                                {
                                    "0": "58",
                                    "1": "278",
                                    "2": "Escargots de Bourgogne",
                                    "3": "62",
                                    "4": "1325"
                                },
                                {
                                    "0": "59",
                                    "1": "284",
                                    "2": "Raclette Courdavault",
                                    "3": "79",
                                    "4": "55"
                                },
                                {
                                    "0": "60",
                                    "1": "284",
                                    "2": "Camembert Pierrot",
                                    "3": "19",
                                    "4": "34"
                                },
                                {
                                    "0": "61",
                                    "1": "292",
                                    "2": "Sirop d'érable",
                                    "3": "113",
                                    "4": "285"
                                },
                                {
                                    "0": "62",
                                    "1": "293",
                                    "2": "Tarte au sucre",
                                    "3": "17",
                                    "4": "493"
                                },
                                {
                                    "0": "63",
                                    "1": "72",
                                    "2": "Vegie-spread",
                                    "3": "24",
                                    "4": "439"
                                },
                                {
                                    "0": "64",
                                    "1": "125",
                                    "2": "Wimmers gute Semmelknödel",
                                    "3": "22",
                                    "4": "3325"
                                },
                                {
                                    "0": "65",
                                    "1": "22",
                                    "2": "Louisiana Fiery Hot Pepper Sauce",
                                    "3": "76",
                                    "4": "2105"
                                },
                                {
                                    "0": "66",
                                    "1": "22",
                                    "2": "Louisiana Hot Spiced Okra",
                                    "3": "4",
                                    "4": "17"
                                },
                                {
                                    "0": "67",
                                    "1": "161",
                                    "2": "Laughing Lumberjack Lager",
                                    "3": "52",
                                    "4": "14"
                                },
                                {
                                    "0": "68",
                                    "1": "83",
                                    "2": "Scottish Longbreads",
                                    "3": "6",
                                    "4": "125"
                                },
                                {
                                    "0": "69",
                                    "1": "154",
                                    "2": "Gudbrandsdalsost",
                                    "3": "26",
                                    "4": "36"
                                },
                                {
                                    "0": "70",
                                    "1": "71",
                                    "2": "Outback Lager",
                                    "3": "15",
                                    "4": "15"
                                },
                                {
                                    "0": "71",
                                    "1": "154",
                                    "2": "Flotemysost",
                                    "3": "26",
                                    "4": "215"
                                },
                                {
                                    "0": "72",
                                    "1": "144",
                                    "2": "Mozzarella di Giovanni",
                                    "3": "14",
                                    "4": "348"
                                },
                                {
                                    "0": "73",
                                    "1": "178",
                                    "2": "Röd Kaviar",
                                    "3": "101",
                                    "4": "15"
                                },
                                {
                                    "0": "74",
                                    "1": "47",
                                    "2": "Longlife Tofu",
                                    "3": "4",
                                    "4": "10"
                                },
                                {
                                    "0": "75",
                                    "1": "121",
                                    "2": "Rhönbräu Klosterbier",
                                    "3": "125",
                                    "4": "775"
                                },
                                {
                                    "0": "76",
                                    "1": "231",
                                    "2": "Lakkalikööri",
                                    "3": "57",
                                    "4": "18"
                                },
                                {
                                    "0": "77",
                                    "1": "122",
                                    "2": "Original Frankfurter grüne Soße",
                                    "3": "32",
                                    "4": "13"
                                },
                                {
                                    "0": "14",
                                    "1": "67",
                                    "2": "Tofu",
                                    "3": "35",
                                    "4": "2325"
                                },
                                {
                                    "0": "15",
                                    "1": "62",
                                    "2": "Genen Shouyu",
                                    "3": "39",
                                    "4": "155"
                                },
                                {
                                    "0": "16",
                                    "1": "73",
                                    "2": "Pavlova",
                                    "3": "29",
                                    "4": "1745"
                                },
                                {
                                    "0": "18",
                                    "1": "78",
                                    "2": "Carnarvon Tigers",
                                    "3": "42",
                                    "4": "625"
                                },
                                {
                                    "0": "19",
                                    "1": "83",
                                    "2": "Teatime Chocolate Biscuits",
                                    "3": "25",
                                    "4": "92"
                                },
                                {
                                    "0": "20",
                                    "1": "83",
                                    "2": "Sir Rodney's Marmalade",
                                    "3": "40",
                                    "4": "81"
                                },
                                {
                                    "0": "21",
                                    "1": "83",
                                    "2": "Sir Rodney's Scones",
                                    "3": "3",
                                    "4": "10"
                                },
                                {
                                    "0": "22",
                                    "1": "95",
                                    "2": "Gustaf's Knäckebröd",
                                    "3": "104",
                                    "4": "21"
                                },
                                {
                                    "0": "23",
                                    "1": "95",
                                    "2": "Tunnbröd",
                                    "3": "61",
                                    "4": "9"
                                },
                                {
                                    "0": "25",
                                    "1": "113",
                                    "2": "NuNuCa Nuß-Nougat-Creme",
                                    "3": "76",
                                    "4": "14"
                                },
                                {
                                    "0": "26",
                                    "1": "113",
                                    "2": "Gumbär Gummibärchen",
                                    "3": "15",
                                    "4": "3123"
                                },
                                {
                                    "0": "27",
                                    "1": "113",
                                    "2": "Schoggi Schokolade",
                                    "3": "49",
                                    "4": "439"
                                },
                                {
                                    "0": "30",
                                    "1": "138",
                                    "2": "Nord-Ost Matjeshering",
                                    "3": "10",
                                    "4": "2589"
                                },
                                {
                                    "0": "31",
                                    "1": "144",
                                    "2": "Gorgonzola Telino",
                                    "3": "0",
                                    "4": "125"
                                },
                                {
                                    "0": "32",
                                    "1": "144",
                                    "2": "Mascarpone Fabioli",
                                    "3": "9",
                                    "4": "32"
                                },
                                {
                                    "0": "34",
                                    "1": "161",
                                    "2": "Sasquatch Ale",
                                    "3": "111",
                                    "4": "14"
                                },
                                {
                                    "0": "35",
                                    "1": "161",
                                    "2": "Steeleye Stout",
                                    "3": "20",
                                    "4": "18"
                                },
                                {
                                    "0": "36",
                                    "1": "178",
                                    "2": "Inlagd Sill",
                                    "3": "112",
                                    "4": "19"
                                },
                                {
                                    "0": "37",
                                    "1": "178",
                                    "2": "Gravad lax",
                                    "3": "11",
                                    "4": "26"
                                },
                                {
                                    "0": "38",
                                    "1": "181",
                                    "2": "Côte de Blaye",
                                    "3": "17",
                                    "4": "2635"
                                },
                                {
                                    "0": "39",
                                    "1": "181",
                                    "2": "Chartreuse verte",
                                    "3": "69",
                                    "4": "18"
                                },
                                {
                                    "0": "40",
                                    "1": "198",
                                    "2": "Boston Crab Meat",
                                    "3": "123",
                                    "4": "184"
                                },
                                {
                                    "0": "41",
                                    "1": "198",
                                    "2": "Jack's New England Clam Chowder",
                                    "3": "85",
                                    "4": "965"
                                },
                                {
                                    "0": "43",
                                    "1": "201",
                                    "2": "Ipoh Coffee",
                                    "3": "17",
                                    "4": "46"
                                },
                                {
                                    "0": "44",
                                    "1": "202",
                                    "2": "Gula Malacca",
                                    "3": "27",
                                    "4": "1945"
                                },
                                {
                                    "0": "45",
                                    "1": "218",
                                    "2": "Rogede sild",
                                    "3": "5",
                                    "4": "95"
                                },
                                {
                                    "0": "46",
                                    "1": "218",
                                    "2": "Spegesild",
                                    "3": "95",
                                    "4": "12"
                                },
                                {
                                    "0": "47",
                                    "1": "223",
                                    "2": "Zaanse koeken",
                                    "3": "36",
                                    "4": "95"
                                }
                            ]
                        },
                        "text/html": [
                            "<table>",
                            "<tr><th>itemid</th><th>itemref</th><th>itemname</th><th>quantity</th><th>price</th></tr>",
                            "<tr><td>5</td><td>221</td><td>Chef Anton's Gumbo Mix</td><td>0</td><td>2135</td></tr>",
                            "<tr><td>9</td><td>461</td><td>Mishi Kobe Niku</td><td>29</td><td>97</td></tr>",
                            "<tr><td>17</td><td>761</td><td>Alice Mutton</td><td>0</td><td>39</td></tr>",
                            "<tr><td>24</td><td>1011</td><td>Guaraná Fantástica</td><td>20</td><td>45</td></tr>",
                            "<tr><td>28</td><td>1271</td><td>Rössle Sauerkraut</td><td>26</td><td>456</td></tr>",
                            "<tr><td>29</td><td>1261</td><td>Thüringer Rostbratwurst</td><td>0</td><td>12379</td></tr>",
                            "<tr><td>42</td><td>2051</td><td>Singaporean Hokkien Fried Mee</td><td>26</td><td>14</td></tr>",
                            "<tr><td>53</td><td>2461</td><td>Perth Pasties</td><td>0</td><td>328</td></tr>",
                            "<tr><td>1</td><td>11</td><td>Chai</td><td>39</td><td>18</td></tr>",
                            "<tr><td>2</td><td>11</td><td>Chang</td><td>17</td><td>19</td></tr>",
                            "<tr><td>3</td><td>12</td><td>Aniseed Syrup</td><td>13</td><td>10</td></tr>",
                            "<tr><td>4</td><td>22</td><td>Chef Anton's Cajun Seasoning</td><td>53</td><td>22</td></tr>",
                            "<tr><td>6</td><td>32</td><td>Grandma's Boysenberry Spread</td><td>120</td><td>25</td></tr>",
                            "<tr><td>7</td><td>37</td><td>Uncle Bob's Organic Dried Pears</td><td>15</td><td>30</td></tr>",
                            "<tr><td>8</td><td>32</td><td>Northwoods Cranberry Sauce</td><td>6</td><td>40</td></tr>",
                            "<tr><td>10</td><td>48</td><td>Ikura</td><td>31</td><td>31</td></tr>",
                            "<tr><td>11</td><td>54</td><td>Queso Cabrales</td><td>22</td><td>21</td></tr>",
                            "<tr><td>12</td><td>54</td><td>Queso Manchego La Pastora</td><td>86</td><td>38</td></tr>",
                            "<tr><td>13</td><td>68</td><td>Konbu</td><td>24</td><td>6</td></tr>",
                            "<tr><td>33</td><td>154</td><td>Geitost</td><td>112</td><td>25</td></tr>",
                            "<tr><td>48</td><td>223</td><td>Chocolade</td><td>15</td><td>1275</td></tr>",
                            "<tr><td>49</td><td>233</td><td>Maxilaku</td><td>10</td><td>20</td></tr>",
                            "<tr><td>50</td><td>233</td><td>Valkoinen suklaa</td><td>65</td><td>1625</td></tr>",
                            "<tr><td>51</td><td>247</td><td>Manjimup Dried Apples</td><td>20</td><td>53</td></tr>",
                            "<tr><td>52</td><td>245</td><td>Filo Mix</td><td>38</td><td>7</td></tr>",
                            "<tr><td>54</td><td>256</td><td>Tourtière</td><td>21</td><td>745</td></tr>",
                            "<tr><td>55</td><td>256</td><td>Pâté chinois</td><td>115</td><td>24</td></tr>",
                            "<tr><td>56</td><td>265</td><td>Gnocchi di nonna Alice</td><td>21</td><td>38</td></tr>",
                            "<tr><td>57</td><td>265</td><td>Ravioli Angelo</td><td>36</td><td>195</td></tr>",
                            "<tr><td>58</td><td>278</td><td>Escargots de Bourgogne</td><td>62</td><td>1325</td></tr>",
                            "<tr><td>59</td><td>284</td><td>Raclette Courdavault</td><td>79</td><td>55</td></tr>",
                            "<tr><td>60</td><td>284</td><td>Camembert Pierrot</td><td>19</td><td>34</td></tr>",
                            "<tr><td>61</td><td>292</td><td>Sirop d'érable</td><td>113</td><td>285</td></tr>",
                            "<tr><td>62</td><td>293</td><td>Tarte au sucre</td><td>17</td><td>493</td></tr>",
                            "<tr><td>63</td><td>72</td><td>Vegie-spread</td><td>24</td><td>439</td></tr>",
                            "<tr><td>64</td><td>125</td><td>Wimmers gute Semmelknödel</td><td>22</td><td>3325</td></tr>",
                            "<tr><td>65</td><td>22</td><td>Louisiana Fiery Hot Pepper Sauce</td><td>76</td><td>2105</td></tr>",
                            "<tr><td>66</td><td>22</td><td>Louisiana Hot Spiced Okra</td><td>4</td><td>17</td></tr>",
                            "<tr><td>67</td><td>161</td><td>Laughing Lumberjack Lager</td><td>52</td><td>14</td></tr>",
                            "<tr><td>68</td><td>83</td><td>Scottish Longbreads</td><td>6</td><td>125</td></tr>",
                            "<tr><td>69</td><td>154</td><td>Gudbrandsdalsost</td><td>26</td><td>36</td></tr>",
                            "<tr><td>70</td><td>71</td><td>Outback Lager</td><td>15</td><td>15</td></tr>",
                            "<tr><td>71</td><td>154</td><td>Flotemysost</td><td>26</td><td>215</td></tr>",
                            "<tr><td>72</td><td>144</td><td>Mozzarella di Giovanni</td><td>14</td><td>348</td></tr>",
                            "<tr><td>73</td><td>178</td><td>Röd Kaviar</td><td>101</td><td>15</td></tr>",
                            "<tr><td>74</td><td>47</td><td>Longlife Tofu</td><td>4</td><td>10</td></tr>",
                            "<tr><td>75</td><td>121</td><td>Rhönbräu Klosterbier</td><td>125</td><td>775</td></tr>",
                            "<tr><td>76</td><td>231</td><td>Lakkalikööri</td><td>57</td><td>18</td></tr>",
                            "<tr><td>77</td><td>122</td><td>Original Frankfurter grüne Soße</td><td>32</td><td>13</td></tr>",
                            "<tr><td>14</td><td>67</td><td>Tofu</td><td>35</td><td>2325</td></tr>",
                            "<tr><td>15</td><td>62</td><td>Genen Shouyu</td><td>39</td><td>155</td></tr>",
                            "<tr><td>16</td><td>73</td><td>Pavlova</td><td>29</td><td>1745</td></tr>",
                            "<tr><td>18</td><td>78</td><td>Carnarvon Tigers</td><td>42</td><td>625</td></tr>",
                            "<tr><td>19</td><td>83</td><td>Teatime Chocolate Biscuits</td><td>25</td><td>92</td></tr>",
                            "<tr><td>20</td><td>83</td><td>Sir Rodney's Marmalade</td><td>40</td><td>81</td></tr>",
                            "<tr><td>21</td><td>83</td><td>Sir Rodney's Scones</td><td>3</td><td>10</td></tr>",
                            "<tr><td>22</td><td>95</td><td>Gustaf's Knäckebröd</td><td>104</td><td>21</td></tr>",
                            "<tr><td>23</td><td>95</td><td>Tunnbröd</td><td>61</td><td>9</td></tr>",
                            "<tr><td>25</td><td>113</td><td>NuNuCa Nuß-Nougat-Creme</td><td>76</td><td>14</td></tr>",
                            "<tr><td>26</td><td>113</td><td>Gumbär Gummibärchen</td><td>15</td><td>3123</td></tr>",
                            "<tr><td>27</td><td>113</td><td>Schoggi Schokolade</td><td>49</td><td>439</td></tr>",
                            "<tr><td>30</td><td>138</td><td>Nord-Ost Matjeshering</td><td>10</td><td>2589</td></tr>",
                            "<tr><td>31</td><td>144</td><td>Gorgonzola Telino</td><td>0</td><td>125</td></tr>",
                            "<tr><td>32</td><td>144</td><td>Mascarpone Fabioli</td><td>9</td><td>32</td></tr>",
                            "<tr><td>34</td><td>161</td><td>Sasquatch Ale</td><td>111</td><td>14</td></tr>",
                            "<tr><td>35</td><td>161</td><td>Steeleye Stout</td><td>20</td><td>18</td></tr>",
                            "<tr><td>36</td><td>178</td><td>Inlagd Sill</td><td>112</td><td>19</td></tr>",
                            "<tr><td>37</td><td>178</td><td>Gravad lax</td><td>11</td><td>26</td></tr>",
                            "<tr><td>38</td><td>181</td><td>Côte de Blaye</td><td>17</td><td>2635</td></tr>",
                            "<tr><td>39</td><td>181</td><td>Chartreuse verte</td><td>69</td><td>18</td></tr>",
                            "<tr><td>40</td><td>198</td><td>Boston Crab Meat</td><td>123</td><td>184</td></tr>",
                            "<tr><td>41</td><td>198</td><td>Jack's New England Clam Chowder</td><td>85</td><td>965</td></tr>",
                            "<tr><td>43</td><td>201</td><td>Ipoh Coffee</td><td>17</td><td>46</td></tr>",
                            "<tr><td>44</td><td>202</td><td>Gula Malacca</td><td>27</td><td>1945</td></tr>",
                            "<tr><td>45</td><td>218</td><td>Rogede sild</td><td>5</td><td>95</td></tr>",
                            "<tr><td>46</td><td>218</td><td>Spegesild</td><td>95</td><td>12</td></tr>",
                            "<tr><td>47</td><td>223</td><td>Zaanse koeken</td><td>36</td><td>95</td></tr>",
                            "</table>"
                        ]
                    }
                }
            ],
            "execution_count": 1
        },
        {
            "cell_type": "code",
            "source": [
                "SELECT *\r\n",
                "FROM alters\r\n",
                "ORDER BY price --(Default order is ascending)\r\n",
                "               -- You can also specify like ORDER BY price ASC , it will return the same result "
            ],
            "metadata": {
                "language": "sql",
                "azdata_cell_guid": "f8810f19-e525-4b0c-843f-e3d4f37dcff3"
            },
            "outputs": [
                {
                    "output_type": "display_data",
                    "data": {
                        "text/html": "(77 rows affected)"
                    },
                    "metadata": {}
                },
                {
                    "output_type": "display_data",
                    "data": {
                        "text/html": "Total execution time: 00:00:00.012"
                    },
                    "metadata": {}
                },
                {
                    "output_type": "execute_result",
                    "metadata": {},
                    "execution_count": 2,
                    "data": {
                        "application/vnd.dataresource+json": {
                            "schema": {
                                "fields": [
                                    {
                                        "name": "itemid"
                                    },
                                    {
                                        "name": "itemref"
                                    },
                                    {
                                        "name": "itemname"
                                    },
                                    {
                                        "name": "quantity"
                                    },
                                    {
                                        "name": "price"
                                    }
                                ]
                            },
                            "data": [
                                {
                                    "0": "13",
                                    "1": "68",
                                    "2": "Konbu",
                                    "3": "24",
                                    "4": "6"
                                },
                                {
                                    "0": "52",
                                    "1": "245",
                                    "2": "Filo Mix",
                                    "3": "38",
                                    "4": "7"
                                },
                                {
                                    "0": "23",
                                    "1": "95",
                                    "2": "Tunnbröd",
                                    "3": "61",
                                    "4": "9"
                                },
                                {
                                    "0": "21",
                                    "1": "83",
                                    "2": "Sir Rodney's Scones",
                                    "3": "3",
                                    "4": "10"
                                },
                                {
                                    "0": "74",
                                    "1": "47",
                                    "2": "Longlife Tofu",
                                    "3": "4",
                                    "4": "10"
                                },
                                {
                                    "0": "3",
                                    "1": "12",
                                    "2": "Aniseed Syrup",
                                    "3": "13",
                                    "4": "10"
                                },
                                {
                                    "0": "46",
                                    "1": "218",
                                    "2": "Spegesild",
                                    "3": "95",
                                    "4": "12"
                                },
                                {
                                    "0": "77",
                                    "1": "122",
                                    "2": "Original Frankfurter grüne Soße",
                                    "3": "32",
                                    "4": "13"
                                },
                                {
                                    "0": "67",
                                    "1": "161",
                                    "2": "Laughing Lumberjack Lager",
                                    "3": "52",
                                    "4": "14"
                                },
                                {
                                    "0": "25",
                                    "1": "113",
                                    "2": "NuNuCa Nuß-Nougat-Creme",
                                    "3": "76",
                                    "4": "14"
                                },
                                {
                                    "0": "34",
                                    "1": "161",
                                    "2": "Sasquatch Ale",
                                    "3": "111",
                                    "4": "14"
                                },
                                {
                                    "0": "42",
                                    "1": "2051",
                                    "2": "Singaporean Hokkien Fried Mee",
                                    "3": "26",
                                    "4": "14"
                                },
                                {
                                    "0": "70",
                                    "1": "71",
                                    "2": "Outback Lager",
                                    "3": "15",
                                    "4": "15"
                                },
                                {
                                    "0": "73",
                                    "1": "178",
                                    "2": "Röd Kaviar",
                                    "3": "101",
                                    "4": "15"
                                },
                                {
                                    "0": "66",
                                    "1": "22",
                                    "2": "Louisiana Hot Spiced Okra",
                                    "3": "4",
                                    "4": "17"
                                },
                                {
                                    "0": "76",
                                    "1": "231",
                                    "2": "Lakkalikööri",
                                    "3": "57",
                                    "4": "18"
                                },
                                {
                                    "0": "35",
                                    "1": "161",
                                    "2": "Steeleye Stout",
                                    "3": "20",
                                    "4": "18"
                                },
                                {
                                    "0": "39",
                                    "1": "181",
                                    "2": "Chartreuse verte",
                                    "3": "69",
                                    "4": "18"
                                },
                                {
                                    "0": "1",
                                    "1": "11",
                                    "2": "Chai",
                                    "3": "39",
                                    "4": "18"
                                },
                                {
                                    "0": "2",
                                    "1": "11",
                                    "2": "Chang",
                                    "3": "17",
                                    "4": "19"
                                },
                                {
                                    "0": "36",
                                    "1": "178",
                                    "2": "Inlagd Sill",
                                    "3": "112",
                                    "4": "19"
                                },
                                {
                                    "0": "49",
                                    "1": "233",
                                    "2": "Maxilaku",
                                    "3": "10",
                                    "4": "20"
                                },
                                {
                                    "0": "11",
                                    "1": "54",
                                    "2": "Queso Cabrales",
                                    "3": "22",
                                    "4": "21"
                                },
                                {
                                    "0": "22",
                                    "1": "95",
                                    "2": "Gustaf's Knäckebröd",
                                    "3": "104",
                                    "4": "21"
                                },
                                {
                                    "0": "4",
                                    "1": "22",
                                    "2": "Chef Anton's Cajun Seasoning",
                                    "3": "53",
                                    "4": "22"
                                },
                                {
                                    "0": "55",
                                    "1": "256",
                                    "2": "Pâté chinois",
                                    "3": "115",
                                    "4": "24"
                                },
                                {
                                    "0": "33",
                                    "1": "154",
                                    "2": "Geitost",
                                    "3": "112",
                                    "4": "25"
                                },
                                {
                                    "0": "6",
                                    "1": "32",
                                    "2": "Grandma's Boysenberry Spread",
                                    "3": "120",
                                    "4": "25"
                                },
                                {
                                    "0": "37",
                                    "1": "178",
                                    "2": "Gravad lax",
                                    "3": "11",
                                    "4": "26"
                                },
                                {
                                    "0": "7",
                                    "1": "37",
                                    "2": "Uncle Bob's Organic Dried Pears",
                                    "3": "15",
                                    "4": "30"
                                },
                                {
                                    "0": "10",
                                    "1": "48",
                                    "2": "Ikura",
                                    "3": "31",
                                    "4": "31"
                                },
                                {
                                    "0": "32",
                                    "1": "144",
                                    "2": "Mascarpone Fabioli",
                                    "3": "9",
                                    "4": "32"
                                },
                                {
                                    "0": "60",
                                    "1": "284",
                                    "2": "Camembert Pierrot",
                                    "3": "19",
                                    "4": "34"
                                },
                                {
                                    "0": "69",
                                    "1": "154",
                                    "2": "Gudbrandsdalsost",
                                    "3": "26",
                                    "4": "36"
                                },
                                {
                                    "0": "56",
                                    "1": "265",
                                    "2": "Gnocchi di nonna Alice",
                                    "3": "21",
                                    "4": "38"
                                },
                                {
                                    "0": "12",
                                    "1": "54",
                                    "2": "Queso Manchego La Pastora",
                                    "3": "86",
                                    "4": "38"
                                },
                                {
                                    "0": "17",
                                    "1": "761",
                                    "2": "Alice Mutton",
                                    "3": "0",
                                    "4": "39"
                                },
                                {
                                    "0": "8",
                                    "1": "32",
                                    "2": "Northwoods Cranberry Sauce",
                                    "3": "6",
                                    "4": "40"
                                },
                                {
                                    "0": "24",
                                    "1": "1011",
                                    "2": "Guaraná Fantástica",
                                    "3": "20",
                                    "4": "45"
                                },
                                {
                                    "0": "43",
                                    "1": "201",
                                    "2": "Ipoh Coffee",
                                    "3": "17",
                                    "4": "46"
                                },
                                {
                                    "0": "51",
                                    "1": "247",
                                    "2": "Manjimup Dried Apples",
                                    "3": "20",
                                    "4": "53"
                                },
                                {
                                    "0": "59",
                                    "1": "284",
                                    "2": "Raclette Courdavault",
                                    "3": "79",
                                    "4": "55"
                                },
                                {
                                    "0": "20",
                                    "1": "83",
                                    "2": "Sir Rodney's Marmalade",
                                    "3": "40",
                                    "4": "81"
                                },
                                {
                                    "0": "19",
                                    "1": "83",
                                    "2": "Teatime Chocolate Biscuits",
                                    "3": "25",
                                    "4": "92"
                                },
                                {
                                    "0": "45",
                                    "1": "218",
                                    "2": "Rogede sild",
                                    "3": "5",
                                    "4": "95"
                                },
                                {
                                    "0": "47",
                                    "1": "223",
                                    "2": "Zaanse koeken",
                                    "3": "36",
                                    "4": "95"
                                },
                                {
                                    "0": "9",
                                    "1": "461",
                                    "2": "Mishi Kobe Niku",
                                    "3": "29",
                                    "4": "97"
                                },
                                {
                                    "0": "31",
                                    "1": "144",
                                    "2": "Gorgonzola Telino",
                                    "3": "0",
                                    "4": "125"
                                },
                                {
                                    "0": "68",
                                    "1": "83",
                                    "2": "Scottish Longbreads",
                                    "3": "6",
                                    "4": "125"
                                },
                                {
                                    "0": "15",
                                    "1": "62",
                                    "2": "Genen Shouyu",
                                    "3": "39",
                                    "4": "155"
                                },
                                {
                                    "0": "40",
                                    "1": "198",
                                    "2": "Boston Crab Meat",
                                    "3": "123",
                                    "4": "184"
                                },
                                {
                                    "0": "57",
                                    "1": "265",
                                    "2": "Ravioli Angelo",
                                    "3": "36",
                                    "4": "195"
                                },
                                {
                                    "0": "71",
                                    "1": "154",
                                    "2": "Flotemysost",
                                    "3": "26",
                                    "4": "215"
                                },
                                {
                                    "0": "61",
                                    "1": "292",
                                    "2": "Sirop d'érable",
                                    "3": "113",
                                    "4": "285"
                                },
                                {
                                    "0": "53",
                                    "1": "2461",
                                    "2": "Perth Pasties",
                                    "3": "0",
                                    "4": "328"
                                },
                                {
                                    "0": "72",
                                    "1": "144",
                                    "2": "Mozzarella di Giovanni",
                                    "3": "14",
                                    "4": "348"
                                },
                                {
                                    "0": "27",
                                    "1": "113",
                                    "2": "Schoggi Schokolade",
                                    "3": "49",
                                    "4": "439"
                                },
                                {
                                    "0": "63",
                                    "1": "72",
                                    "2": "Vegie-spread",
                                    "3": "24",
                                    "4": "439"
                                },
                                {
                                    "0": "28",
                                    "1": "1271",
                                    "2": "Rössle Sauerkraut",
                                    "3": "26",
                                    "4": "456"
                                },
                                {
                                    "0": "62",
                                    "1": "293",
                                    "2": "Tarte au sucre",
                                    "3": "17",
                                    "4": "493"
                                },
                                {
                                    "0": "18",
                                    "1": "78",
                                    "2": "Carnarvon Tigers",
                                    "3": "42",
                                    "4": "625"
                                },
                                {
                                    "0": "54",
                                    "1": "256",
                                    "2": "Tourtière",
                                    "3": "21",
                                    "4": "745"
                                },
                                {
                                    "0": "75",
                                    "1": "121",
                                    "2": "Rhönbräu Klosterbier",
                                    "3": "125",
                                    "4": "775"
                                },
                                {
                                    "0": "41",
                                    "1": "198",
                                    "2": "Jack's New England Clam Chowder",
                                    "3": "85",
                                    "4": "965"
                                },
                                {
                                    "0": "48",
                                    "1": "223",
                                    "2": "Chocolade",
                                    "3": "15",
                                    "4": "1275"
                                },
                                {
                                    "0": "58",
                                    "1": "278",
                                    "2": "Escargots de Bourgogne",
                                    "3": "62",
                                    "4": "1325"
                                },
                                {
                                    "0": "50",
                                    "1": "233",
                                    "2": "Valkoinen suklaa",
                                    "3": "65",
                                    "4": "1625"
                                },
                                {
                                    "0": "16",
                                    "1": "73",
                                    "2": "Pavlova",
                                    "3": "29",
                                    "4": "1745"
                                },
                                {
                                    "0": "44",
                                    "1": "202",
                                    "2": "Gula Malacca",
                                    "3": "27",
                                    "4": "1945"
                                },
                                {
                                    "0": "65",
                                    "1": "22",
                                    "2": "Louisiana Fiery Hot Pepper Sauce",
                                    "3": "76",
                                    "4": "2105"
                                },
                                {
                                    "0": "5",
                                    "1": "221",
                                    "2": "Chef Anton's Gumbo Mix",
                                    "3": "0",
                                    "4": "2135"
                                },
                                {
                                    "0": "14",
                                    "1": "67",
                                    "2": "Tofu",
                                    "3": "35",
                                    "4": "2325"
                                },
                                {
                                    "0": "30",
                                    "1": "138",
                                    "2": "Nord-Ost Matjeshering",
                                    "3": "10",
                                    "4": "2589"
                                },
                                {
                                    "0": "38",
                                    "1": "181",
                                    "2": "Côte de Blaye",
                                    "3": "17",
                                    "4": "2635"
                                },
                                {
                                    "0": "26",
                                    "1": "113",
                                    "2": "Gumbär Gummibärchen",
                                    "3": "15",
                                    "4": "3123"
                                },
                                {
                                    "0": "64",
                                    "1": "125",
                                    "2": "Wimmers gute Semmelknödel",
                                    "3": "22",
                                    "4": "3325"
                                },
                                {
                                    "0": "29",
                                    "1": "1261",
                                    "2": "Thüringer Rostbratwurst",
                                    "3": "0",
                                    "4": "12379"
                                }
                            ]
                        },
                        "text/html": [
                            "<table>",
                            "<tr><th>itemid</th><th>itemref</th><th>itemname</th><th>quantity</th><th>price</th></tr>",
                            "<tr><td>13</td><td>68</td><td>Konbu</td><td>24</td><td>6</td></tr>",
                            "<tr><td>52</td><td>245</td><td>Filo Mix</td><td>38</td><td>7</td></tr>",
                            "<tr><td>23</td><td>95</td><td>Tunnbröd</td><td>61</td><td>9</td></tr>",
                            "<tr><td>21</td><td>83</td><td>Sir Rodney's Scones</td><td>3</td><td>10</td></tr>",
                            "<tr><td>74</td><td>47</td><td>Longlife Tofu</td><td>4</td><td>10</td></tr>",
                            "<tr><td>3</td><td>12</td><td>Aniseed Syrup</td><td>13</td><td>10</td></tr>",
                            "<tr><td>46</td><td>218</td><td>Spegesild</td><td>95</td><td>12</td></tr>",
                            "<tr><td>77</td><td>122</td><td>Original Frankfurter grüne Soße</td><td>32</td><td>13</td></tr>",
                            "<tr><td>67</td><td>161</td><td>Laughing Lumberjack Lager</td><td>52</td><td>14</td></tr>",
                            "<tr><td>25</td><td>113</td><td>NuNuCa Nuß-Nougat-Creme</td><td>76</td><td>14</td></tr>",
                            "<tr><td>34</td><td>161</td><td>Sasquatch Ale</td><td>111</td><td>14</td></tr>",
                            "<tr><td>42</td><td>2051</td><td>Singaporean Hokkien Fried Mee</td><td>26</td><td>14</td></tr>",
                            "<tr><td>70</td><td>71</td><td>Outback Lager</td><td>15</td><td>15</td></tr>",
                            "<tr><td>73</td><td>178</td><td>Röd Kaviar</td><td>101</td><td>15</td></tr>",
                            "<tr><td>66</td><td>22</td><td>Louisiana Hot Spiced Okra</td><td>4</td><td>17</td></tr>",
                            "<tr><td>76</td><td>231</td><td>Lakkalikööri</td><td>57</td><td>18</td></tr>",
                            "<tr><td>35</td><td>161</td><td>Steeleye Stout</td><td>20</td><td>18</td></tr>",
                            "<tr><td>39</td><td>181</td><td>Chartreuse verte</td><td>69</td><td>18</td></tr>",
                            "<tr><td>1</td><td>11</td><td>Chai</td><td>39</td><td>18</td></tr>",
                            "<tr><td>2</td><td>11</td><td>Chang</td><td>17</td><td>19</td></tr>",
                            "<tr><td>36</td><td>178</td><td>Inlagd Sill</td><td>112</td><td>19</td></tr>",
                            "<tr><td>49</td><td>233</td><td>Maxilaku</td><td>10</td><td>20</td></tr>",
                            "<tr><td>11</td><td>54</td><td>Queso Cabrales</td><td>22</td><td>21</td></tr>",
                            "<tr><td>22</td><td>95</td><td>Gustaf's Knäckebröd</td><td>104</td><td>21</td></tr>",
                            "<tr><td>4</td><td>22</td><td>Chef Anton's Cajun Seasoning</td><td>53</td><td>22</td></tr>",
                            "<tr><td>55</td><td>256</td><td>Pâté chinois</td><td>115</td><td>24</td></tr>",
                            "<tr><td>33</td><td>154</td><td>Geitost</td><td>112</td><td>25</td></tr>",
                            "<tr><td>6</td><td>32</td><td>Grandma's Boysenberry Spread</td><td>120</td><td>25</td></tr>",
                            "<tr><td>37</td><td>178</td><td>Gravad lax</td><td>11</td><td>26</td></tr>",
                            "<tr><td>7</td><td>37</td><td>Uncle Bob's Organic Dried Pears</td><td>15</td><td>30</td></tr>",
                            "<tr><td>10</td><td>48</td><td>Ikura</td><td>31</td><td>31</td></tr>",
                            "<tr><td>32</td><td>144</td><td>Mascarpone Fabioli</td><td>9</td><td>32</td></tr>",
                            "<tr><td>60</td><td>284</td><td>Camembert Pierrot</td><td>19</td><td>34</td></tr>",
                            "<tr><td>69</td><td>154</td><td>Gudbrandsdalsost</td><td>26</td><td>36</td></tr>",
                            "<tr><td>56</td><td>265</td><td>Gnocchi di nonna Alice</td><td>21</td><td>38</td></tr>",
                            "<tr><td>12</td><td>54</td><td>Queso Manchego La Pastora</td><td>86</td><td>38</td></tr>",
                            "<tr><td>17</td><td>761</td><td>Alice Mutton</td><td>0</td><td>39</td></tr>",
                            "<tr><td>8</td><td>32</td><td>Northwoods Cranberry Sauce</td><td>6</td><td>40</td></tr>",
                            "<tr><td>24</td><td>1011</td><td>Guaraná Fantástica</td><td>20</td><td>45</td></tr>",
                            "<tr><td>43</td><td>201</td><td>Ipoh Coffee</td><td>17</td><td>46</td></tr>",
                            "<tr><td>51</td><td>247</td><td>Manjimup Dried Apples</td><td>20</td><td>53</td></tr>",
                            "<tr><td>59</td><td>284</td><td>Raclette Courdavault</td><td>79</td><td>55</td></tr>",
                            "<tr><td>20</td><td>83</td><td>Sir Rodney's Marmalade</td><td>40</td><td>81</td></tr>",
                            "<tr><td>19</td><td>83</td><td>Teatime Chocolate Biscuits</td><td>25</td><td>92</td></tr>",
                            "<tr><td>45</td><td>218</td><td>Rogede sild</td><td>5</td><td>95</td></tr>",
                            "<tr><td>47</td><td>223</td><td>Zaanse koeken</td><td>36</td><td>95</td></tr>",
                            "<tr><td>9</td><td>461</td><td>Mishi Kobe Niku</td><td>29</td><td>97</td></tr>",
                            "<tr><td>31</td><td>144</td><td>Gorgonzola Telino</td><td>0</td><td>125</td></tr>",
                            "<tr><td>68</td><td>83</td><td>Scottish Longbreads</td><td>6</td><td>125</td></tr>",
                            "<tr><td>15</td><td>62</td><td>Genen Shouyu</td><td>39</td><td>155</td></tr>",
                            "<tr><td>40</td><td>198</td><td>Boston Crab Meat</td><td>123</td><td>184</td></tr>",
                            "<tr><td>57</td><td>265</td><td>Ravioli Angelo</td><td>36</td><td>195</td></tr>",
                            "<tr><td>71</td><td>154</td><td>Flotemysost</td><td>26</td><td>215</td></tr>",
                            "<tr><td>61</td><td>292</td><td>Sirop d'érable</td><td>113</td><td>285</td></tr>",
                            "<tr><td>53</td><td>2461</td><td>Perth Pasties</td><td>0</td><td>328</td></tr>",
                            "<tr><td>72</td><td>144</td><td>Mozzarella di Giovanni</td><td>14</td><td>348</td></tr>",
                            "<tr><td>27</td><td>113</td><td>Schoggi Schokolade</td><td>49</td><td>439</td></tr>",
                            "<tr><td>63</td><td>72</td><td>Vegie-spread</td><td>24</td><td>439</td></tr>",
                            "<tr><td>28</td><td>1271</td><td>Rössle Sauerkraut</td><td>26</td><td>456</td></tr>",
                            "<tr><td>62</td><td>293</td><td>Tarte au sucre</td><td>17</td><td>493</td></tr>",
                            "<tr><td>18</td><td>78</td><td>Carnarvon Tigers</td><td>42</td><td>625</td></tr>",
                            "<tr><td>54</td><td>256</td><td>Tourtière</td><td>21</td><td>745</td></tr>",
                            "<tr><td>75</td><td>121</td><td>Rhönbräu Klosterbier</td><td>125</td><td>775</td></tr>",
                            "<tr><td>41</td><td>198</td><td>Jack's New England Clam Chowder</td><td>85</td><td>965</td></tr>",
                            "<tr><td>48</td><td>223</td><td>Chocolade</td><td>15</td><td>1275</td></tr>",
                            "<tr><td>58</td><td>278</td><td>Escargots de Bourgogne</td><td>62</td><td>1325</td></tr>",
                            "<tr><td>50</td><td>233</td><td>Valkoinen suklaa</td><td>65</td><td>1625</td></tr>",
                            "<tr><td>16</td><td>73</td><td>Pavlova</td><td>29</td><td>1745</td></tr>",
                            "<tr><td>44</td><td>202</td><td>Gula Malacca</td><td>27</td><td>1945</td></tr>",
                            "<tr><td>65</td><td>22</td><td>Louisiana Fiery Hot Pepper Sauce</td><td>76</td><td>2105</td></tr>",
                            "<tr><td>5</td><td>221</td><td>Chef Anton's Gumbo Mix</td><td>0</td><td>2135</td></tr>",
                            "<tr><td>14</td><td>67</td><td>Tofu</td><td>35</td><td>2325</td></tr>",
                            "<tr><td>30</td><td>138</td><td>Nord-Ost Matjeshering</td><td>10</td><td>2589</td></tr>",
                            "<tr><td>38</td><td>181</td><td>Côte de Blaye</td><td>17</td><td>2635</td></tr>",
                            "<tr><td>26</td><td>113</td><td>Gumbär Gummibärchen</td><td>15</td><td>3123</td></tr>",
                            "<tr><td>64</td><td>125</td><td>Wimmers gute Semmelknödel</td><td>22</td><td>3325</td></tr>",
                            "<tr><td>29</td><td>1261</td><td>Thüringer Rostbratwurst</td><td>0</td><td>12379</td></tr>",
                            "</table>"
                        ]
                    }
                }
            ],
            "execution_count": 2
        },
        {
            "cell_type": "code",
            "source": [
                "SELECT *\r\n",
                "FROM alters\r\n",
                "ORDER BY price DESC -- The table has sorted by price column descending order"
            ],
            "metadata": {
                "language": "sql",
                "azdata_cell_guid": "cde19fe9-6c27-476b-8437-92f0dda74021"
            },
            "outputs": [
                {
                    "output_type": "display_data",
                    "data": {
                        "text/html": "(77 rows affected)"
                    },
                    "metadata": {}
                },
                {
                    "output_type": "display_data",
                    "data": {
                        "text/html": "Total execution time: 00:00:00.014"
                    },
                    "metadata": {}
                },
                {
                    "output_type": "execute_result",
                    "metadata": {},
                    "execution_count": 3,
                    "data": {
                        "application/vnd.dataresource+json": {
                            "schema": {
                                "fields": [
                                    {
                                        "name": "itemid"
                                    },
                                    {
                                        "name": "itemref"
                                    },
                                    {
                                        "name": "itemname"
                                    },
                                    {
                                        "name": "quantity"
                                    },
                                    {
                                        "name": "price"
                                    }
                                ]
                            },
                            "data": [
                                {
                                    "0": "29",
                                    "1": "1261",
                                    "2": "Thüringer Rostbratwurst",
                                    "3": "0",
                                    "4": "12379"
                                },
                                {
                                    "0": "64",
                                    "1": "125",
                                    "2": "Wimmers gute Semmelknödel",
                                    "3": "22",
                                    "4": "3325"
                                },
                                {
                                    "0": "26",
                                    "1": "113",
                                    "2": "Gumbär Gummibärchen",
                                    "3": "15",
                                    "4": "3123"
                                },
                                {
                                    "0": "38",
                                    "1": "181",
                                    "2": "Côte de Blaye",
                                    "3": "17",
                                    "4": "2635"
                                },
                                {
                                    "0": "30",
                                    "1": "138",
                                    "2": "Nord-Ost Matjeshering",
                                    "3": "10",
                                    "4": "2589"
                                },
                                {
                                    "0": "14",
                                    "1": "67",
                                    "2": "Tofu",
                                    "3": "35",
                                    "4": "2325"
                                },
                                {
                                    "0": "5",
                                    "1": "221",
                                    "2": "Chef Anton's Gumbo Mix",
                                    "3": "0",
                                    "4": "2135"
                                },
                                {
                                    "0": "65",
                                    "1": "22",
                                    "2": "Louisiana Fiery Hot Pepper Sauce",
                                    "3": "76",
                                    "4": "2105"
                                },
                                {
                                    "0": "44",
                                    "1": "202",
                                    "2": "Gula Malacca",
                                    "3": "27",
                                    "4": "1945"
                                },
                                {
                                    "0": "16",
                                    "1": "73",
                                    "2": "Pavlova",
                                    "3": "29",
                                    "4": "1745"
                                },
                                {
                                    "0": "50",
                                    "1": "233",
                                    "2": "Valkoinen suklaa",
                                    "3": "65",
                                    "4": "1625"
                                },
                                {
                                    "0": "58",
                                    "1": "278",
                                    "2": "Escargots de Bourgogne",
                                    "3": "62",
                                    "4": "1325"
                                },
                                {
                                    "0": "48",
                                    "1": "223",
                                    "2": "Chocolade",
                                    "3": "15",
                                    "4": "1275"
                                },
                                {
                                    "0": "41",
                                    "1": "198",
                                    "2": "Jack's New England Clam Chowder",
                                    "3": "85",
                                    "4": "965"
                                },
                                {
                                    "0": "75",
                                    "1": "121",
                                    "2": "Rhönbräu Klosterbier",
                                    "3": "125",
                                    "4": "775"
                                },
                                {
                                    "0": "54",
                                    "1": "256",
                                    "2": "Tourtière",
                                    "3": "21",
                                    "4": "745"
                                },
                                {
                                    "0": "18",
                                    "1": "78",
                                    "2": "Carnarvon Tigers",
                                    "3": "42",
                                    "4": "625"
                                },
                                {
                                    "0": "62",
                                    "1": "293",
                                    "2": "Tarte au sucre",
                                    "3": "17",
                                    "4": "493"
                                },
                                {
                                    "0": "28",
                                    "1": "1271",
                                    "2": "Rössle Sauerkraut",
                                    "3": "26",
                                    "4": "456"
                                },
                                {
                                    "0": "63",
                                    "1": "72",
                                    "2": "Vegie-spread",
                                    "3": "24",
                                    "4": "439"
                                },
                                {
                                    "0": "27",
                                    "1": "113",
                                    "2": "Schoggi Schokolade",
                                    "3": "49",
                                    "4": "439"
                                },
                                {
                                    "0": "72",
                                    "1": "144",
                                    "2": "Mozzarella di Giovanni",
                                    "3": "14",
                                    "4": "348"
                                },
                                {
                                    "0": "53",
                                    "1": "2461",
                                    "2": "Perth Pasties",
                                    "3": "0",
                                    "4": "328"
                                },
                                {
                                    "0": "61",
                                    "1": "292",
                                    "2": "Sirop d'érable",
                                    "3": "113",
                                    "4": "285"
                                },
                                {
                                    "0": "71",
                                    "1": "154",
                                    "2": "Flotemysost",
                                    "3": "26",
                                    "4": "215"
                                },
                                {
                                    "0": "57",
                                    "1": "265",
                                    "2": "Ravioli Angelo",
                                    "3": "36",
                                    "4": "195"
                                },
                                {
                                    "0": "40",
                                    "1": "198",
                                    "2": "Boston Crab Meat",
                                    "3": "123",
                                    "4": "184"
                                },
                                {
                                    "0": "15",
                                    "1": "62",
                                    "2": "Genen Shouyu",
                                    "3": "39",
                                    "4": "155"
                                },
                                {
                                    "0": "68",
                                    "1": "83",
                                    "2": "Scottish Longbreads",
                                    "3": "6",
                                    "4": "125"
                                },
                                {
                                    "0": "31",
                                    "1": "144",
                                    "2": "Gorgonzola Telino",
                                    "3": "0",
                                    "4": "125"
                                },
                                {
                                    "0": "9",
                                    "1": "461",
                                    "2": "Mishi Kobe Niku",
                                    "3": "29",
                                    "4": "97"
                                },
                                {
                                    "0": "47",
                                    "1": "223",
                                    "2": "Zaanse koeken",
                                    "3": "36",
                                    "4": "95"
                                },
                                {
                                    "0": "45",
                                    "1": "218",
                                    "2": "Rogede sild",
                                    "3": "5",
                                    "4": "95"
                                },
                                {
                                    "0": "19",
                                    "1": "83",
                                    "2": "Teatime Chocolate Biscuits",
                                    "3": "25",
                                    "4": "92"
                                },
                                {
                                    "0": "20",
                                    "1": "83",
                                    "2": "Sir Rodney's Marmalade",
                                    "3": "40",
                                    "4": "81"
                                },
                                {
                                    "0": "59",
                                    "1": "284",
                                    "2": "Raclette Courdavault",
                                    "3": "79",
                                    "4": "55"
                                },
                                {
                                    "0": "51",
                                    "1": "247",
                                    "2": "Manjimup Dried Apples",
                                    "3": "20",
                                    "4": "53"
                                },
                                {
                                    "0": "43",
                                    "1": "201",
                                    "2": "Ipoh Coffee",
                                    "3": "17",
                                    "4": "46"
                                },
                                {
                                    "0": "24",
                                    "1": "1011",
                                    "2": "Guaraná Fantástica",
                                    "3": "20",
                                    "4": "45"
                                },
                                {
                                    "0": "8",
                                    "1": "32",
                                    "2": "Northwoods Cranberry Sauce",
                                    "3": "6",
                                    "4": "40"
                                },
                                {
                                    "0": "17",
                                    "1": "761",
                                    "2": "Alice Mutton",
                                    "3": "0",
                                    "4": "39"
                                },
                                {
                                    "0": "12",
                                    "1": "54",
                                    "2": "Queso Manchego La Pastora",
                                    "3": "86",
                                    "4": "38"
                                },
                                {
                                    "0": "56",
                                    "1": "265",
                                    "2": "Gnocchi di nonna Alice",
                                    "3": "21",
                                    "4": "38"
                                },
                                {
                                    "0": "69",
                                    "1": "154",
                                    "2": "Gudbrandsdalsost",
                                    "3": "26",
                                    "4": "36"
                                },
                                {
                                    "0": "60",
                                    "1": "284",
                                    "2": "Camembert Pierrot",
                                    "3": "19",
                                    "4": "34"
                                },
                                {
                                    "0": "32",
                                    "1": "144",
                                    "2": "Mascarpone Fabioli",
                                    "3": "9",
                                    "4": "32"
                                },
                                {
                                    "0": "10",
                                    "1": "48",
                                    "2": "Ikura",
                                    "3": "31",
                                    "4": "31"
                                },
                                {
                                    "0": "7",
                                    "1": "37",
                                    "2": "Uncle Bob's Organic Dried Pears",
                                    "3": "15",
                                    "4": "30"
                                },
                                {
                                    "0": "37",
                                    "1": "178",
                                    "2": "Gravad lax",
                                    "3": "11",
                                    "4": "26"
                                },
                                {
                                    "0": "33",
                                    "1": "154",
                                    "2": "Geitost",
                                    "3": "112",
                                    "4": "25"
                                },
                                {
                                    "0": "6",
                                    "1": "32",
                                    "2": "Grandma's Boysenberry Spread",
                                    "3": "120",
                                    "4": "25"
                                },
                                {
                                    "0": "55",
                                    "1": "256",
                                    "2": "Pâté chinois",
                                    "3": "115",
                                    "4": "24"
                                },
                                {
                                    "0": "4",
                                    "1": "22",
                                    "2": "Chef Anton's Cajun Seasoning",
                                    "3": "53",
                                    "4": "22"
                                },
                                {
                                    "0": "11",
                                    "1": "54",
                                    "2": "Queso Cabrales",
                                    "3": "22",
                                    "4": "21"
                                },
                                {
                                    "0": "22",
                                    "1": "95",
                                    "2": "Gustaf's Knäckebröd",
                                    "3": "104",
                                    "4": "21"
                                },
                                {
                                    "0": "49",
                                    "1": "233",
                                    "2": "Maxilaku",
                                    "3": "10",
                                    "4": "20"
                                },
                                {
                                    "0": "2",
                                    "1": "11",
                                    "2": "Chang",
                                    "3": "17",
                                    "4": "19"
                                },
                                {
                                    "0": "36",
                                    "1": "178",
                                    "2": "Inlagd Sill",
                                    "3": "112",
                                    "4": "19"
                                },
                                {
                                    "0": "35",
                                    "1": "161",
                                    "2": "Steeleye Stout",
                                    "3": "20",
                                    "4": "18"
                                },
                                {
                                    "0": "39",
                                    "1": "181",
                                    "2": "Chartreuse verte",
                                    "3": "69",
                                    "4": "18"
                                },
                                {
                                    "0": "76",
                                    "1": "231",
                                    "2": "Lakkalikööri",
                                    "3": "57",
                                    "4": "18"
                                },
                                {
                                    "0": "1",
                                    "1": "11",
                                    "2": "Chai",
                                    "3": "39",
                                    "4": "18"
                                },
                                {
                                    "0": "66",
                                    "1": "22",
                                    "2": "Louisiana Hot Spiced Okra",
                                    "3": "4",
                                    "4": "17"
                                },
                                {
                                    "0": "70",
                                    "1": "71",
                                    "2": "Outback Lager",
                                    "3": "15",
                                    "4": "15"
                                },
                                {
                                    "0": "73",
                                    "1": "178",
                                    "2": "Röd Kaviar",
                                    "3": "101",
                                    "4": "15"
                                },
                                {
                                    "0": "25",
                                    "1": "113",
                                    "2": "NuNuCa Nuß-Nougat-Creme",
                                    "3": "76",
                                    "4": "14"
                                },
                                {
                                    "0": "34",
                                    "1": "161",
                                    "2": "Sasquatch Ale",
                                    "3": "111",
                                    "4": "14"
                                },
                                {
                                    "0": "67",
                                    "1": "161",
                                    "2": "Laughing Lumberjack Lager",
                                    "3": "52",
                                    "4": "14"
                                },
                                {
                                    "0": "42",
                                    "1": "2051",
                                    "2": "Singaporean Hokkien Fried Mee",
                                    "3": "26",
                                    "4": "14"
                                },
                                {
                                    "0": "77",
                                    "1": "122",
                                    "2": "Original Frankfurter grüne Soße",
                                    "3": "32",
                                    "4": "13"
                                },
                                {
                                    "0": "46",
                                    "1": "218",
                                    "2": "Spegesild",
                                    "3": "95",
                                    "4": "12"
                                },
                                {
                                    "0": "21",
                                    "1": "83",
                                    "2": "Sir Rodney's Scones",
                                    "3": "3",
                                    "4": "10"
                                },
                                {
                                    "0": "74",
                                    "1": "47",
                                    "2": "Longlife Tofu",
                                    "3": "4",
                                    "4": "10"
                                },
                                {
                                    "0": "3",
                                    "1": "12",
                                    "2": "Aniseed Syrup",
                                    "3": "13",
                                    "4": "10"
                                },
                                {
                                    "0": "23",
                                    "1": "95",
                                    "2": "Tunnbröd",
                                    "3": "61",
                                    "4": "9"
                                },
                                {
                                    "0": "52",
                                    "1": "245",
                                    "2": "Filo Mix",
                                    "3": "38",
                                    "4": "7"
                                },
                                {
                                    "0": "13",
                                    "1": "68",
                                    "2": "Konbu",
                                    "3": "24",
                                    "4": "6"
                                }
                            ]
                        },
                        "text/html": [
                            "<table>",
                            "<tr><th>itemid</th><th>itemref</th><th>itemname</th><th>quantity</th><th>price</th></tr>",
                            "<tr><td>29</td><td>1261</td><td>Thüringer Rostbratwurst</td><td>0</td><td>12379</td></tr>",
                            "<tr><td>64</td><td>125</td><td>Wimmers gute Semmelknödel</td><td>22</td><td>3325</td></tr>",
                            "<tr><td>26</td><td>113</td><td>Gumbär Gummibärchen</td><td>15</td><td>3123</td></tr>",
                            "<tr><td>38</td><td>181</td><td>Côte de Blaye</td><td>17</td><td>2635</td></tr>",
                            "<tr><td>30</td><td>138</td><td>Nord-Ost Matjeshering</td><td>10</td><td>2589</td></tr>",
                            "<tr><td>14</td><td>67</td><td>Tofu</td><td>35</td><td>2325</td></tr>",
                            "<tr><td>5</td><td>221</td><td>Chef Anton's Gumbo Mix</td><td>0</td><td>2135</td></tr>",
                            "<tr><td>65</td><td>22</td><td>Louisiana Fiery Hot Pepper Sauce</td><td>76</td><td>2105</td></tr>",
                            "<tr><td>44</td><td>202</td><td>Gula Malacca</td><td>27</td><td>1945</td></tr>",
                            "<tr><td>16</td><td>73</td><td>Pavlova</td><td>29</td><td>1745</td></tr>",
                            "<tr><td>50</td><td>233</td><td>Valkoinen suklaa</td><td>65</td><td>1625</td></tr>",
                            "<tr><td>58</td><td>278</td><td>Escargots de Bourgogne</td><td>62</td><td>1325</td></tr>",
                            "<tr><td>48</td><td>223</td><td>Chocolade</td><td>15</td><td>1275</td></tr>",
                            "<tr><td>41</td><td>198</td><td>Jack's New England Clam Chowder</td><td>85</td><td>965</td></tr>",
                            "<tr><td>75</td><td>121</td><td>Rhönbräu Klosterbier</td><td>125</td><td>775</td></tr>",
                            "<tr><td>54</td><td>256</td><td>Tourtière</td><td>21</td><td>745</td></tr>",
                            "<tr><td>18</td><td>78</td><td>Carnarvon Tigers</td><td>42</td><td>625</td></tr>",
                            "<tr><td>62</td><td>293</td><td>Tarte au sucre</td><td>17</td><td>493</td></tr>",
                            "<tr><td>28</td><td>1271</td><td>Rössle Sauerkraut</td><td>26</td><td>456</td></tr>",
                            "<tr><td>63</td><td>72</td><td>Vegie-spread</td><td>24</td><td>439</td></tr>",
                            "<tr><td>27</td><td>113</td><td>Schoggi Schokolade</td><td>49</td><td>439</td></tr>",
                            "<tr><td>72</td><td>144</td><td>Mozzarella di Giovanni</td><td>14</td><td>348</td></tr>",
                            "<tr><td>53</td><td>2461</td><td>Perth Pasties</td><td>0</td><td>328</td></tr>",
                            "<tr><td>61</td><td>292</td><td>Sirop d'érable</td><td>113</td><td>285</td></tr>",
                            "<tr><td>71</td><td>154</td><td>Flotemysost</td><td>26</td><td>215</td></tr>",
                            "<tr><td>57</td><td>265</td><td>Ravioli Angelo</td><td>36</td><td>195</td></tr>",
                            "<tr><td>40</td><td>198</td><td>Boston Crab Meat</td><td>123</td><td>184</td></tr>",
                            "<tr><td>15</td><td>62</td><td>Genen Shouyu</td><td>39</td><td>155</td></tr>",
                            "<tr><td>68</td><td>83</td><td>Scottish Longbreads</td><td>6</td><td>125</td></tr>",
                            "<tr><td>31</td><td>144</td><td>Gorgonzola Telino</td><td>0</td><td>125</td></tr>",
                            "<tr><td>9</td><td>461</td><td>Mishi Kobe Niku</td><td>29</td><td>97</td></tr>",
                            "<tr><td>47</td><td>223</td><td>Zaanse koeken</td><td>36</td><td>95</td></tr>",
                            "<tr><td>45</td><td>218</td><td>Rogede sild</td><td>5</td><td>95</td></tr>",
                            "<tr><td>19</td><td>83</td><td>Teatime Chocolate Biscuits</td><td>25</td><td>92</td></tr>",
                            "<tr><td>20</td><td>83</td><td>Sir Rodney's Marmalade</td><td>40</td><td>81</td></tr>",
                            "<tr><td>59</td><td>284</td><td>Raclette Courdavault</td><td>79</td><td>55</td></tr>",
                            "<tr><td>51</td><td>247</td><td>Manjimup Dried Apples</td><td>20</td><td>53</td></tr>",
                            "<tr><td>43</td><td>201</td><td>Ipoh Coffee</td><td>17</td><td>46</td></tr>",
                            "<tr><td>24</td><td>1011</td><td>Guaraná Fantástica</td><td>20</td><td>45</td></tr>",
                            "<tr><td>8</td><td>32</td><td>Northwoods Cranberry Sauce</td><td>6</td><td>40</td></tr>",
                            "<tr><td>17</td><td>761</td><td>Alice Mutton</td><td>0</td><td>39</td></tr>",
                            "<tr><td>12</td><td>54</td><td>Queso Manchego La Pastora</td><td>86</td><td>38</td></tr>",
                            "<tr><td>56</td><td>265</td><td>Gnocchi di nonna Alice</td><td>21</td><td>38</td></tr>",
                            "<tr><td>69</td><td>154</td><td>Gudbrandsdalsost</td><td>26</td><td>36</td></tr>",
                            "<tr><td>60</td><td>284</td><td>Camembert Pierrot</td><td>19</td><td>34</td></tr>",
                            "<tr><td>32</td><td>144</td><td>Mascarpone Fabioli</td><td>9</td><td>32</td></tr>",
                            "<tr><td>10</td><td>48</td><td>Ikura</td><td>31</td><td>31</td></tr>",
                            "<tr><td>7</td><td>37</td><td>Uncle Bob's Organic Dried Pears</td><td>15</td><td>30</td></tr>",
                            "<tr><td>37</td><td>178</td><td>Gravad lax</td><td>11</td><td>26</td></tr>",
                            "<tr><td>33</td><td>154</td><td>Geitost</td><td>112</td><td>25</td></tr>",
                            "<tr><td>6</td><td>32</td><td>Grandma's Boysenberry Spread</td><td>120</td><td>25</td></tr>",
                            "<tr><td>55</td><td>256</td><td>Pâté chinois</td><td>115</td><td>24</td></tr>",
                            "<tr><td>4</td><td>22</td><td>Chef Anton's Cajun Seasoning</td><td>53</td><td>22</td></tr>",
                            "<tr><td>11</td><td>54</td><td>Queso Cabrales</td><td>22</td><td>21</td></tr>",
                            "<tr><td>22</td><td>95</td><td>Gustaf's Knäckebröd</td><td>104</td><td>21</td></tr>",
                            "<tr><td>49</td><td>233</td><td>Maxilaku</td><td>10</td><td>20</td></tr>",
                            "<tr><td>2</td><td>11</td><td>Chang</td><td>17</td><td>19</td></tr>",
                            "<tr><td>36</td><td>178</td><td>Inlagd Sill</td><td>112</td><td>19</td></tr>",
                            "<tr><td>35</td><td>161</td><td>Steeleye Stout</td><td>20</td><td>18</td></tr>",
                            "<tr><td>39</td><td>181</td><td>Chartreuse verte</td><td>69</td><td>18</td></tr>",
                            "<tr><td>76</td><td>231</td><td>Lakkalikööri</td><td>57</td><td>18</td></tr>",
                            "<tr><td>1</td><td>11</td><td>Chai</td><td>39</td><td>18</td></tr>",
                            "<tr><td>66</td><td>22</td><td>Louisiana Hot Spiced Okra</td><td>4</td><td>17</td></tr>",
                            "<tr><td>70</td><td>71</td><td>Outback Lager</td><td>15</td><td>15</td></tr>",
                            "<tr><td>73</td><td>178</td><td>Röd Kaviar</td><td>101</td><td>15</td></tr>",
                            "<tr><td>25</td><td>113</td><td>NuNuCa Nuß-Nougat-Creme</td><td>76</td><td>14</td></tr>",
                            "<tr><td>34</td><td>161</td><td>Sasquatch Ale</td><td>111</td><td>14</td></tr>",
                            "<tr><td>67</td><td>161</td><td>Laughing Lumberjack Lager</td><td>52</td><td>14</td></tr>",
                            "<tr><td>42</td><td>2051</td><td>Singaporean Hokkien Fried Mee</td><td>26</td><td>14</td></tr>",
                            "<tr><td>77</td><td>122</td><td>Original Frankfurter grüne Soße</td><td>32</td><td>13</td></tr>",
                            "<tr><td>46</td><td>218</td><td>Spegesild</td><td>95</td><td>12</td></tr>",
                            "<tr><td>21</td><td>83</td><td>Sir Rodney's Scones</td><td>3</td><td>10</td></tr>",
                            "<tr><td>74</td><td>47</td><td>Longlife Tofu</td><td>4</td><td>10</td></tr>",
                            "<tr><td>3</td><td>12</td><td>Aniseed Syrup</td><td>13</td><td>10</td></tr>",
                            "<tr><td>23</td><td>95</td><td>Tunnbröd</td><td>61</td><td>9</td></tr>",
                            "<tr><td>52</td><td>245</td><td>Filo Mix</td><td>38</td><td>7</td></tr>",
                            "<tr><td>13</td><td>68</td><td>Konbu</td><td>24</td><td>6</td></tr>",
                            "</table>"
                        ]
                    }
                }
            ],
            "execution_count": 3
        },
        {
            "cell_type": "markdown",
            "source": [
                "- You can also sort the data by multiple column. In this case the below SQL query selects all columns from the alter table and then sorts firstly by quantity descending order , if any quantity has the same value sorts the price by descending order."
            ],
            "metadata": {
                "language": "sql",
                "azdata_cell_guid": "c9f86941-af11-4a99-a026-e63cfff3dab3"
            },
            "attachments": {}
        },
        {
            "cell_type": "code",
            "source": [
                "SELECT *\r\n",
                "FROM alters\r\n",
                "ORDER BY quantity, price"
            ],
            "metadata": {
                "language": "sql",
                "azdata_cell_guid": "889cc7fb-8287-464d-8930-281daa2088d1"
            },
            "outputs": [
                {
                    "output_type": "display_data",
                    "data": {
                        "text/html": "(77 rows affected)"
                    },
                    "metadata": {}
                },
                {
                    "output_type": "display_data",
                    "data": {
                        "text/html": "Total execution time: 00:00:00.006"
                    },
                    "metadata": {}
                },
                {
                    "output_type": "execute_result",
                    "metadata": {},
                    "execution_count": 8,
                    "data": {
                        "application/vnd.dataresource+json": {
                            "schema": {
                                "fields": [
                                    {
                                        "name": "itemid"
                                    },
                                    {
                                        "name": "itemref"
                                    },
                                    {
                                        "name": "itemname"
                                    },
                                    {
                                        "name": "quantity"
                                    },
                                    {
                                        "name": "price"
                                    }
                                ]
                            },
                            "data": [
                                {
                                    "0": "17",
                                    "1": "761",
                                    "2": "Alice Mutton",
                                    "3": "0",
                                    "4": "39"
                                },
                                {
                                    "0": "31",
                                    "1": "144",
                                    "2": "Gorgonzola Telino",
                                    "3": "0",
                                    "4": "125"
                                },
                                {
                                    "0": "53",
                                    "1": "2461",
                                    "2": "Perth Pasties",
                                    "3": "0",
                                    "4": "328"
                                },
                                {
                                    "0": "5",
                                    "1": "221",
                                    "2": "Chef Anton's Gumbo Mix",
                                    "3": "0",
                                    "4": "2135"
                                },
                                {
                                    "0": "29",
                                    "1": "1261",
                                    "2": "Thüringer Rostbratwurst",
                                    "3": "0",
                                    "4": "12379"
                                },
                                {
                                    "0": "21",
                                    "1": "83",
                                    "2": "Sir Rodney's Scones",
                                    "3": "3",
                                    "4": "10"
                                },
                                {
                                    "0": "74",
                                    "1": "47",
                                    "2": "Longlife Tofu",
                                    "3": "4",
                                    "4": "10"
                                },
                                {
                                    "0": "66",
                                    "1": "22",
                                    "2": "Louisiana Hot Spiced Okra",
                                    "3": "4",
                                    "4": "17"
                                },
                                {
                                    "0": "45",
                                    "1": "218",
                                    "2": "Rogede sild",
                                    "3": "5",
                                    "4": "95"
                                },
                                {
                                    "0": "8",
                                    "1": "32",
                                    "2": "Northwoods Cranberry Sauce",
                                    "3": "6",
                                    "4": "40"
                                },
                                {
                                    "0": "68",
                                    "1": "83",
                                    "2": "Scottish Longbreads",
                                    "3": "6",
                                    "4": "125"
                                },
                                {
                                    "0": "32",
                                    "1": "144",
                                    "2": "Mascarpone Fabioli",
                                    "3": "9",
                                    "4": "32"
                                },
                                {
                                    "0": "49",
                                    "1": "233",
                                    "2": "Maxilaku",
                                    "3": "10",
                                    "4": "20"
                                },
                                {
                                    "0": "30",
                                    "1": "138",
                                    "2": "Nord-Ost Matjeshering",
                                    "3": "10",
                                    "4": "2589"
                                },
                                {
                                    "0": "37",
                                    "1": "178",
                                    "2": "Gravad lax",
                                    "3": "11",
                                    "4": "26"
                                },
                                {
                                    "0": "3",
                                    "1": "12",
                                    "2": "Aniseed Syrup",
                                    "3": "13",
                                    "4": "10"
                                },
                                {
                                    "0": "72",
                                    "1": "144",
                                    "2": "Mozzarella di Giovanni",
                                    "3": "14",
                                    "4": "348"
                                },
                                {
                                    "0": "70",
                                    "1": "71",
                                    "2": "Outback Lager",
                                    "3": "15",
                                    "4": "15"
                                },
                                {
                                    "0": "7",
                                    "1": "37",
                                    "2": "Uncle Bob's Organic Dried Pears",
                                    "3": "15",
                                    "4": "30"
                                },
                                {
                                    "0": "48",
                                    "1": "223",
                                    "2": "Chocolade",
                                    "3": "15",
                                    "4": "1275"
                                },
                                {
                                    "0": "26",
                                    "1": "113",
                                    "2": "Gumbär Gummibärchen",
                                    "3": "15",
                                    "4": "3123"
                                },
                                {
                                    "0": "2",
                                    "1": "11",
                                    "2": "Chang",
                                    "3": "17",
                                    "4": "19"
                                },
                                {
                                    "0": "43",
                                    "1": "201",
                                    "2": "Ipoh Coffee",
                                    "3": "17",
                                    "4": "46"
                                },
                                {
                                    "0": "62",
                                    "1": "293",
                                    "2": "Tarte au sucre",
                                    "3": "17",
                                    "4": "493"
                                },
                                {
                                    "0": "38",
                                    "1": "181",
                                    "2": "Côte de Blaye",
                                    "3": "17",
                                    "4": "2635"
                                },
                                {
                                    "0": "60",
                                    "1": "284",
                                    "2": "Camembert Pierrot",
                                    "3": "19",
                                    "4": "34"
                                },
                                {
                                    "0": "35",
                                    "1": "161",
                                    "2": "Steeleye Stout",
                                    "3": "20",
                                    "4": "18"
                                },
                                {
                                    "0": "24",
                                    "1": "1011",
                                    "2": "Guaraná Fantástica",
                                    "3": "20",
                                    "4": "45"
                                },
                                {
                                    "0": "51",
                                    "1": "247",
                                    "2": "Manjimup Dried Apples",
                                    "3": "20",
                                    "4": "53"
                                },
                                {
                                    "0": "56",
                                    "1": "265",
                                    "2": "Gnocchi di nonna Alice",
                                    "3": "21",
                                    "4": "38"
                                },
                                {
                                    "0": "54",
                                    "1": "256",
                                    "2": "Tourtière",
                                    "3": "21",
                                    "4": "745"
                                },
                                {
                                    "0": "11",
                                    "1": "54",
                                    "2": "Queso Cabrales",
                                    "3": "22",
                                    "4": "21"
                                },
                                {
                                    "0": "64",
                                    "1": "125",
                                    "2": "Wimmers gute Semmelknödel",
                                    "3": "22",
                                    "4": "3325"
                                },
                                {
                                    "0": "13",
                                    "1": "68",
                                    "2": "Konbu",
                                    "3": "24",
                                    "4": "6"
                                },
                                {
                                    "0": "63",
                                    "1": "72",
                                    "2": "Vegie-spread",
                                    "3": "24",
                                    "4": "439"
                                },
                                {
                                    "0": "19",
                                    "1": "83",
                                    "2": "Teatime Chocolate Biscuits",
                                    "3": "25",
                                    "4": "92"
                                },
                                {
                                    "0": "42",
                                    "1": "2051",
                                    "2": "Singaporean Hokkien Fried Mee",
                                    "3": "26",
                                    "4": "14"
                                },
                                {
                                    "0": "69",
                                    "1": "154",
                                    "2": "Gudbrandsdalsost",
                                    "3": "26",
                                    "4": "36"
                                },
                                {
                                    "0": "71",
                                    "1": "154",
                                    "2": "Flotemysost",
                                    "3": "26",
                                    "4": "215"
                                },
                                {
                                    "0": "28",
                                    "1": "1271",
                                    "2": "Rössle Sauerkraut",
                                    "3": "26",
                                    "4": "456"
                                },
                                {
                                    "0": "44",
                                    "1": "202",
                                    "2": "Gula Malacca",
                                    "3": "27",
                                    "4": "1945"
                                },
                                {
                                    "0": "9",
                                    "1": "461",
                                    "2": "Mishi Kobe Niku",
                                    "3": "29",
                                    "4": "97"
                                },
                                {
                                    "0": "16",
                                    "1": "73",
                                    "2": "Pavlova",
                                    "3": "29",
                                    "4": "1745"
                                },
                                {
                                    "0": "10",
                                    "1": "48",
                                    "2": "Ikura",
                                    "3": "31",
                                    "4": "31"
                                },
                                {
                                    "0": "77",
                                    "1": "122",
                                    "2": "Original Frankfurter grüne Soße",
                                    "3": "32",
                                    "4": "13"
                                },
                                {
                                    "0": "14",
                                    "1": "67",
                                    "2": "Tofu",
                                    "3": "35",
                                    "4": "2325"
                                },
                                {
                                    "0": "47",
                                    "1": "223",
                                    "2": "Zaanse koeken",
                                    "3": "36",
                                    "4": "95"
                                },
                                {
                                    "0": "57",
                                    "1": "265",
                                    "2": "Ravioli Angelo",
                                    "3": "36",
                                    "4": "195"
                                },
                                {
                                    "0": "52",
                                    "1": "245",
                                    "2": "Filo Mix",
                                    "3": "38",
                                    "4": "7"
                                },
                                {
                                    "0": "1",
                                    "1": "11",
                                    "2": "Chai",
                                    "3": "39",
                                    "4": "18"
                                },
                                {
                                    "0": "15",
                                    "1": "62",
                                    "2": "Genen Shouyu",
                                    "3": "39",
                                    "4": "155"
                                },
                                {
                                    "0": "20",
                                    "1": "83",
                                    "2": "Sir Rodney's Marmalade",
                                    "3": "40",
                                    "4": "81"
                                },
                                {
                                    "0": "18",
                                    "1": "78",
                                    "2": "Carnarvon Tigers",
                                    "3": "42",
                                    "4": "625"
                                },
                                {
                                    "0": "27",
                                    "1": "113",
                                    "2": "Schoggi Schokolade",
                                    "3": "49",
                                    "4": "439"
                                },
                                {
                                    "0": "67",
                                    "1": "161",
                                    "2": "Laughing Lumberjack Lager",
                                    "3": "52",
                                    "4": "14"
                                },
                                {
                                    "0": "4",
                                    "1": "22",
                                    "2": "Chef Anton's Cajun Seasoning",
                                    "3": "53",
                                    "4": "22"
                                },
                                {
                                    "0": "76",
                                    "1": "231",
                                    "2": "Lakkalikööri",
                                    "3": "57",
                                    "4": "18"
                                },
                                {
                                    "0": "23",
                                    "1": "95",
                                    "2": "Tunnbröd",
                                    "3": "61",
                                    "4": "9"
                                },
                                {
                                    "0": "58",
                                    "1": "278",
                                    "2": "Escargots de Bourgogne",
                                    "3": "62",
                                    "4": "1325"
                                },
                                {
                                    "0": "50",
                                    "1": "233",
                                    "2": "Valkoinen suklaa",
                                    "3": "65",
                                    "4": "1625"
                                },
                                {
                                    "0": "39",
                                    "1": "181",
                                    "2": "Chartreuse verte",
                                    "3": "69",
                                    "4": "18"
                                },
                                {
                                    "0": "25",
                                    "1": "113",
                                    "2": "NuNuCa Nuß-Nougat-Creme",
                                    "3": "76",
                                    "4": "14"
                                },
                                {
                                    "0": "65",
                                    "1": "22",
                                    "2": "Louisiana Fiery Hot Pepper Sauce",
                                    "3": "76",
                                    "4": "2105"
                                },
                                {
                                    "0": "59",
                                    "1": "284",
                                    "2": "Raclette Courdavault",
                                    "3": "79",
                                    "4": "55"
                                },
                                {
                                    "0": "41",
                                    "1": "198",
                                    "2": "Jack's New England Clam Chowder",
                                    "3": "85",
                                    "4": "965"
                                },
                                {
                                    "0": "12",
                                    "1": "54",
                                    "2": "Queso Manchego La Pastora",
                                    "3": "86",
                                    "4": "38"
                                },
                                {
                                    "0": "46",
                                    "1": "218",
                                    "2": "Spegesild",
                                    "3": "95",
                                    "4": "12"
                                },
                                {
                                    "0": "73",
                                    "1": "178",
                                    "2": "Röd Kaviar",
                                    "3": "101",
                                    "4": "15"
                                },
                                {
                                    "0": "22",
                                    "1": "95",
                                    "2": "Gustaf's Knäckebröd",
                                    "3": "104",
                                    "4": "21"
                                },
                                {
                                    "0": "34",
                                    "1": "161",
                                    "2": "Sasquatch Ale",
                                    "3": "111",
                                    "4": "14"
                                },
                                {
                                    "0": "36",
                                    "1": "178",
                                    "2": "Inlagd Sill",
                                    "3": "112",
                                    "4": "19"
                                },
                                {
                                    "0": "33",
                                    "1": "154",
                                    "2": "Geitost",
                                    "3": "112",
                                    "4": "25"
                                },
                                {
                                    "0": "61",
                                    "1": "292",
                                    "2": "Sirop d'érable",
                                    "3": "113",
                                    "4": "285"
                                },
                                {
                                    "0": "55",
                                    "1": "256",
                                    "2": "Pâté chinois",
                                    "3": "115",
                                    "4": "24"
                                },
                                {
                                    "0": "6",
                                    "1": "32",
                                    "2": "Grandma's Boysenberry Spread",
                                    "3": "120",
                                    "4": "25"
                                },
                                {
                                    "0": "40",
                                    "1": "198",
                                    "2": "Boston Crab Meat",
                                    "3": "123",
                                    "4": "184"
                                },
                                {
                                    "0": "75",
                                    "1": "121",
                                    "2": "Rhönbräu Klosterbier",
                                    "3": "125",
                                    "4": "775"
                                }
                            ]
                        },
                        "text/html": [
                            "<table>",
                            "<tr><th>itemid</th><th>itemref</th><th>itemname</th><th>quantity</th><th>price</th></tr>",
                            "<tr><td>17</td><td>761</td><td>Alice Mutton</td><td>0</td><td>39</td></tr>",
                            "<tr><td>31</td><td>144</td><td>Gorgonzola Telino</td><td>0</td><td>125</td></tr>",
                            "<tr><td>53</td><td>2461</td><td>Perth Pasties</td><td>0</td><td>328</td></tr>",
                            "<tr><td>5</td><td>221</td><td>Chef Anton's Gumbo Mix</td><td>0</td><td>2135</td></tr>",
                            "<tr><td>29</td><td>1261</td><td>Thüringer Rostbratwurst</td><td>0</td><td>12379</td></tr>",
                            "<tr><td>21</td><td>83</td><td>Sir Rodney's Scones</td><td>3</td><td>10</td></tr>",
                            "<tr><td>74</td><td>47</td><td>Longlife Tofu</td><td>4</td><td>10</td></tr>",
                            "<tr><td>66</td><td>22</td><td>Louisiana Hot Spiced Okra</td><td>4</td><td>17</td></tr>",
                            "<tr><td>45</td><td>218</td><td>Rogede sild</td><td>5</td><td>95</td></tr>",
                            "<tr><td>8</td><td>32</td><td>Northwoods Cranberry Sauce</td><td>6</td><td>40</td></tr>",
                            "<tr><td>68</td><td>83</td><td>Scottish Longbreads</td><td>6</td><td>125</td></tr>",
                            "<tr><td>32</td><td>144</td><td>Mascarpone Fabioli</td><td>9</td><td>32</td></tr>",
                            "<tr><td>49</td><td>233</td><td>Maxilaku</td><td>10</td><td>20</td></tr>",
                            "<tr><td>30</td><td>138</td><td>Nord-Ost Matjeshering</td><td>10</td><td>2589</td></tr>",
                            "<tr><td>37</td><td>178</td><td>Gravad lax</td><td>11</td><td>26</td></tr>",
                            "<tr><td>3</td><td>12</td><td>Aniseed Syrup</td><td>13</td><td>10</td></tr>",
                            "<tr><td>72</td><td>144</td><td>Mozzarella di Giovanni</td><td>14</td><td>348</td></tr>",
                            "<tr><td>70</td><td>71</td><td>Outback Lager</td><td>15</td><td>15</td></tr>",
                            "<tr><td>7</td><td>37</td><td>Uncle Bob's Organic Dried Pears</td><td>15</td><td>30</td></tr>",
                            "<tr><td>48</td><td>223</td><td>Chocolade</td><td>15</td><td>1275</td></tr>",
                            "<tr><td>26</td><td>113</td><td>Gumbär Gummibärchen</td><td>15</td><td>3123</td></tr>",
                            "<tr><td>2</td><td>11</td><td>Chang</td><td>17</td><td>19</td></tr>",
                            "<tr><td>43</td><td>201</td><td>Ipoh Coffee</td><td>17</td><td>46</td></tr>",
                            "<tr><td>62</td><td>293</td><td>Tarte au sucre</td><td>17</td><td>493</td></tr>",
                            "<tr><td>38</td><td>181</td><td>Côte de Blaye</td><td>17</td><td>2635</td></tr>",
                            "<tr><td>60</td><td>284</td><td>Camembert Pierrot</td><td>19</td><td>34</td></tr>",
                            "<tr><td>35</td><td>161</td><td>Steeleye Stout</td><td>20</td><td>18</td></tr>",
                            "<tr><td>24</td><td>1011</td><td>Guaraná Fantástica</td><td>20</td><td>45</td></tr>",
                            "<tr><td>51</td><td>247</td><td>Manjimup Dried Apples</td><td>20</td><td>53</td></tr>",
                            "<tr><td>56</td><td>265</td><td>Gnocchi di nonna Alice</td><td>21</td><td>38</td></tr>",
                            "<tr><td>54</td><td>256</td><td>Tourtière</td><td>21</td><td>745</td></tr>",
                            "<tr><td>11</td><td>54</td><td>Queso Cabrales</td><td>22</td><td>21</td></tr>",
                            "<tr><td>64</td><td>125</td><td>Wimmers gute Semmelknödel</td><td>22</td><td>3325</td></tr>",
                            "<tr><td>13</td><td>68</td><td>Konbu</td><td>24</td><td>6</td></tr>",
                            "<tr><td>63</td><td>72</td><td>Vegie-spread</td><td>24</td><td>439</td></tr>",
                            "<tr><td>19</td><td>83</td><td>Teatime Chocolate Biscuits</td><td>25</td><td>92</td></tr>",
                            "<tr><td>42</td><td>2051</td><td>Singaporean Hokkien Fried Mee</td><td>26</td><td>14</td></tr>",
                            "<tr><td>69</td><td>154</td><td>Gudbrandsdalsost</td><td>26</td><td>36</td></tr>",
                            "<tr><td>71</td><td>154</td><td>Flotemysost</td><td>26</td><td>215</td></tr>",
                            "<tr><td>28</td><td>1271</td><td>Rössle Sauerkraut</td><td>26</td><td>456</td></tr>",
                            "<tr><td>44</td><td>202</td><td>Gula Malacca</td><td>27</td><td>1945</td></tr>",
                            "<tr><td>9</td><td>461</td><td>Mishi Kobe Niku</td><td>29</td><td>97</td></tr>",
                            "<tr><td>16</td><td>73</td><td>Pavlova</td><td>29</td><td>1745</td></tr>",
                            "<tr><td>10</td><td>48</td><td>Ikura</td><td>31</td><td>31</td></tr>",
                            "<tr><td>77</td><td>122</td><td>Original Frankfurter grüne Soße</td><td>32</td><td>13</td></tr>",
                            "<tr><td>14</td><td>67</td><td>Tofu</td><td>35</td><td>2325</td></tr>",
                            "<tr><td>47</td><td>223</td><td>Zaanse koeken</td><td>36</td><td>95</td></tr>",
                            "<tr><td>57</td><td>265</td><td>Ravioli Angelo</td><td>36</td><td>195</td></tr>",
                            "<tr><td>52</td><td>245</td><td>Filo Mix</td><td>38</td><td>7</td></tr>",
                            "<tr><td>1</td><td>11</td><td>Chai</td><td>39</td><td>18</td></tr>",
                            "<tr><td>15</td><td>62</td><td>Genen Shouyu</td><td>39</td><td>155</td></tr>",
                            "<tr><td>20</td><td>83</td><td>Sir Rodney's Marmalade</td><td>40</td><td>81</td></tr>",
                            "<tr><td>18</td><td>78</td><td>Carnarvon Tigers</td><td>42</td><td>625</td></tr>",
                            "<tr><td>27</td><td>113</td><td>Schoggi Schokolade</td><td>49</td><td>439</td></tr>",
                            "<tr><td>67</td><td>161</td><td>Laughing Lumberjack Lager</td><td>52</td><td>14</td></tr>",
                            "<tr><td>4</td><td>22</td><td>Chef Anton's Cajun Seasoning</td><td>53</td><td>22</td></tr>",
                            "<tr><td>76</td><td>231</td><td>Lakkalikööri</td><td>57</td><td>18</td></tr>",
                            "<tr><td>23</td><td>95</td><td>Tunnbröd</td><td>61</td><td>9</td></tr>",
                            "<tr><td>58</td><td>278</td><td>Escargots de Bourgogne</td><td>62</td><td>1325</td></tr>",
                            "<tr><td>50</td><td>233</td><td>Valkoinen suklaa</td><td>65</td><td>1625</td></tr>",
                            "<tr><td>39</td><td>181</td><td>Chartreuse verte</td><td>69</td><td>18</td></tr>",
                            "<tr><td>25</td><td>113</td><td>NuNuCa Nuß-Nougat-Creme</td><td>76</td><td>14</td></tr>",
                            "<tr><td>65</td><td>22</td><td>Louisiana Fiery Hot Pepper Sauce</td><td>76</td><td>2105</td></tr>",
                            "<tr><td>59</td><td>284</td><td>Raclette Courdavault</td><td>79</td><td>55</td></tr>",
                            "<tr><td>41</td><td>198</td><td>Jack's New England Clam Chowder</td><td>85</td><td>965</td></tr>",
                            "<tr><td>12</td><td>54</td><td>Queso Manchego La Pastora</td><td>86</td><td>38</td></tr>",
                            "<tr><td>46</td><td>218</td><td>Spegesild</td><td>95</td><td>12</td></tr>",
                            "<tr><td>73</td><td>178</td><td>Röd Kaviar</td><td>101</td><td>15</td></tr>",
                            "<tr><td>22</td><td>95</td><td>Gustaf's Knäckebröd</td><td>104</td><td>21</td></tr>",
                            "<tr><td>34</td><td>161</td><td>Sasquatch Ale</td><td>111</td><td>14</td></tr>",
                            "<tr><td>36</td><td>178</td><td>Inlagd Sill</td><td>112</td><td>19</td></tr>",
                            "<tr><td>33</td><td>154</td><td>Geitost</td><td>112</td><td>25</td></tr>",
                            "<tr><td>61</td><td>292</td><td>Sirop d'érable</td><td>113</td><td>285</td></tr>",
                            "<tr><td>55</td><td>256</td><td>Pâté chinois</td><td>115</td><td>24</td></tr>",
                            "<tr><td>6</td><td>32</td><td>Grandma's Boysenberry Spread</td><td>120</td><td>25</td></tr>",
                            "<tr><td>40</td><td>198</td><td>Boston Crab Meat</td><td>123</td><td>184</td></tr>",
                            "<tr><td>75</td><td>121</td><td>Rhönbräu Klosterbier</td><td>125</td><td>775</td></tr>",
                            "</table>"
                        ]
                    }
                }
            ],
            "execution_count": 8
        }
    ]
}